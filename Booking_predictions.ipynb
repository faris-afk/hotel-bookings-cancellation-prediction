{
 "cells": [
  {
   "cell_type": "markdown",
   "metadata": {},
   "source": [
    "# I. - PREFACE"
   ]
  },
  {
   "cell_type": "markdown",
   "metadata": {},
   "source": [
    "Nama: Muhammad Fariz Firdaus\n",
    "\n",
    "Batch: SBY002"
   ]
  },
  {
   "cell_type": "markdown",
   "metadata": {},
   "source": [
    "## 1. - Background"
   ]
  },
  {
   "cell_type": "markdown",
   "metadata": {},
   "source": [
    "Hotel booking cancellations are a major problem for the hotel industry, as they might cause significant revenue losses to the owner. In 2022, 20% hotel bookings are being cancelled, which means that 1 out of 5 of the bookings are not realized ([source](https://revenue-hub.com/three-most-common-trends-impacting-cancellation-rates/)). Moreover, cancellations are often unpredictable and depend a lot factors, such as the deposit type, the customer profile, and the seasonality. Therefore, it is important for hotel managers to have a way of forecasting the demand and the cancellation probability for each booking, so that they can optimize their pricing, inventory, and operational strategies.\n",
    "\n",
    "XYZ a tourism company that have been experiencing a lot of cancellation in some of their hotel. They need a classification machine learning model that can help them forecast whether or not a customer is going to cancel their booking."
   ]
  },
  {
   "cell_type": "markdown",
   "metadata": {},
   "source": [
    "## 2. - Objective 🏨"
   ]
  },
  {
   "cell_type": "markdown",
   "metadata": {},
   "source": [
    "The objective of this project is to help XYZ company by building a supervised classification model that can predict whether a booking will be cancelled or not, based on the hotel [booking demand dataset](https://www.kaggle.com/datasets/jessemostipak/hotel-booking-demand). The expected outcome of the project is a machine learning model that can help XYZ's hotel managers reduce the impact of cancellations and increase their revenue."
   ]
  },
  {
   "cell_type": "markdown",
   "metadata": {},
   "source": [
    "# II. - LIBRARIES"
   ]
  },
  {
   "cell_type": "code",
   "execution_count": 1,
   "metadata": {},
   "outputs": [
    {
     "name": "stderr",
     "output_type": "stream",
     "text": [
      "d:\\anaconda3\\Lib\\site-packages\\dask\\dataframe\\_pyarrow_compat.py:23: UserWarning: You are using pyarrow version 11.0.0 which is known to be insecure. See https://www.cve.org/CVERecord?id=CVE-2023-47248 for further details. Please upgrade to pyarrow>=14.0.1 or install pyarrow-hotfix to patch your current version.\n",
      "  warnings.warn(\n"
     ]
    }
   ],
   "source": [
    "# Data manipulation and analysis\n",
    "import pandas as pd  # data manipulation and analysis\n",
    "import numpy as np  # numerical operations\n",
    "\n",
    "# Data visualization\n",
    "import matplotlib.pyplot as plt  # basic plotting library\n",
    "\n",
    "# Statistical analysis\n",
    "import scipy.stats as st  # statistical functions\n",
    "\n",
    "# Machine learning\n",
    "from sklearn.model_selection import train_test_split\n",
    "from sklearn.metrics import accuracy_score, precision_score, recall_score, f1_score  # metrics\n",
    "from sklearn.neighbors import KNeighborsClassifier  # K-nearest neighbors model\n",
    "from sklearn.svm import SVC  # support vector machine model\n",
    "from sklearn.tree import DecisionTreeClassifier  # decision tree model\n",
    "from sklearn.ensemble import RandomForestClassifier, BaggingClassifier, GradientBoostingClassifier, # ensemble models\n",
    "from sklearn.decomposition import PCA  # principal component analysis\n",
    "from sklearn.compose import ColumnTransformer  # to apply different preprocessing to different columns\n",
    "from sklearn.pipeline import Pipeline  # to assemble steps for cross validation\n",
    "from imblearn.pipeline import Pipeline as imbPipeline  # pipeline from imbalanced-learn package\n",
    "from sklearn.model_selection import cross_val_score  # cross validation score\n",
    "from sklearn.preprocessing import FunctionTransformer\n",
    "from sklearn.pipeline import Pipeline\n",
    "import shap\n",
    "\n",
    "# Optimization\n",
    "import optuna  # hyperparameter optimization\n",
    "\n",
    "# Timing\n",
    "import time  # timing execution\n",
    "\n",
    "# Serialization\n",
    "import pickle  # object serialization\n",
    "\n",
    "# disable warnings\n",
    "import warnings\n",
    "warnings.filterwarnings('ignore')  # turn off warnings"
   ]
  },
  {
   "cell_type": "markdown",
   "metadata": {},
   "source": [
    "# III. - DATA LOADING"
   ]
  },
  {
   "cell_type": "markdown",
   "metadata": {},
   "source": [
    "## 1. - Dataset Introduction"
   ]
  },
  {
   "cell_type": "markdown",
   "metadata": {},
   "source": [
    "The dataset i'm using for this project is a dataset from a paper titled [Hotel Booking Demand Dataset](https://www.sciencedirect.com/science/article/pii/S2352340918315191), written by Nuno Antonio, Ana Almeida, and Luis Nunes for Data in Brief, Volume 22, February 2019. This data set contains booking information for a city hotel and a resort hotel, and includes information such as when the booking was made, length of stay, the number of adults, children, and/or babies, and the number of available parking spaces, among other things."
   ]
  },
  {
   "cell_type": "markdown",
   "metadata": {},
   "source": [
    "## 2. - Loading"
   ]
  },
  {
   "cell_type": "code",
   "execution_count": 2,
   "metadata": {},
   "outputs": [],
   "source": [
    "data = pd.read_csv('deployment\\\\hotel_bookings.csv')"
   ]
  },
  {
   "cell_type": "markdown",
   "metadata": {},
   "source": [
    "Save a copy as raw data backup"
   ]
  },
  {
   "cell_type": "code",
   "execution_count": 3,
   "metadata": {},
   "outputs": [],
   "source": [
    "data_copy = data.copy()"
   ]
  },
  {
   "cell_type": "code",
   "execution_count": 4,
   "metadata": {},
   "outputs": [
    {
     "data": {
      "text/html": [
       "<div>\n",
       "<style scoped>\n",
       "    .dataframe tbody tr th:only-of-type {\n",
       "        vertical-align: middle;\n",
       "    }\n",
       "\n",
       "    .dataframe tbody tr th {\n",
       "        vertical-align: top;\n",
       "    }\n",
       "\n",
       "    .dataframe thead th {\n",
       "        text-align: right;\n",
       "    }\n",
       "</style>\n",
       "<table border=\"1\" class=\"dataframe\">\n",
       "  <thead>\n",
       "    <tr style=\"text-align: right;\">\n",
       "      <th></th>\n",
       "      <th>hotel</th>\n",
       "      <th>is_canceled</th>\n",
       "      <th>lead_time</th>\n",
       "      <th>arrival_date_year</th>\n",
       "      <th>arrival_date_month</th>\n",
       "      <th>arrival_date_week_number</th>\n",
       "      <th>arrival_date_day_of_month</th>\n",
       "      <th>stays_in_weekend_nights</th>\n",
       "      <th>stays_in_week_nights</th>\n",
       "      <th>adults</th>\n",
       "      <th>...</th>\n",
       "      <th>deposit_type</th>\n",
       "      <th>agent</th>\n",
       "      <th>company</th>\n",
       "      <th>days_in_waiting_list</th>\n",
       "      <th>customer_type</th>\n",
       "      <th>adr</th>\n",
       "      <th>required_car_parking_spaces</th>\n",
       "      <th>total_of_special_requests</th>\n",
       "      <th>reservation_status</th>\n",
       "      <th>reservation_status_date</th>\n",
       "    </tr>\n",
       "  </thead>\n",
       "  <tbody>\n",
       "    <tr>\n",
       "      <th>0</th>\n",
       "      <td>Resort Hotel</td>\n",
       "      <td>0</td>\n",
       "      <td>342</td>\n",
       "      <td>2015</td>\n",
       "      <td>July</td>\n",
       "      <td>27</td>\n",
       "      <td>1</td>\n",
       "      <td>0</td>\n",
       "      <td>0</td>\n",
       "      <td>2</td>\n",
       "      <td>...</td>\n",
       "      <td>No Deposit</td>\n",
       "      <td>NaN</td>\n",
       "      <td>NaN</td>\n",
       "      <td>0</td>\n",
       "      <td>Transient</td>\n",
       "      <td>0.0</td>\n",
       "      <td>0</td>\n",
       "      <td>0</td>\n",
       "      <td>Check-Out</td>\n",
       "      <td>2015-07-01</td>\n",
       "    </tr>\n",
       "    <tr>\n",
       "      <th>1</th>\n",
       "      <td>Resort Hotel</td>\n",
       "      <td>0</td>\n",
       "      <td>737</td>\n",
       "      <td>2015</td>\n",
       "      <td>July</td>\n",
       "      <td>27</td>\n",
       "      <td>1</td>\n",
       "      <td>0</td>\n",
       "      <td>0</td>\n",
       "      <td>2</td>\n",
       "      <td>...</td>\n",
       "      <td>No Deposit</td>\n",
       "      <td>NaN</td>\n",
       "      <td>NaN</td>\n",
       "      <td>0</td>\n",
       "      <td>Transient</td>\n",
       "      <td>0.0</td>\n",
       "      <td>0</td>\n",
       "      <td>0</td>\n",
       "      <td>Check-Out</td>\n",
       "      <td>2015-07-01</td>\n",
       "    </tr>\n",
       "    <tr>\n",
       "      <th>2</th>\n",
       "      <td>Resort Hotel</td>\n",
       "      <td>0</td>\n",
       "      <td>7</td>\n",
       "      <td>2015</td>\n",
       "      <td>July</td>\n",
       "      <td>27</td>\n",
       "      <td>1</td>\n",
       "      <td>0</td>\n",
       "      <td>1</td>\n",
       "      <td>1</td>\n",
       "      <td>...</td>\n",
       "      <td>No Deposit</td>\n",
       "      <td>NaN</td>\n",
       "      <td>NaN</td>\n",
       "      <td>0</td>\n",
       "      <td>Transient</td>\n",
       "      <td>75.0</td>\n",
       "      <td>0</td>\n",
       "      <td>0</td>\n",
       "      <td>Check-Out</td>\n",
       "      <td>2015-07-02</td>\n",
       "    </tr>\n",
       "    <tr>\n",
       "      <th>3</th>\n",
       "      <td>Resort Hotel</td>\n",
       "      <td>0</td>\n",
       "      <td>13</td>\n",
       "      <td>2015</td>\n",
       "      <td>July</td>\n",
       "      <td>27</td>\n",
       "      <td>1</td>\n",
       "      <td>0</td>\n",
       "      <td>1</td>\n",
       "      <td>1</td>\n",
       "      <td>...</td>\n",
       "      <td>No Deposit</td>\n",
       "      <td>304.0</td>\n",
       "      <td>NaN</td>\n",
       "      <td>0</td>\n",
       "      <td>Transient</td>\n",
       "      <td>75.0</td>\n",
       "      <td>0</td>\n",
       "      <td>0</td>\n",
       "      <td>Check-Out</td>\n",
       "      <td>2015-07-02</td>\n",
       "    </tr>\n",
       "    <tr>\n",
       "      <th>4</th>\n",
       "      <td>Resort Hotel</td>\n",
       "      <td>0</td>\n",
       "      <td>14</td>\n",
       "      <td>2015</td>\n",
       "      <td>July</td>\n",
       "      <td>27</td>\n",
       "      <td>1</td>\n",
       "      <td>0</td>\n",
       "      <td>2</td>\n",
       "      <td>2</td>\n",
       "      <td>...</td>\n",
       "      <td>No Deposit</td>\n",
       "      <td>240.0</td>\n",
       "      <td>NaN</td>\n",
       "      <td>0</td>\n",
       "      <td>Transient</td>\n",
       "      <td>98.0</td>\n",
       "      <td>0</td>\n",
       "      <td>1</td>\n",
       "      <td>Check-Out</td>\n",
       "      <td>2015-07-03</td>\n",
       "    </tr>\n",
       "    <tr>\n",
       "      <th>5</th>\n",
       "      <td>Resort Hotel</td>\n",
       "      <td>0</td>\n",
       "      <td>14</td>\n",
       "      <td>2015</td>\n",
       "      <td>July</td>\n",
       "      <td>27</td>\n",
       "      <td>1</td>\n",
       "      <td>0</td>\n",
       "      <td>2</td>\n",
       "      <td>2</td>\n",
       "      <td>...</td>\n",
       "      <td>No Deposit</td>\n",
       "      <td>240.0</td>\n",
       "      <td>NaN</td>\n",
       "      <td>0</td>\n",
       "      <td>Transient</td>\n",
       "      <td>98.0</td>\n",
       "      <td>0</td>\n",
       "      <td>1</td>\n",
       "      <td>Check-Out</td>\n",
       "      <td>2015-07-03</td>\n",
       "    </tr>\n",
       "    <tr>\n",
       "      <th>6</th>\n",
       "      <td>Resort Hotel</td>\n",
       "      <td>0</td>\n",
       "      <td>0</td>\n",
       "      <td>2015</td>\n",
       "      <td>July</td>\n",
       "      <td>27</td>\n",
       "      <td>1</td>\n",
       "      <td>0</td>\n",
       "      <td>2</td>\n",
       "      <td>2</td>\n",
       "      <td>...</td>\n",
       "      <td>No Deposit</td>\n",
       "      <td>NaN</td>\n",
       "      <td>NaN</td>\n",
       "      <td>0</td>\n",
       "      <td>Transient</td>\n",
       "      <td>107.0</td>\n",
       "      <td>0</td>\n",
       "      <td>0</td>\n",
       "      <td>Check-Out</td>\n",
       "      <td>2015-07-03</td>\n",
       "    </tr>\n",
       "    <tr>\n",
       "      <th>7</th>\n",
       "      <td>Resort Hotel</td>\n",
       "      <td>0</td>\n",
       "      <td>9</td>\n",
       "      <td>2015</td>\n",
       "      <td>July</td>\n",
       "      <td>27</td>\n",
       "      <td>1</td>\n",
       "      <td>0</td>\n",
       "      <td>2</td>\n",
       "      <td>2</td>\n",
       "      <td>...</td>\n",
       "      <td>No Deposit</td>\n",
       "      <td>303.0</td>\n",
       "      <td>NaN</td>\n",
       "      <td>0</td>\n",
       "      <td>Transient</td>\n",
       "      <td>103.0</td>\n",
       "      <td>0</td>\n",
       "      <td>1</td>\n",
       "      <td>Check-Out</td>\n",
       "      <td>2015-07-03</td>\n",
       "    </tr>\n",
       "    <tr>\n",
       "      <th>8</th>\n",
       "      <td>Resort Hotel</td>\n",
       "      <td>1</td>\n",
       "      <td>85</td>\n",
       "      <td>2015</td>\n",
       "      <td>July</td>\n",
       "      <td>27</td>\n",
       "      <td>1</td>\n",
       "      <td>0</td>\n",
       "      <td>3</td>\n",
       "      <td>2</td>\n",
       "      <td>...</td>\n",
       "      <td>No Deposit</td>\n",
       "      <td>240.0</td>\n",
       "      <td>NaN</td>\n",
       "      <td>0</td>\n",
       "      <td>Transient</td>\n",
       "      <td>82.0</td>\n",
       "      <td>0</td>\n",
       "      <td>1</td>\n",
       "      <td>Canceled</td>\n",
       "      <td>2015-05-06</td>\n",
       "    </tr>\n",
       "    <tr>\n",
       "      <th>9</th>\n",
       "      <td>Resort Hotel</td>\n",
       "      <td>1</td>\n",
       "      <td>75</td>\n",
       "      <td>2015</td>\n",
       "      <td>July</td>\n",
       "      <td>27</td>\n",
       "      <td>1</td>\n",
       "      <td>0</td>\n",
       "      <td>3</td>\n",
       "      <td>2</td>\n",
       "      <td>...</td>\n",
       "      <td>No Deposit</td>\n",
       "      <td>15.0</td>\n",
       "      <td>NaN</td>\n",
       "      <td>0</td>\n",
       "      <td>Transient</td>\n",
       "      <td>105.5</td>\n",
       "      <td>0</td>\n",
       "      <td>0</td>\n",
       "      <td>Canceled</td>\n",
       "      <td>2015-04-22</td>\n",
       "    </tr>\n",
       "  </tbody>\n",
       "</table>\n",
       "<p>10 rows × 32 columns</p>\n",
       "</div>"
      ],
      "text/plain": [
       "          hotel  is_canceled  lead_time  arrival_date_year arrival_date_month  \\\n",
       "0  Resort Hotel            0        342               2015               July   \n",
       "1  Resort Hotel            0        737               2015               July   \n",
       "2  Resort Hotel            0          7               2015               July   \n",
       "3  Resort Hotel            0         13               2015               July   \n",
       "4  Resort Hotel            0         14               2015               July   \n",
       "5  Resort Hotel            0         14               2015               July   \n",
       "6  Resort Hotel            0          0               2015               July   \n",
       "7  Resort Hotel            0          9               2015               July   \n",
       "8  Resort Hotel            1         85               2015               July   \n",
       "9  Resort Hotel            1         75               2015               July   \n",
       "\n",
       "   arrival_date_week_number  arrival_date_day_of_month  \\\n",
       "0                        27                          1   \n",
       "1                        27                          1   \n",
       "2                        27                          1   \n",
       "3                        27                          1   \n",
       "4                        27                          1   \n",
       "5                        27                          1   \n",
       "6                        27                          1   \n",
       "7                        27                          1   \n",
       "8                        27                          1   \n",
       "9                        27                          1   \n",
       "\n",
       "   stays_in_weekend_nights  stays_in_week_nights  adults  ...  deposit_type  \\\n",
       "0                        0                     0       2  ...    No Deposit   \n",
       "1                        0                     0       2  ...    No Deposit   \n",
       "2                        0                     1       1  ...    No Deposit   \n",
       "3                        0                     1       1  ...    No Deposit   \n",
       "4                        0                     2       2  ...    No Deposit   \n",
       "5                        0                     2       2  ...    No Deposit   \n",
       "6                        0                     2       2  ...    No Deposit   \n",
       "7                        0                     2       2  ...    No Deposit   \n",
       "8                        0                     3       2  ...    No Deposit   \n",
       "9                        0                     3       2  ...    No Deposit   \n",
       "\n",
       "   agent company days_in_waiting_list customer_type    adr  \\\n",
       "0    NaN     NaN                    0     Transient    0.0   \n",
       "1    NaN     NaN                    0     Transient    0.0   \n",
       "2    NaN     NaN                    0     Transient   75.0   \n",
       "3  304.0     NaN                    0     Transient   75.0   \n",
       "4  240.0     NaN                    0     Transient   98.0   \n",
       "5  240.0     NaN                    0     Transient   98.0   \n",
       "6    NaN     NaN                    0     Transient  107.0   \n",
       "7  303.0     NaN                    0     Transient  103.0   \n",
       "8  240.0     NaN                    0     Transient   82.0   \n",
       "9   15.0     NaN                    0     Transient  105.5   \n",
       "\n",
       "   required_car_parking_spaces  total_of_special_requests  reservation_status  \\\n",
       "0                            0                          0           Check-Out   \n",
       "1                            0                          0           Check-Out   \n",
       "2                            0                          0           Check-Out   \n",
       "3                            0                          0           Check-Out   \n",
       "4                            0                          1           Check-Out   \n",
       "5                            0                          1           Check-Out   \n",
       "6                            0                          0           Check-Out   \n",
       "7                            0                          1           Check-Out   \n",
       "8                            0                          1            Canceled   \n",
       "9                            0                          0            Canceled   \n",
       "\n",
       "  reservation_status_date  \n",
       "0              2015-07-01  \n",
       "1              2015-07-01  \n",
       "2              2015-07-02  \n",
       "3              2015-07-02  \n",
       "4              2015-07-03  \n",
       "5              2015-07-03  \n",
       "6              2015-07-03  \n",
       "7              2015-07-03  \n",
       "8              2015-05-06  \n",
       "9              2015-04-22  \n",
       "\n",
       "[10 rows x 32 columns]"
      ]
     },
     "execution_count": 4,
     "metadata": {},
     "output_type": "execute_result"
    }
   ],
   "source": [
    "data.head(10)"
   ]
  },
  {
   "cell_type": "markdown",
   "metadata": {},
   "source": [
    "The dataset have successfully loaded"
   ]
  },
  {
   "cell_type": "code",
   "execution_count": 5,
   "metadata": {},
   "outputs": [
    {
     "name": "stdout",
     "output_type": "stream",
     "text": [
      "<class 'pandas.core.frame.DataFrame'>\n",
      "RangeIndex: 119390 entries, 0 to 119389\n",
      "Data columns (total 32 columns):\n",
      " #   Column                          Non-Null Count   Dtype  \n",
      "---  ------                          --------------   -----  \n",
      " 0   hotel                           119390 non-null  object \n",
      " 1   is_canceled                     119390 non-null  int64  \n",
      " 2   lead_time                       119390 non-null  int64  \n",
      " 3   arrival_date_year               119390 non-null  int64  \n",
      " 4   arrival_date_month              119390 non-null  object \n",
      " 5   arrival_date_week_number        119390 non-null  int64  \n",
      " 6   arrival_date_day_of_month       119390 non-null  int64  \n",
      " 7   stays_in_weekend_nights         119390 non-null  int64  \n",
      " 8   stays_in_week_nights            119390 non-null  int64  \n",
      " 9   adults                          119390 non-null  int64  \n",
      " 10  children                        119386 non-null  float64\n",
      " 11  babies                          119390 non-null  int64  \n",
      " 12  meal                            119390 non-null  object \n",
      " 13  country                         118902 non-null  object \n",
      " 14  market_segment                  119390 non-null  object \n",
      " 15  distribution_channel            119390 non-null  object \n",
      " 16  is_repeated_guest               119390 non-null  int64  \n",
      " 17  previous_cancellations          119390 non-null  int64  \n",
      " 18  previous_bookings_not_canceled  119390 non-null  int64  \n",
      " 19  reserved_room_type              119390 non-null  object \n",
      " 20  assigned_room_type              119390 non-null  object \n",
      " 21  booking_changes                 119390 non-null  int64  \n",
      " 22  deposit_type                    119390 non-null  object \n",
      " 23  agent                           103050 non-null  float64\n",
      " 24  company                         6797 non-null    float64\n",
      " 25  days_in_waiting_list            119390 non-null  int64  \n",
      " 26  customer_type                   119390 non-null  object \n",
      " 27  adr                             119390 non-null  float64\n",
      " 28  required_car_parking_spaces     119390 non-null  int64  \n",
      " 29  total_of_special_requests       119390 non-null  int64  \n",
      " 30  reservation_status              119390 non-null  object \n",
      " 31  reservation_status_date         119390 non-null  object \n",
      "dtypes: float64(4), int64(16), object(12)\n",
      "memory usage: 29.1+ MB\n"
     ]
    }
   ],
   "source": [
    "data.info()"
   ]
  },
  {
   "cell_type": "markdown",
   "metadata": {},
   "source": [
    "The imported dataframe is a 119390 rows of data with 32 columns, with missing values in some column."
   ]
  },
  {
   "cell_type": "markdown",
   "metadata": {},
   "source": [
    "## 3. - Cleaning"
   ]
  },
  {
   "cell_type": "markdown",
   "metadata": {},
   "source": [
    "For easier EDA later, I need to handle the missing values."
   ]
  },
  {
   "cell_type": "code",
   "execution_count": 6,
   "metadata": {},
   "outputs": [
    {
     "name": "stdout",
     "output_type": "stream",
     "text": [
      "children 0.003350364352123293\n",
      "country 0.40874445095904177\n",
      "agent 13.686238378423655\n",
      "company 94.30689337465449\n"
     ]
    }
   ],
   "source": [
    "for column in data.columns:\n",
    "    percent_missing = data[column].isnull().mean() * 100\n",
    "    if percent_missing > 0:\n",
    "        print(column, percent_missing)"
   ]
  },
  {
   "cell_type": "markdown",
   "metadata": {},
   "source": [
    "Agent and company column represent the identification number of the travel agency or company that made the booking. However, many bookings are made directly by the customers, not by travel agencies, so this column is often empty. So, I will replace the missing values in each of them with 0, and I will remove company column directly as it contains 94% missing values, which won't gives any information."
   ]
  },
  {
   "cell_type": "code",
   "execution_count": 7,
   "metadata": {},
   "outputs": [],
   "source": [
    "data.drop(columns=['company'], inplace=True)\n",
    "data.fillna(0, inplace = True)"
   ]
  },
  {
   "cell_type": "code",
   "execution_count": 8,
   "metadata": {},
   "outputs": [],
   "source": [
    "for column in data.columns:\n",
    "    percent_missing = data[column].isnull().mean() * 100\n",
    "    if percent_missing > 0:\n",
    "        print(column, percent_missing)"
   ]
  },
  {
   "cell_type": "markdown",
   "metadata": {},
   "source": [
    "No more missing value left."
   ]
  },
  {
   "cell_type": "markdown",
   "metadata": {},
   "source": [
    "I noticed while exploring the dataset that some bookings have 0 guests. This mean the column children, adults, and babies are 0. This kind of data is ambigious and might be bad for analysis and prediction. So, I will remove them."
   ]
  },
  {
   "cell_type": "code",
   "execution_count": 9,
   "metadata": {},
   "outputs": [
    {
     "data": {
      "text/plain": [
       "0.1507663958455482"
      ]
     },
     "execution_count": 9,
     "metadata": {},
     "output_type": "execute_result"
    }
   ],
   "source": [
    "filter = (data.children == 0) & (data.adults == 0) & (data.babies == 0)\n",
    "len(data[filter])/len(data) * 100"
   ]
  },
  {
   "cell_type": "markdown",
   "metadata": {},
   "source": [
    "there's 0.15% of them in the dataset, so it's safe to remove them."
   ]
  },
  {
   "cell_type": "code",
   "execution_count": 10,
   "metadata": {},
   "outputs": [
    {
     "data": {
      "text/plain": [
       "(119210, 31)"
      ]
     },
     "execution_count": 10,
     "metadata": {},
     "output_type": "execute_result"
    }
   ],
   "source": [
    "no_guest = data[(data['children'] == 0) & (data['adults'] == 0) & (data['babies'] == 0)].index\n",
    "data_clean = data.drop(no_guest)\n",
    "\n",
    "# drop and reset index of the cleaned new dataset\n",
    "data_clean.reset_index(drop=True, inplace=True)\n",
    "data_clean.shape"
   ]
  },
  {
   "cell_type": "code",
   "execution_count": 11,
   "metadata": {},
   "outputs": [],
   "source": [
    "data_clean.to_csv('deployment\\\\hotel_bookings_clean.csv',index=False)"
   ]
  },
  {
   "cell_type": "markdown",
   "metadata": {},
   "source": [
    "# IV. - EXPLORATORY DATA ANALYSIS (EDA)"
   ]
  },
  {
   "cell_type": "markdown",
   "metadata": {},
   "source": [
    "Data exploration analysis in this project will be done by focusing on some columns."
   ]
  },
  {
   "cell_type": "markdown",
   "metadata": {},
   "source": [
    "## 1. - `country`🌏"
   ]
  },
  {
   "cell_type": "markdown",
   "metadata": {},
   "source": [
    "Country column in the dataset explains the country of origin of each customer who made the booking."
   ]
  },
  {
   "cell_type": "markdown",
   "metadata": {},
   "source": [
    "### 1.1. - What are the most common countries of the bookings for each hotel type?"
   ]
  },
  {
   "cell_type": "code",
   "execution_count": 12,
   "metadata": {},
   "outputs": [
    {
     "name": "stdout",
     "output_type": "stream",
     "text": [
      "hotel         country\n",
      "City Hotel    PRT        30861\n",
      "Resort Hotel  PRT        17622\n",
      "City Hotel    FRA         8791\n",
      "Resort Hotel  GBR         6813\n",
      "City Hotel    DEU         6082\n",
      "              GBR         5307\n",
      "              ESP         4604\n",
      "Resort Hotel  ESP         3956\n",
      "              IRL         2166\n",
      "              FRA         1610\n",
      "Name: count, dtype: int64\n"
     ]
    }
   ],
   "source": [
    "# Group the data by hotel type and count the frequency of each country\n",
    "country_count = data_clean.groupby(\"hotel\")[\"country\"].value_counts()\n",
    "\n",
    "# Sort the results in descending order\n",
    "country_count = country_count.sort_values(ascending=False)\n",
    "\n",
    "# Select the top countries for each hotel type\n",
    "top_countries = country_count.groupby(\"hotel\").head()\n",
    "\n",
    "# Print the results\n",
    "print(top_countries)"
   ]
  },
  {
   "cell_type": "markdown",
   "metadata": {},
   "source": [
    "For the city hotel, the top countries are Portugal (PRT), France (FRA), United Kingdom (GBR), Germany (DEU), and Spain (ESP).\n",
    "\n",
    "For the resort hotel, the top countries are Portugal (PRT), United Kingdom (GBR), Spain (ESP), Ireland (IRL) and France (FRA)."
   ]
  },
  {
   "cell_type": "markdown",
   "metadata": {},
   "source": [
    "For better analysis, I can visualize them using bar chart."
   ]
  },
  {
   "cell_type": "code",
   "execution_count": 13,
   "metadata": {},
   "outputs": [
    {
     "data": {
      "image/png": "[encoded data removed]",
      "text/plain": [
       "<Figure size 1000x600 with 1 Axes>"
      ]
     },
     "metadata": {},
     "output_type": "display_data"
    }
   ],
   "source": [
    "# Plot the bar chart\n",
    "top_countries.unstack().plot(kind=\"bar\", figsize=(10, 6))\n",
    "\n",
    "# Add labels and title\n",
    "plt.xlabel(\"Hotel type\")\n",
    "plt.ylabel(\"Number of guests\")\n",
    "plt.title(\"Most common countries of the reservatons for each hotel type\")\n",
    "\n",
    "# Show the plot\n",
    "plt.show()"
   ]
  },
  {
   "cell_type": "markdown",
   "metadata": {},
   "source": [
    "As can be seen in the visualization, both hotels are very popular in europian countries, especially Portugal."
   ]
  },
  {
   "cell_type": "markdown",
   "metadata": {},
   "source": [
    "Overall, XYZ should target more guests from these top countries. They also should try to explore market potential in countries nearby those top countries, as the citizens may have similar preferences or needs. They should also increase their customer loyalty by customizing their services based on those countries cultures, for example serving sourthern europian dishes, or offering promos on those countries national holidays."
   ]
  },
  {
   "cell_type": "markdown",
   "metadata": {},
   "source": [
    "## 2. - `arrival_date` 📅"
   ]
  },
  {
   "cell_type": "markdown",
   "metadata": {},
   "source": [
    "the column `arrival_date_year` and `arrival_date_month` in the dataset explains the time the customers arrive."
   ]
  },
  {
   "cell_type": "markdown",
   "metadata": {},
   "source": [
    "### 2.1. - What are the peak and low seasons for each hotel type based on the arrival date?"
   ]
  },
  {
   "cell_type": "markdown",
   "metadata": {},
   "source": [
    "to answer this EDA question, I will focus on the month."
   ]
  },
  {
   "cell_type": "code",
   "execution_count": 14,
   "metadata": {},
   "outputs": [
    {
     "data": {
      "image/png": "[encoded data removed]",
      "text/plain": [
       "<Figure size 1000x600 with 1 Axes>"
      ]
     },
     "metadata": {},
     "output_type": "display_data"
    }
   ],
   "source": [
    "# Define the custom order of the months\n",
    "month_order = [\"January\", \"February\", \"March\", \"April\", \"May\", \"June\", \"July\", \"August\", \"September\", \"October\", \"November\", \"December\"]\n",
    "\n",
    "# Convert the arrival_date_month column into a categorical variable with the custom order\n",
    "data_clean[\"arrival_date_month\"] = pd.Categorical(data_clean[\"arrival_date_month\"], categories=month_order, ordered=True)\n",
    "\n",
    "# Group the data by hotel type and arrival date month and count the number of bookings\n",
    "month_count = data_clean.groupby([\"hotel\", \"arrival_date_month\"]).size()\n",
    "\n",
    "# Plot the line chart\n",
    "month_count.unstack(level=0).plot(kind=\"line\", figsize=(10, 6))\n",
    "\n",
    "# Add labels and title\n",
    "plt.xlabel(\"Month\")\n",
    "plt.ylabel(\"Number of bookings\")\n",
    "plt.title(\"Seasonal patterns of demand for each hotel type\")\n",
    "\n",
    "# Show the plot\n",
    "plt.show()"
   ]
  },
  {
   "cell_type": "markdown",
   "metadata": {},
   "source": [
    "Both hotel has similar seasonal pattern where the peak arrival of customers are in August, while the lowest arrival of custumers are in January."
   ]
  },
  {
   "cell_type": "markdown",
   "metadata": {},
   "source": [
    "To adress this, the company should prepare for their services in summer season, especially in August. This recommendation also supported by the fact that summer is holiday season in most europian countries, especially Portugal.\n",
    "\n",
    "To prepare apropriately, the company should also acknowledge the fact that their hotels are not popular in winter, the lowes in January, and will gradually rises again at the end of winter (February)."
   ]
  },
  {
   "cell_type": "markdown",
   "metadata": {},
   "source": [
    "### 2.2. - How do the seasons influence the cancellation rate?"
   ]
  },
  {
   "cell_type": "markdown",
   "metadata": {},
   "source": [
    "First, I have to make season column."
   ]
  },
  {
   "cell_type": "code",
   "execution_count": 15,
   "metadata": {},
   "outputs": [],
   "source": [
    "# Create a season column using a lambda function\n",
    "data_clean[\"season\"] = data_clean[\"arrival_date_month\"].apply(lambda x: \"Winter\" if x in [\"January\", \"February\", \"December\"]\n",
    "                                                            else \"Spring\" if x in [\"March\", \"April\", \"May\"]\n",
    "                                                            else \"Summer\" if x in [\"June\", \"July\", \"August\"]\n",
    "                                                            else \"Fall\")"
   ]
  },
  {
   "cell_type": "code",
   "execution_count": 16,
   "metadata": {},
   "outputs": [
    {
     "name": "stdout",
     "output_type": "stream",
     "text": [
      "Cancellation rate by season and hotel type:\n",
      "season  hotel       \n",
      "Fall    City Hotel      41.595073\n",
      "        Resort Hotel    26.868953\n",
      "Spring  City Hotel      42.926234\n",
      "        Resort Hotel    27.099600\n",
      "Summer  City Hotel      41.840870\n",
      "        Resort Hotel    32.611302\n",
      "Winter  City Hotel      39.995310\n",
      "        Resort Hotel    22.045855\n",
      "dtype: float64\n"
     ]
    }
   ],
   "source": [
    "# Group the data by season and hotel type\n",
    "season_group = data_clean.groupby([\"season\", \"hotel\"])\n",
    "\n",
    "# Calculate the cancellation rate for each season and hotel type\n",
    "cancellation_rate = season_group.apply(lambda x: x[\"is_canceled\"].value_counts(normalize=True)[1] * 100)\n",
    "\n",
    "print(\"Cancellation rate by season and hotel type:\")\n",
    "print(cancellation_rate)"
   ]
  },
  {
   "cell_type": "code",
   "execution_count": 17,
   "metadata": {},
   "outputs": [
    {
     "data": {
      "image/png": "[encoded data removed]",
      "text/plain": [
       "<Figure size 1000x600 with 1 Axes>"
      ]
     },
     "metadata": {},
     "output_type": "display_data"
    }
   ],
   "source": [
    "# Define the custom order of the seasons\n",
    "season_order = [\"Spring\", \"Summer\", \"Fall\", \"Winter\"]\n",
    "\n",
    "# Convert the arrival_date_season column into a categorical variable with the custom order\n",
    "data_clean[\"season\"] = pd.Categorical(data_clean[\"season\"], categories=season_order, ordered=True)\n",
    "\n",
    "# Group the data by hotel type and arrival date season and count the number of bookings\n",
    "season_count = data_clean.groupby([\"hotel\", \"season\"]).size()\n",
    "\n",
    "# Plot the line chart\n",
    "season_count.unstack(level=0).plot(kind=\"line\", figsize=(10, 6))\n",
    "\n",
    "# Add labels and title\n",
    "plt.xlabel(\"season\")\n",
    "plt.ylabel(\"Number of bookings\")\n",
    "plt.title(\"Seasonal patterns of demand for each hotel type\")\n",
    "\n",
    "# Show the plot\n",
    "plt.show()"
   ]
  },
  {
   "cell_type": "markdown",
   "metadata": {},
   "source": [
    "In both hotel, the cancellation is highest in Summer, this makes sense as the reservations are also peaked at Summer."
   ]
  },
  {
   "cell_type": "markdown",
   "metadata": {},
   "source": [
    "To address this, the company may have to implement some policies or incentives to discourage cancellations, especially in the Summer seasons, when the demand is high. For example, the company can charge a cancellation fee."
   ]
  },
  {
   "cell_type": "markdown",
   "metadata": {},
   "source": [
    "## 3. - Average Daily Rate (`adr`) 💰"
   ]
  },
  {
   "cell_type": "markdown",
   "metadata": {},
   "source": [
    "The `adr` is the amount of money that a guest pays per night at a hotel."
   ]
  },
  {
   "cell_type": "markdown",
   "metadata": {},
   "source": [
    "### 3.1. - Is there a significant difference in the average daily rate (`adr`) between the city hotel and the resort hotel?"
   ]
  },
  {
   "cell_type": "markdown",
   "metadata": {},
   "source": [
    "$H0$: there is no difference in the ADR between the city hotel and resort hotel.\n",
    "\n",
    "$H1$: there is a difference in the ADR between the city hotel and resort hotel."
   ]
  },
  {
   "cell_type": "code",
   "execution_count": 18,
   "metadata": {},
   "outputs": [],
   "source": [
    "# Filter the data_clean by hotel type and cancellation status\n",
    "city = data_clean[(data_clean[\"hotel\"] == \"City Hotel\") & (data_clean[\"is_canceled\"] == 0)][\"adr\"]\n",
    "resort = data_clean[(data_clean[\"hotel\"] == \"Resort Hotel\") & (data_clean[\"is_canceled\"] == 0)][\"adr\"]"
   ]
  },
  {
   "cell_type": "code",
   "execution_count": 19,
   "metadata": {},
   "outputs": [
    {
     "name": "stdout",
     "output_type": "stream",
     "text": [
      "City hotel mean ADR: 106.03614117698118\n",
      "Resort hotel mean ADR: 90.82252670515436\n",
      "41.80945015293037 0.0\n"
     ]
    }
   ],
   "source": [
    "# Perform the t-test\n",
    "t_stat, p_value = st.ttest_ind(city, resort, equal_var=True)\n",
    "\n",
    "# Calculate the mean value of each hotel type\n",
    "city_mean = city.mean()\n",
    "resort_mean = resort.mean()\n",
    "\n",
    "# Print the results\n",
    "print(\"City hotel mean ADR:\", city_mean)\n",
    "print(\"Resort hotel mean ADR:\", resort_mean)\n",
    "print(t_stat, p_value)"
   ]
  },
  {
   "cell_type": "code",
   "execution_count": 20,
   "metadata": {},
   "outputs": [
    {
     "name": "stdout",
     "output_type": "stream",
     "text": [
      "Reject H0\n"
     ]
    }
   ],
   "source": [
    "# Menentukan tingkat signifikansi (alpha)\n",
    "alpha = 0.05\n",
    "\n",
    "# Menguji hipotesis\n",
    "if p_value < alpha:\n",
    "    print(\"Reject H0\")\n",
    "else:\n",
    "    print(\"Fail to reject H0\")"
   ]
  },
  {
   "cell_type": "markdown",
   "metadata": {},
   "source": [
    "The H0 is sucessfully rejected, so there is a significance difference between them. The tstat is very large, which means that the `adr` of the city hotel and the resort hotel are very different, with city hotel having higher `idr` generated. XYZ should focus on their city hotel, since it generates more money for them."
   ]
  },
  {
   "cell_type": "markdown",
   "metadata": {},
   "source": [
    "## 4. - `is_canceled` ❌"
   ]
  },
  {
   "cell_type": "markdown",
   "metadata": {},
   "source": [
    "`is_canceled` column explains wheter or not a booking was cancelled by customers."
   ]
  },
  {
   "cell_type": "markdown",
   "metadata": {},
   "source": [
    "### 4.1. - What are the features that minght affect whether or not a bookings is canceled?"
   ]
  },
  {
   "cell_type": "markdown",
   "metadata": {},
   "source": [
    "In this project, I'm going to predict the `is_canceled` column. So, in order to do easier feature engineering later, I need to gain insights about how are the relationships between `is_canceled` compared to all the other columns."
   ]
  },
  {
   "cell_type": "code",
   "execution_count": 21,
   "metadata": {},
   "outputs": [
    {
     "data": {
      "text/plain": [
       "Index(['hotel', 'is_canceled', 'lead_time', 'arrival_date_year',\n",
       "       'arrival_date_month', 'arrival_date_week_number',\n",
       "       'arrival_date_day_of_month', 'stays_in_weekend_nights',\n",
       "       'stays_in_week_nights', 'adults', 'children', 'babies', 'meal',\n",
       "       'country', 'market_segment', 'distribution_channel',\n",
       "       'is_repeated_guest', 'previous_cancellations',\n",
       "       'previous_bookings_not_canceled', 'reserved_room_type',\n",
       "       'assigned_room_type', 'booking_changes', 'deposit_type', 'agent',\n",
       "       'days_in_waiting_list', 'customer_type', 'adr',\n",
       "       'required_car_parking_spaces', 'total_of_special_requests',\n",
       "       'reservation_status', 'reservation_status_date', 'season'],\n",
       "      dtype='object')"
      ]
     },
     "execution_count": 21,
     "metadata": {},
     "output_type": "execute_result"
    }
   ],
   "source": [
    "data_clean.columns"
   ]
  },
  {
   "cell_type": "code",
   "execution_count": 22,
   "metadata": {},
   "outputs": [],
   "source": [
    "col_cat=['hotel', 'arrival_date_month', 'arrival_date_day_of_month',\n",
    "        'meal', 'country', 'market_segment', 'distribution_channel',\n",
    "        'is_repeated_guest', 'reserved_room_type', 'assigned_room_type',\n",
    "        'deposit_type', 'agent', 'customer_type', 'reservation_status',\n",
    "        'reservation_status_date'\n",
    "        ]\n",
    "col_num=['lead_time','arrival_date_year', 'arrival_date_week_number',\n",
    "        'stays_in_weekend_nights', 'stays_in_week_nights', 'adults',\n",
    "        'children', 'babies', 'previous_cancellations',\n",
    "        'previous_bookings_not_canceled', 'booking_changes', 'days_in_waiting_list',\n",
    "        'adr', 'required_car_parking_spaces', 'total_of_special_requests',\n",
    "        ]"
   ]
  },
  {
   "cell_type": "markdown",
   "metadata": {},
   "source": [
    "Because the target output (`is_canceled`) is in the form of categorical data, then to calculate the correlation statistics, I will use `kendall` method for numerical columns, and `chi-squared` method for categorical columns. For easier calculations, I will create a function first."
   ]
  },
  {
   "cell_type": "code",
   "execution_count": 23,
   "metadata": {},
   "outputs": [],
   "source": [
    "def calculate_corr_with_is_canceled(data, column_names, column_type):\n",
    "    \"\"\"\n",
    "    This function calculates how each column is related to the 'is_canceled' column in the DataFrame.\n",
    "    It uses different methods for different types of columns (kendall or chi-square).\n",
    "    It prints the results for each column.\n",
    "    \"\"\"\n",
    "\n",
    "    # Calculate and print the results for each column\n",
    "    for i in range(len(column_names)):\n",
    "        column_name = column_names[i]\n",
    "\n",
    "        if column_type == 'num':\n",
    "            # Use kendall method for numerical columns\n",
    "            method = 'Kendall'\n",
    "            result, p_value = st.kendalltau(data[column_name], data['is_canceled'])\n",
    "\n",
    "        elif column_type == 'cat':\n",
    "            # Use chisquare method for categorical columns\n",
    "            method = 'Chisquare'\n",
    "\n",
    "            # Make a table that shows the frequency of each combination of values\n",
    "            table = pd.crosstab(data[column_name], data['is_canceled'])\n",
    "\n",
    "            # Do the chisquare test on the table\n",
    "            chi2, p_value, dof, expected = st.chi2_contingency(table)\n",
    "\n",
    "            # Calculate the result as the square root of chi2 divided by the number of rows\n",
    "            result = np.sqrt(chi2 / data.shape[0])\n",
    "\n",
    "        print(f\"{method} correlation result for '{column_name}' and 'is_canceled':\")\n",
    "        print(f\"Result: {result}\")\n",
    "        print(f\"P-value: {p_value}\")\n",
    "        print(\"\\n\")\n"
   ]
  },
  {
   "cell_type": "markdown",
   "metadata": {},
   "source": [
    "first for categorical columns."
   ]
  },
  {
   "cell_type": "code",
   "execution_count": 24,
   "metadata": {},
   "outputs": [
    {
     "name": "stdout",
     "output_type": "stream",
     "text": [
      "Chisquare correlation result for 'hotel' and 'is_canceled':\n",
      "Result: 0.13651290309212544\n",
      "P-value: 0.0\n",
      "\n",
      "\n",
      "Chisquare correlation result for 'arrival_date_month' and 'is_canceled':\n",
      "Result: 0.07021986659432775\n",
      "P-value: 3.671822609327152e-119\n",
      "\n",
      "\n",
      "Chisquare correlation result for 'arrival_date_day_of_month' and 'is_canceled':\n",
      "Result: 0.0520198033385949\n",
      "P-value: 7.233901875186373e-51\n",
      "\n",
      "\n",
      "Chisquare correlation result for 'meal' and 'is_canceled':\n",
      "Result: 0.05048024467506253\n",
      "P-value: 1.3212351959124216e-64\n",
      "\n",
      "\n",
      "Chisquare correlation result for 'country' and 'is_canceled':\n",
      "Result: 0.36107186925555834\n",
      "P-value: 0.0\n",
      "\n",
      "\n",
      "Chisquare correlation result for 'market_segment' and 'is_canceled':\n",
      "Result: 0.26678079336123384\n",
      "P-value: 0.0\n",
      "\n",
      "\n",
      "Chisquare correlation result for 'distribution_channel' and 'is_canceled':\n",
      "Result: 0.17712830873840107\n",
      "P-value: 0.0\n",
      "\n",
      "\n",
      "Chisquare correlation result for 'is_repeated_guest' and 'is_canceled':\n",
      "Result: 0.08474407889696026\n",
      "P-value: 1.7841252215934033e-188\n",
      "\n",
      "\n",
      "Chisquare correlation result for 'reserved_room_type' and 'is_canceled':\n",
      "Result: 0.0736628063572444\n",
      "P-value: 1.121956218424043e-133\n",
      "\n",
      "\n",
      "Chisquare correlation result for 'assigned_room_type' and 'is_canceled':\n",
      "Result: 0.2029742285211196\n",
      "P-value: 0.0\n",
      "\n",
      "\n",
      "Chisquare correlation result for 'deposit_type' and 'is_canceled':\n",
      "Result: 0.48147984706556696\n",
      "P-value: 0.0\n",
      "\n",
      "\n",
      "Chisquare correlation result for 'agent' and 'is_canceled':\n",
      "Result: 0.38596241597628556\n",
      "P-value: 0.0\n",
      "\n",
      "\n",
      "Chisquare correlation result for 'customer_type' and 'is_canceled':\n",
      "Result: 0.1364386190905123\n",
      "P-value: 0.0\n",
      "\n",
      "\n",
      "Chisquare correlation result for 'reservation_status' and 'is_canceled':\n",
      "Result: 0.9999999999999999\n",
      "P-value: 0.0\n",
      "\n",
      "\n",
      "Chisquare correlation result for 'reservation_status_date' and 'is_canceled':\n",
      "Result: 0.48792316300083727\n",
      "P-value: 0.0\n",
      "\n",
      "\n"
     ]
    }
   ],
   "source": [
    "calculate_corr_with_is_canceled(data, col_cat, 'cat')"
   ]
  },
  {
   "cell_type": "markdown",
   "metadata": {},
   "source": [
    "now numerical columns."
   ]
  },
  {
   "cell_type": "code",
   "execution_count": 25,
   "metadata": {},
   "outputs": [
    {
     "name": "stdout",
     "output_type": "stream",
     "text": [
      "Kendall correlation result for 'lead_time' and 'is_canceled':\n",
      "Result: 0.25952805130209367\n",
      "P-value: 0.0\n",
      "\n",
      "\n",
      "Kendall correlation result for 'arrival_date_year' and 'is_canceled':\n",
      "Result: 0.01718146692538044\n",
      "P-value: 4.311235517981863e-10\n",
      "\n",
      "\n",
      "Kendall correlation result for 'arrival_date_week_number' and 'is_canceled':\n",
      "Result: 0.006258358232382134\n",
      "P-value: 0.008737568414915908\n",
      "\n",
      "\n",
      "Kendall correlation result for 'stays_in_weekend_nights' and 'is_canceled':\n",
      "Result: -0.0038496457024229207\n",
      "P-value: 0.1560259966856238\n",
      "\n",
      "\n",
      "Kendall correlation result for 'stays_in_week_nights' and 'is_canceled':\n",
      "Result: 0.036872441330369536\n",
      "P-value: 1.8695287571190324e-46\n",
      "\n",
      "\n",
      "Kendall correlation result for 'adults' and 'is_canceled':\n",
      "Result: 0.06560449047857986\n",
      "P-value: 1.166735480451581e-118\n",
      "\n",
      "\n",
      "Kendall correlation result for 'children' and 'is_canceled':\n",
      "Result: -0.0027780572046767977\n",
      "P-value: 0.33281247323361207\n",
      "\n",
      "\n",
      "Kendall correlation result for 'babies' and 'is_canceled':\n",
      "Result: -0.03430407545526752\n",
      "P-value: 2.0560314491378691e-32\n",
      "\n",
      "\n",
      "Kendall correlation result for 'previous_cancellations' and 'is_canceled':\n",
      "Result: 0.26976247547962445\n",
      "P-value: 0.0\n",
      "\n",
      "\n",
      "Kendall correlation result for 'previous_bookings_not_canceled' and 'is_canceled':\n",
      "Result: -0.11467858809275581\n",
      "P-value: 0.0\n",
      "\n",
      "\n",
      "Kendall correlation result for 'booking_changes' and 'is_canceled':\n",
      "Result: -0.1819562604154035\n",
      "P-value: 0.0\n",
      "\n",
      "\n",
      "Kendall correlation result for 'days_in_waiting_list' and 'is_canceled':\n",
      "Result: 0.09749187967151487\n",
      "P-value: 1.5217395683419688e-252\n",
      "\n",
      "\n",
      "Kendall correlation result for 'adr' and 'is_canceled':\n",
      "Result: 0.041655886697688535\n",
      "P-value: 3.567325065817717e-69\n",
      "\n",
      "\n",
      "Kendall correlation result for 'required_car_parking_spaces' and 'is_canceled':\n",
      "Result: -0.19736985194371448\n",
      "P-value: 0.0\n",
      "\n",
      "\n",
      "Kendall correlation result for 'total_of_special_requests' and 'is_canceled':\n",
      "Result: -0.24721873675465506\n",
      "P-value: 0.0\n",
      "\n",
      "\n"
     ]
    }
   ],
   "source": [
    "calculate_corr_with_is_canceled(data, col_num, 'num')"
   ]
  },
  {
   "cell_type": "markdown",
   "metadata": {},
   "source": [
    "I'm going to filter them based on their p-value. columns with p-value lower than 0.05 means their correlation with diabetic are by chance."
   ]
  },
  {
   "cell_type": "markdown",
   "metadata": {},
   "source": [
    "Here is a list of useless columns based on the Kendall and chi square correlation results:"
   ]
  },
  {
   "cell_type": "code",
   "execution_count": 26,
   "metadata": {},
   "outputs": [],
   "source": [
    "useless_col = ['days_in_waiting_list', 'arrival_date_year', 'arrival_date_year', 'assigned_room_type', 'booking_changes',\n",
    "            'reservation_status', 'country', 'days_in_waiting_list']"
   ]
  },
  {
   "cell_type": "markdown",
   "metadata": {},
   "source": [
    "# V. - FEATURE ENGINEERING"
   ]
  },
  {
   "cell_type": "markdown",
   "metadata": {},
   "source": [
    "## 1. - Split Features(X) dan target (y)"
   ]
  },
  {
   "cell_type": "code",
   "execution_count": 27,
   "metadata": {},
   "outputs": [],
   "source": [
    "# separate X and y by focusing on default_payment_next_month column\n",
    "X = data_clean.drop('is_canceled', axis=1)\n",
    "y = data_clean['is_canceled']"
   ]
  },
  {
   "cell_type": "code",
   "execution_count": 28,
   "metadata": {},
   "outputs": [
    {
     "name": "stdout",
     "output_type": "stream",
     "text": [
      "Feature (X) : (119210, 31)\n",
      "Target (y) : (119210,)\n"
     ]
    }
   ],
   "source": [
    "# Print the new shape\n",
    "print('Feature (X) :', X.shape)\n",
    "print('Target (y) :', y.shape)"
   ]
  },
  {
   "cell_type": "markdown",
   "metadata": {},
   "source": [
    "X is a datafreame with 119210 rows and 31 columns."
   ]
  },
  {
   "cell_type": "markdown",
   "metadata": {},
   "source": [
    "Because the model that I'm going to make is a classification model, I will also calculate the ratio for each prediction class, to check for data imbalance."
   ]
  },
  {
   "cell_type": "code",
   "execution_count": 29,
   "metadata": {},
   "outputs": [
    {
     "data": {
      "text/plain": [
       "is_canceled\n",
       "0    75011\n",
       "1    44199\n",
       "Name: count, dtype: int64"
      ]
     },
     "execution_count": 29,
     "metadata": {},
     "output_type": "execute_result"
    }
   ],
   "source": [
    "y.value_counts()"
   ]
  },
  {
   "cell_type": "markdown",
   "metadata": {},
   "source": [
    "class 0 = 62.9%, class 1 = 33.1%\n",
    "\n",
    "This means the dataset is just mildly imbalanced, where 33.1% reservations are canceled, while the rest are not."
   ]
  },
  {
   "cell_type": "markdown",
   "metadata": {},
   "source": [
    "## 3. - Split Train set and Test set"
   ]
  },
  {
   "cell_type": "code",
   "execution_count": 30,
   "metadata": {},
   "outputs": [
    {
     "name": "stdout",
     "output_type": "stream",
     "text": [
      "Train Size : (79870, 31)\n",
      "Test Size : (39340, 31)\n",
      "Train Size : (79870,)\n",
      "Test Size : (39340,)\n"
     ]
    }
   ],
   "source": [
    "# split data train and test\n",
    "X_train, X_test, y_train, y_test = train_test_split(X, y, test_size = 0.33, stratify=y, random_state=2)\n",
    "\n",
    "print('Train Size :', X_train.shape)\n",
    "print('Test Size :', X_test.shape)\n",
    "print('Train Size :', y_train.shape)\n",
    "print('Test Size :', y_test.shape) "
   ]
  },
  {
   "cell_type": "markdown",
   "metadata": {},
   "source": [
    "With the ratio of 7:3, the train and test sets are created for model training and evaluation purposes."
   ]
  },
  {
   "cell_type": "markdown",
   "metadata": {},
   "source": [
    "## 4. - Feature Selection"
   ]
  },
  {
   "cell_type": "code",
   "execution_count": 31,
   "metadata": {},
   "outputs": [],
   "source": [
    "# redefine X_train based on column to keep\n",
    "X_train.drop(useless_col, axis = 1, inplace = True)\n",
    "X_test.drop(useless_col, axis = 1, inplace = True)"
   ]
  },
  {
   "cell_type": "code",
   "execution_count": 32,
   "metadata": {},
   "outputs": [
    {
     "name": "stdout",
     "output_type": "stream",
     "text": [
      "Train Size : (79870, 25)\n",
      "Test Size : (39340, 25)\n"
     ]
    }
   ],
   "source": [
    "# Print the new shape\n",
    "print('Train Size :', X_train.shape)\n",
    "print('Test Size :', X_test.shape)"
   ]
  },
  {
   "cell_type": "markdown",
   "metadata": {},
   "source": [
    "Now only 25 columns remaining that act as the features (X)."
   ]
  },
  {
   "cell_type": "markdown",
   "metadata": {},
   "source": [
    "## 5. - Feature Creation"
   ]
  },
  {
   "cell_type": "markdown",
   "metadata": {},
   "source": [
    "To reduce cardinality, I will extract day, month, and year columns from reservation_statuse_date."
   ]
  },
  {
   "cell_type": "code",
   "execution_count": 34,
   "metadata": {},
   "outputs": [
    {
     "data": {
      "text/html": [
       "<div>\n",
       "<style scoped>\n",
       "    .dataframe tbody tr th:only-of-type {\n",
       "        vertical-align: middle;\n",
       "    }\n",
       "\n",
       "    .dataframe tbody tr th {\n",
       "        vertical-align: top;\n",
       "    }\n",
       "\n",
       "    .dataframe thead th {\n",
       "        text-align: right;\n",
       "    }\n",
       "</style>\n",
       "<table border=\"1\" class=\"dataframe\">\n",
       "  <thead>\n",
       "    <tr style=\"text-align: right;\">\n",
       "      <th></th>\n",
       "      <th>hotel</th>\n",
       "      <th>lead_time</th>\n",
       "      <th>arrival_date_week_number</th>\n",
       "      <th>arrival_date_day_of_month</th>\n",
       "      <th>stays_in_weekend_nights</th>\n",
       "      <th>stays_in_week_nights</th>\n",
       "      <th>adults</th>\n",
       "      <th>children</th>\n",
       "      <th>babies</th>\n",
       "      <th>meal</th>\n",
       "      <th>...</th>\n",
       "      <th>deposit_type</th>\n",
       "      <th>agent</th>\n",
       "      <th>customer_type</th>\n",
       "      <th>adr</th>\n",
       "      <th>required_car_parking_spaces</th>\n",
       "      <th>total_of_special_requests</th>\n",
       "      <th>season</th>\n",
       "      <th>year</th>\n",
       "      <th>month</th>\n",
       "      <th>day</th>\n",
       "    </tr>\n",
       "  </thead>\n",
       "  <tbody>\n",
       "    <tr>\n",
       "      <th>58882</th>\n",
       "      <td>City Hotel</td>\n",
       "      <td>605</td>\n",
       "      <td>43</td>\n",
       "      <td>17</td>\n",
       "      <td>1</td>\n",
       "      <td>2</td>\n",
       "      <td>2</td>\n",
       "      <td>0.0</td>\n",
       "      <td>0</td>\n",
       "      <td>BB</td>\n",
       "      <td>...</td>\n",
       "      <td>Non Refund</td>\n",
       "      <td>1.0</td>\n",
       "      <td>Transient</td>\n",
       "      <td>60.00</td>\n",
       "      <td>0</td>\n",
       "      <td>0</td>\n",
       "      <td>Fall</td>\n",
       "      <td>2016</td>\n",
       "      <td>9</td>\n",
       "      <td>20</td>\n",
       "    </tr>\n",
       "    <tr>\n",
       "      <th>15178</th>\n",
       "      <td>Resort Hotel</td>\n",
       "      <td>253</td>\n",
       "      <td>37</td>\n",
       "      <td>12</td>\n",
       "      <td>2</td>\n",
       "      <td>5</td>\n",
       "      <td>2</td>\n",
       "      <td>0.0</td>\n",
       "      <td>0</td>\n",
       "      <td>BB</td>\n",
       "      <td>...</td>\n",
       "      <td>Non Refund</td>\n",
       "      <td>96.0</td>\n",
       "      <td>Transient</td>\n",
       "      <td>58.95</td>\n",
       "      <td>0</td>\n",
       "      <td>0</td>\n",
       "      <td>Fall</td>\n",
       "      <td>2015</td>\n",
       "      <td>6</td>\n",
       "      <td>17</td>\n",
       "    </tr>\n",
       "    <tr>\n",
       "      <th>53102</th>\n",
       "      <td>City Hotel</td>\n",
       "      <td>344</td>\n",
       "      <td>25</td>\n",
       "      <td>16</td>\n",
       "      <td>0</td>\n",
       "      <td>2</td>\n",
       "      <td>2</td>\n",
       "      <td>0.0</td>\n",
       "      <td>0</td>\n",
       "      <td>BB</td>\n",
       "      <td>...</td>\n",
       "      <td>Non Refund</td>\n",
       "      <td>1.0</td>\n",
       "      <td>Transient</td>\n",
       "      <td>62.00</td>\n",
       "      <td>0</td>\n",
       "      <td>0</td>\n",
       "      <td>Summer</td>\n",
       "      <td>2015</td>\n",
       "      <td>10</td>\n",
       "      <td>21</td>\n",
       "    </tr>\n",
       "    <tr>\n",
       "      <th>97363</th>\n",
       "      <td>City Hotel</td>\n",
       "      <td>31</td>\n",
       "      <td>38</td>\n",
       "      <td>16</td>\n",
       "      <td>0</td>\n",
       "      <td>1</td>\n",
       "      <td>2</td>\n",
       "      <td>0.0</td>\n",
       "      <td>0</td>\n",
       "      <td>SC</td>\n",
       "      <td>...</td>\n",
       "      <td>No Deposit</td>\n",
       "      <td>8.0</td>\n",
       "      <td>Transient</td>\n",
       "      <td>125.10</td>\n",
       "      <td>0</td>\n",
       "      <td>1</td>\n",
       "      <td>Fall</td>\n",
       "      <td>2016</td>\n",
       "      <td>9</td>\n",
       "      <td>17</td>\n",
       "    </tr>\n",
       "    <tr>\n",
       "      <th>52643</th>\n",
       "      <td>City Hotel</td>\n",
       "      <td>130</td>\n",
       "      <td>24</td>\n",
       "      <td>9</td>\n",
       "      <td>0</td>\n",
       "      <td>2</td>\n",
       "      <td>3</td>\n",
       "      <td>0.0</td>\n",
       "      <td>0</td>\n",
       "      <td>BB</td>\n",
       "      <td>...</td>\n",
       "      <td>No Deposit</td>\n",
       "      <td>9.0</td>\n",
       "      <td>Transient</td>\n",
       "      <td>159.30</td>\n",
       "      <td>0</td>\n",
       "      <td>0</td>\n",
       "      <td>Summer</td>\n",
       "      <td>2016</td>\n",
       "      <td>2</td>\n",
       "      <td>15</td>\n",
       "    </tr>\n",
       "  </tbody>\n",
       "</table>\n",
       "<p>5 rows × 26 columns</p>\n",
       "</div>"
      ],
      "text/plain": [
       "              hotel  lead_time  arrival_date_week_number  \\\n",
       "58882    City Hotel        605                        43   \n",
       "15178  Resort Hotel        253                        37   \n",
       "53102    City Hotel        344                        25   \n",
       "97363    City Hotel         31                        38   \n",
       "52643    City Hotel        130                        24   \n",
       "\n",
       "       arrival_date_day_of_month  stays_in_weekend_nights  \\\n",
       "58882                         17                        1   \n",
       "15178                         12                        2   \n",
       "53102                         16                        0   \n",
       "97363                         16                        0   \n",
       "52643                          9                        0   \n",
       "\n",
       "       stays_in_week_nights  adults  children  babies meal  ... deposit_type  \\\n",
       "58882                     2       2       0.0       0   BB  ...   Non Refund   \n",
       "15178                     5       2       0.0       0   BB  ...   Non Refund   \n",
       "53102                     2       2       0.0       0   BB  ...   Non Refund   \n",
       "97363                     1       2       0.0       0   SC  ...   No Deposit   \n",
       "52643                     2       3       0.0       0   BB  ...   No Deposit   \n",
       "\n",
       "      agent  customer_type     adr  required_car_parking_spaces  \\\n",
       "58882   1.0      Transient   60.00                            0   \n",
       "15178  96.0      Transient   58.95                            0   \n",
       "53102   1.0      Transient   62.00                            0   \n",
       "97363   8.0      Transient  125.10                            0   \n",
       "52643   9.0      Transient  159.30                            0   \n",
       "\n",
       "      total_of_special_requests  season  year month  day  \n",
       "58882                         0    Fall  2016     9   20  \n",
       "15178                         0    Fall  2015     6   17  \n",
       "53102                         0  Summer  2015    10   21  \n",
       "97363                         1    Fall  2016     9   17  \n",
       "52643                         0  Summer  2016     2   15  \n",
       "\n",
       "[5 rows x 26 columns]"
      ]
     },
     "execution_count": 34,
     "metadata": {},
     "output_type": "execute_result"
    }
   ],
   "source": [
    "X_test['reservation_status_date'] = pd.to_datetime(X_test['reservation_status_date'])\n",
    "\n",
    "X_test['year'] = X_test['reservation_status_date'].dt.year\n",
    "X_test['month'] = X_test['reservation_status_date'].dt.month\n",
    "X_test['day'] = X_test['reservation_status_date'].dt.day\n",
    "\n",
    "X_test.drop(['reservation_status_date','arrival_date_month'] , axis = 1, inplace = True) # these column become useless\n",
    "\n",
    "X_test.head()"
   ]
  },
  {
   "cell_type": "markdown",
   "metadata": {},
   "source": [
    "## 5. - Split numerical column and categorical column"
   ]
  },
  {
   "cell_type": "code",
   "execution_count": 35,
   "metadata": {},
   "outputs": [],
   "source": [
    "cat_col = ['hotel', 'meal', 'market_segment', 'distribution_channel', 'is_repeated_guest', 'reserved_room_type', 'deposit_type', 'customer_type', 'season', 'year', 'month', 'day']\n",
    "num_col = ['lead_time', 'arrival_date_week_number', 'arrival_date_day_of_month', 'stays_in_weekend_nights', 'stays_in_week_nights', 'adults', 'children', 'babies', 'previous_cancellations', 'previous_bookings_not_canceled', 'agent', 'adr', 'required_car_parking_spaces', 'total_of_special_requests']"
   ]
  },
  {
   "cell_type": "code",
   "execution_count": 36,
   "metadata": {},
   "outputs": [],
   "source": [
    "# split based on data type\n",
    "X_train_cat = X_train[cat_col]\n",
    "X_train_num = X_train[num_col]\n",
    "X_test_cat = X_test[cat_col]\n",
    "X_test_num = X_test[num_col]"
   ]
  },
  {
   "cell_type": "code",
   "execution_count": 37,
   "metadata": {},
   "outputs": [],
   "source": [
    "# Negative columns doesnt make sense in this case\n",
    "rows_with_negative = X_train_num.lt(0).any(axis=1)\n",
    "X_train_num = X_train_num.loc[~rows_with_negative]\n",
    "X_train = X_train.loc[X_train_num.index]\n",
    "y_train = y_train.loc[X_train_num.index]"
   ]
  },
  {
   "cell_type": "markdown",
   "metadata": {},
   "source": [
    "## 8. - Feature Scaling and Encoding"
   ]
  },
  {
   "cell_type": "markdown",
   "metadata": {},
   "source": [
    "### 8.1. - Scaling"
   ]
  },
  {
   "cell_type": "markdown",
   "metadata": {},
   "source": [
    "First, I need to identify the skewed columns before normalizing them."
   ]
  },
  {
   "cell_type": "code",
   "execution_count": 38,
   "metadata": {},
   "outputs": [
    {
     "data": {
      "text/plain": [
       "lead_time                         11371.955557\n",
       "arrival_date_week_number            185.407314\n",
       "arrival_date_day_of_month            77.090384\n",
       "stays_in_weekend_nights               0.992416\n",
       "stays_in_week_nights                  3.620064\n",
       "adults                                0.359867\n",
       "children                              0.158914\n",
       "babies                                0.008878\n",
       "previous_cancellations                0.693635\n",
       "previous_bookings_not_canceled        2.351813\n",
       "agent                             11502.175038\n",
       "adr                                2656.446357\n",
       "required_car_parking_spaces           0.059597\n",
       "total_of_special_requests             0.629499\n",
       "dtype: float64"
      ]
     },
     "execution_count": 38,
     "metadata": {},
     "output_type": "execute_result"
    }
   ],
   "source": [
    "X_train_num.var()"
   ]
  },
  {
   "cell_type": "markdown",
   "metadata": {},
   "source": [
    "For this project, I set the treshold for normal distribution data is 5 variance. I will normalize those that has high variance."
   ]
  },
  {
   "cell_type": "markdown",
   "metadata": {},
   "source": [
    "Having low values of variance in each columns will help the model predict."
   ]
  },
  {
   "cell_type": "code",
   "execution_count": 40,
   "metadata": {},
   "outputs": [],
   "source": [
    "def normalize(df):\n",
    "    df['lead_time'] = np.log(df['lead_time'] + 1)\n",
    "    df['arrival_date_week_number'] = np.log(df['arrival_date_week_number'] + 1)\n",
    "    df['arrival_date_day_of_month'] = np.log(df['arrival_date_day_of_month'] + 1)\n",
    "    df['agent'] = np.log(df['agent'] + 1)\n",
    "    df['adr'] = np.log(df['adr'] + 1)\n",
    "    return df"
   ]
  },
  {
   "cell_type": "code",
   "execution_count": 41,
   "metadata": {},
   "outputs": [],
   "source": [
    "# Create a FunctionTransformer instance\n",
    "normalize_transformer = FunctionTransformer(normalize)"
   ]
  },
  {
   "cell_type": "markdown",
   "metadata": {},
   "source": [
    "### 8.2. - Encoding"
   ]
  },
  {
   "cell_type": "code",
   "execution_count": 42,
   "metadata": {},
   "outputs": [],
   "source": [
    "def encode(df):\n",
    "    df['hotel'] = df['hotel'].map({'Resort Hotel' : 0, 'City Hotel' : 1})\n",
    "    df['meal'] = df['meal'].map({'BB' : 0, 'FB': 1, 'HB': 2, 'SC': 3, 'Undefined': 4})\n",
    "    df['market_segment'] = df['market_segment'].map({'Direct': 0, 'Corporate': 1, 'Online TA': 2, 'Offline TA/TO': 3, 'Complementary': 4, 'Groups': 5, 'Undefined': 6, 'Aviation': 7})\n",
    "    df['distribution_channel'] = df['distribution_channel'].map({'Direct': 0, 'Corporate': 1, 'TA/TO': 2, 'Undefined': 3, 'GDS': 4})\n",
    "    df['reserved_room_type'] = df['reserved_room_type'].map({'A': 0, 'B': 1, 'C': 2, 'D': 3, 'E': 4, 'F': 5, 'G': 6, 'H': 7, 'I': 8, 'J': 9, 'K': 10, 'L': 11})\n",
    "    df['deposit_type'] = df['deposit_type'].map({'No Deposit': 0, 'Refundable': 1, 'Non Refund': 3})\n",
    "    df['customer_type'] = df['customer_type'].map({'Transient': 0, 'Contract': 1, 'Transient-Party': 2, 'Group': 3})\n",
    "    df['season'] = df['season'].map({'Spring':0, 'Summer':1, 'Fall':2, 'Winter':3})\n",
    "    df['year'] = df['year'].map({2015: 0, 2014: 1, 2016: 2, 2017: 3})\n",
    "    return df"
   ]
  },
  {
   "cell_type": "code",
   "execution_count": 43,
   "metadata": {},
   "outputs": [],
   "source": [
    "# Create a FunctionTransformer instance\n",
    "encode_transformer = FunctionTransformer(encode)"
   ]
  },
  {
   "cell_type": "code",
   "execution_count": 44,
   "metadata": {},
   "outputs": [],
   "source": [
    "# Create the column transformer\n",
    "preprocessor = ColumnTransformer(transformers=[\n",
    "        ('num', normalize_transformer, num_col),\n",
    "        ('cat', encode_transformer, cat_col)\n",
    "        ])"
   ]
  },
  {
   "cell_type": "markdown",
   "metadata": {},
   "source": [
    "# VI. - MODEL DEFINITION"
   ]
  },
  {
   "cell_type": "markdown",
   "metadata": {},
   "source": [
    "For this project, I will use multiple machine learning algorithm to see which algorithm fits the case perfectly. The algorithm I'm going to use are:\n",
    "1. K-Nearest Neighbour\n",
    "2. Support Vector Machine\n",
    "3. Decision Tree\n",
    "4. Random Forest\n",
    "5. GradientBoosting Classifier"
   ]
  },
  {
   "cell_type": "markdown",
   "metadata": {},
   "source": [
    "## 1. - K-Nearest Neighbour (KNN)"
   ]
  },
  {
   "cell_type": "code",
   "execution_count": 45,
   "metadata": {},
   "outputs": [],
   "source": [
    "knn_step = KNeighborsClassifier()"
   ]
  },
  {
   "cell_type": "markdown",
   "metadata": {},
   "source": [
    "## 2. - Support Vector Machine (SVM) using Bagging Clasifier"
   ]
  },
  {
   "cell_type": "markdown",
   "metadata": {},
   "source": [
    "In this project, I'm using svc in a bagging classifier wrapper, rather than dierctly using svc. How this ensemble model works is by running many small SVC, insead of just one big SVC. Each SVC will make predictions on each subset of data, then the bagging classifier will implement bagging method, which is combining all results to gives final answer."
   ]
  },
  {
   "cell_type": "code",
   "execution_count": 46,
   "metadata": {},
   "outputs": [],
   "source": [
    "svm_step = BaggingClassifier(SVC(kernel='linear', probability=True, class_weight='balanced'), max_samples=0.1, n_estimators=5, random_state=2, n_jobs=-1)"
   ]
  },
  {
   "cell_type": "markdown",
   "metadata": {},
   "source": [
    "## 3. - Decision Tree"
   ]
  },
  {
   "cell_type": "code",
   "execution_count": 47,
   "metadata": {},
   "outputs": [],
   "source": [
    "tree_step = DecisionTreeClassifier()"
   ]
  },
  {
   "cell_type": "markdown",
   "metadata": {},
   "source": [
    "## 4. - Random Forest"
   ]
  },
  {
   "cell_type": "code",
   "execution_count": 48,
   "metadata": {},
   "outputs": [],
   "source": [
    "forest_step = RandomForestClassifier(random_state=2, n_jobs=-1)"
   ]
  },
  {
   "cell_type": "markdown",
   "metadata": {},
   "source": [
    "## 5. - GradientBoosting Classifier"
   ]
  },
  {
   "cell_type": "code",
   "execution_count": 49,
   "metadata": {},
   "outputs": [],
   "source": [
    "GradientBoosting_step = GradientBoostingClassifier()"
   ]
  },
  {
   "cell_type": "markdown",
   "metadata": {},
   "source": [
    "# VII. MODEL TRAINING"
   ]
  },
  {
   "cell_type": "markdown",
   "metadata": {},
   "source": [
    "For model training, I will define and fit a pipeline for each model."
   ]
  },
  {
   "cell_type": "markdown",
   "metadata": {},
   "source": [
    "## 1. - K-Nearest Neighbour (K-NN)"
   ]
  },
  {
   "cell_type": "code",
   "execution_count": 50,
   "metadata": {},
   "outputs": [],
   "source": [
    "# Create a pipeline for KNN model\n",
    "pipeline_knn = Pipeline(steps=[\n",
    "    (\"preprocessing\", preprocessor),\n",
    "    (\"model\", knn_step)\n",
    "])"
   ]
  },
  {
   "cell_type": "code",
   "execution_count": 51,
   "metadata": {},
   "outputs": [
    {
     "data": {
      "text/html": [
       "<style>#sk-container-id-1 {color: black;background-color: white;}#sk-container-id-1 pre{padding: 0;}#sk-container-id-1 div.sk-toggleable {background-color: white;}#sk-container-id-1 label.sk-toggleable__label {cursor: pointer;display: block;width: 100%;margin-bottom: 0;padding: 0.3em;box-sizing: border-box;text-align: center;}#sk-container-id-1 label.sk-toggleable__label-arrow:before {content: \"▸\";float: left;margin-right: 0.25em;color: #696969;}#sk-container-id-1 label.sk-toggleable__label-arrow:hover:before {color: black;}#sk-container-id-1 div.sk-estimator:hover label.sk-toggleable__label-arrow:before {color: black;}#sk-container-id-1 div.sk-toggleable__content {max-height: 0;max-width: 0;overflow: hidden;text-align: left;background-color: #f0f8ff;}#sk-container-id-1 div.sk-toggleable__content pre {margin: 0.2em;color: black;border-radius: 0.25em;background-color: #f0f8ff;}#sk-container-id-1 input.sk-toggleable__control:checked~div.sk-toggleable__content {max-height: 200px;max-width: 100%;overflow: auto;}#sk-container-id-1 input.sk-toggleable__control:checked~label.sk-toggleable__label-arrow:before {content: \"▾\";}#sk-container-id-1 div.sk-estimator input.sk-toggleable__control:checked~label.sk-toggleable__label {background-color: #d4ebff;}#sk-container-id-1 div.sk-label input.sk-toggleable__control:checked~label.sk-toggleable__label {background-color: #d4ebff;}#sk-container-id-1 input.sk-hidden--visually {border: 0;clip: rect(1px 1px 1px 1px);clip: rect(1px, 1px, 1px, 1px);height: 1px;margin: -1px;overflow: hidden;padding: 0;position: absolute;width: 1px;}#sk-container-id-1 div.sk-estimator {font-family: monospace;background-color: #f0f8ff;border: 1px dotted black;border-radius: 0.25em;box-sizing: border-box;margin-bottom: 0.5em;}#sk-container-id-1 div.sk-estimator:hover {background-color: #d4ebff;}#sk-container-id-1 div.sk-parallel-item::after {content: \"\";width: 100%;border-bottom: 1px solid gray;flex-grow: 1;}#sk-container-id-1 div.sk-label:hover label.sk-toggleable__label {background-color: #d4ebff;}#sk-container-id-1 div.sk-serial::before {content: \"\";position: absolute;border-left: 1px solid gray;box-sizing: border-box;top: 0;bottom: 0;left: 50%;z-index: 0;}#sk-container-id-1 div.sk-serial {display: flex;flex-direction: column;align-items: center;background-color: white;padding-right: 0.2em;padding-left: 0.2em;position: relative;}#sk-container-id-1 div.sk-item {position: relative;z-index: 1;}#sk-container-id-1 div.sk-parallel {display: flex;align-items: stretch;justify-content: center;background-color: white;position: relative;}#sk-container-id-1 div.sk-item::before, #sk-container-id-1 div.sk-parallel-item::before {content: \"\";position: absolute;border-left: 1px solid gray;box-sizing: border-box;top: 0;bottom: 0;left: 50%;z-index: -1;}#sk-container-id-1 div.sk-parallel-item {display: flex;flex-direction: column;z-index: 1;position: relative;background-color: white;}#sk-container-id-1 div.sk-parallel-item:first-child::after {align-self: flex-end;width: 50%;}#sk-container-id-1 div.sk-parallel-item:last-child::after {align-self: flex-start;width: 50%;}#sk-container-id-1 div.sk-parallel-item:only-child::after {width: 0;}#sk-container-id-1 div.sk-dashed-wrapped {border: 1px dashed gray;margin: 0 0.4em 0.5em 0.4em;box-sizing: border-box;padding-bottom: 0.4em;background-color: white;}#sk-container-id-1 div.sk-label label {font-family: monospace;font-weight: bold;display: inline-block;line-height: 1.2em;}#sk-container-id-1 div.sk-label-container {text-align: center;}#sk-container-id-1 div.sk-container {/* jupyter's `normalize.less` sets `[hidden] { display: none; }` but bootstrap.min.css set `[hidden] { display: none !important; }` so we also need the `!important` here to be able to override the default hidden behavior on the sphinx rendered scikit-learn.org. See: https://github.com/scikit-learn/scikit-learn/issues/21755 */display: inline-block !important;position: relative;}#sk-container-id-1 div.sk-text-repr-fallback {display: none;}</style><div id=\"sk-container-id-1\" class=\"sk-top-container\"><div class=\"sk-text-repr-fallback\"><pre>Pipeline(steps=[(&#x27;preprocessing&#x27;,\n",
       "                 ColumnTransformer(transformers=[(&#x27;num&#x27;,\n",
       "                                                  FunctionTransformer(func=&lt;function normalize at 0x0000024001B9F9C0&gt;),\n",
       "                                                  [&#x27;lead_time&#x27;,\n",
       "                                                   &#x27;arrival_date_week_number&#x27;,\n",
       "                                                   &#x27;arrival_date_day_of_month&#x27;,\n",
       "                                                   &#x27;stays_in_weekend_nights&#x27;,\n",
       "                                                   &#x27;stays_in_week_nights&#x27;,\n",
       "                                                   &#x27;adults&#x27;, &#x27;children&#x27;,\n",
       "                                                   &#x27;babies&#x27;,\n",
       "                                                   &#x27;previous_cancellations&#x27;,\n",
       "                                                   &#x27;previous_bookings_not_canceled&#x27;,\n",
       "                                                   &#x27;agent&#x27;, &#x27;adr&#x27;,\n",
       "                                                   &#x27;required_car_parking_spaces&#x27;,\n",
       "                                                   &#x27;total_of_special_requests&#x27;]),\n",
       "                                                 (&#x27;cat&#x27;,\n",
       "                                                  FunctionTransformer(func=&lt;function encode at 0x0000024001BDB060&gt;),\n",
       "                                                  [&#x27;hotel&#x27;, &#x27;meal&#x27;,\n",
       "                                                   &#x27;market_segment&#x27;,\n",
       "                                                   &#x27;distribution_channel&#x27;,\n",
       "                                                   &#x27;is_repeated_guest&#x27;,\n",
       "                                                   &#x27;reserved_room_type&#x27;,\n",
       "                                                   &#x27;deposit_type&#x27;,\n",
       "                                                   &#x27;customer_type&#x27;, &#x27;season&#x27;,\n",
       "                                                   &#x27;year&#x27;, &#x27;month&#x27;, &#x27;day&#x27;])])),\n",
       "                (&#x27;model&#x27;, KNeighborsClassifier())])</pre><b>In a Jupyter environment, please rerun this cell to show the HTML representation or trust the notebook. <br />On GitHub, the HTML representation is unable to render, please try loading this page with nbviewer.org.</b></div><div class=\"sk-container\" hidden><div class=\"sk-item sk-dashed-wrapped\"><div class=\"sk-label-container\"><div class=\"sk-label sk-toggleable\"><input class=\"sk-toggleable__control sk-hidden--visually\" id=\"sk-estimator-id-1\" type=\"checkbox\" ><label for=\"sk-estimator-id-1\" class=\"sk-toggleable__label sk-toggleable__label-arrow\">Pipeline</label><div class=\"sk-toggleable__content\"><pre>Pipeline(steps=[(&#x27;preprocessing&#x27;,\n",
       "                 ColumnTransformer(transformers=[(&#x27;num&#x27;,\n",
       "                                                  FunctionTransformer(func=&lt;function normalize at 0x0000024001B9F9C0&gt;),\n",
       "                                                  [&#x27;lead_time&#x27;,\n",
       "                                                   &#x27;arrival_date_week_number&#x27;,\n",
       "                                                   &#x27;arrival_date_day_of_month&#x27;,\n",
       "                                                   &#x27;stays_in_weekend_nights&#x27;,\n",
       "                                                   &#x27;stays_in_week_nights&#x27;,\n",
       "                                                   &#x27;adults&#x27;, &#x27;children&#x27;,\n",
       "                                                   &#x27;babies&#x27;,\n",
       "                                                   &#x27;previous_cancellations&#x27;,\n",
       "                                                   &#x27;previous_bookings_not_canceled&#x27;,\n",
       "                                                   &#x27;agent&#x27;, &#x27;adr&#x27;,\n",
       "                                                   &#x27;required_car_parking_spaces&#x27;,\n",
       "                                                   &#x27;total_of_special_requests&#x27;]),\n",
       "                                                 (&#x27;cat&#x27;,\n",
       "                                                  FunctionTransformer(func=&lt;function encode at 0x0000024001BDB060&gt;),\n",
       "                                                  [&#x27;hotel&#x27;, &#x27;meal&#x27;,\n",
       "                                                   &#x27;market_segment&#x27;,\n",
       "                                                   &#x27;distribution_channel&#x27;,\n",
       "                                                   &#x27;is_repeated_guest&#x27;,\n",
       "                                                   &#x27;reserved_room_type&#x27;,\n",
       "                                                   &#x27;deposit_type&#x27;,\n",
       "                                                   &#x27;customer_type&#x27;, &#x27;season&#x27;,\n",
       "                                                   &#x27;year&#x27;, &#x27;month&#x27;, &#x27;day&#x27;])])),\n",
       "                (&#x27;model&#x27;, KNeighborsClassifier())])</pre></div></div></div><div class=\"sk-serial\"><div class=\"sk-item sk-dashed-wrapped\"><div class=\"sk-label-container\"><div class=\"sk-label sk-toggleable\"><input class=\"sk-toggleable__control sk-hidden--visually\" id=\"sk-estimator-id-2\" type=\"checkbox\" ><label for=\"sk-estimator-id-2\" class=\"sk-toggleable__label sk-toggleable__label-arrow\">preprocessing: ColumnTransformer</label><div class=\"sk-toggleable__content\"><pre>ColumnTransformer(transformers=[(&#x27;num&#x27;,\n",
       "                                 FunctionTransformer(func=&lt;function normalize at 0x0000024001B9F9C0&gt;),\n",
       "                                 [&#x27;lead_time&#x27;, &#x27;arrival_date_week_number&#x27;,\n",
       "                                  &#x27;arrival_date_day_of_month&#x27;,\n",
       "                                  &#x27;stays_in_weekend_nights&#x27;,\n",
       "                                  &#x27;stays_in_week_nights&#x27;, &#x27;adults&#x27;, &#x27;children&#x27;,\n",
       "                                  &#x27;babies&#x27;, &#x27;previous_cancellations&#x27;,\n",
       "                                  &#x27;previous_bookings_not_canceled&#x27;, &#x27;agent&#x27;,\n",
       "                                  &#x27;adr&#x27;, &#x27;required_car_parking_spaces&#x27;,\n",
       "                                  &#x27;total_of_special_requests&#x27;]),\n",
       "                                (&#x27;cat&#x27;,\n",
       "                                 FunctionTransformer(func=&lt;function encode at 0x0000024001BDB060&gt;),\n",
       "                                 [&#x27;hotel&#x27;, &#x27;meal&#x27;, &#x27;market_segment&#x27;,\n",
       "                                  &#x27;distribution_channel&#x27;, &#x27;is_repeated_guest&#x27;,\n",
       "                                  &#x27;reserved_room_type&#x27;, &#x27;deposit_type&#x27;,\n",
       "                                  &#x27;customer_type&#x27;, &#x27;season&#x27;, &#x27;year&#x27;, &#x27;month&#x27;,\n",
       "                                  &#x27;day&#x27;])])</pre></div></div></div><div class=\"sk-parallel\"><div class=\"sk-parallel-item\"><div class=\"sk-item\"><div class=\"sk-label-container\"><div class=\"sk-label sk-toggleable\"><input class=\"sk-toggleable__control sk-hidden--visually\" id=\"sk-estimator-id-3\" type=\"checkbox\" ><label for=\"sk-estimator-id-3\" class=\"sk-toggleable__label sk-toggleable__label-arrow\">num</label><div class=\"sk-toggleable__content\"><pre>[&#x27;lead_time&#x27;, &#x27;arrival_date_week_number&#x27;, &#x27;arrival_date_day_of_month&#x27;, &#x27;stays_in_weekend_nights&#x27;, &#x27;stays_in_week_nights&#x27;, &#x27;adults&#x27;, &#x27;children&#x27;, &#x27;babies&#x27;, &#x27;previous_cancellations&#x27;, &#x27;previous_bookings_not_canceled&#x27;, &#x27;agent&#x27;, &#x27;adr&#x27;, &#x27;required_car_parking_spaces&#x27;, &#x27;total_of_special_requests&#x27;]</pre></div></div></div><div class=\"sk-serial\"><div class=\"sk-item\"><div class=\"sk-estimator sk-toggleable\"><input class=\"sk-toggleable__control sk-hidden--visually\" id=\"sk-estimator-id-4\" type=\"checkbox\" ><label for=\"sk-estimator-id-4\" class=\"sk-toggleable__label sk-toggleable__label-arrow\">FunctionTransformer</label><div class=\"sk-toggleable__content\"><pre>FunctionTransformer(func=&lt;function normalize at 0x0000024001B9F9C0&gt;)</pre></div></div></div></div></div></div><div class=\"sk-parallel-item\"><div class=\"sk-item\"><div class=\"sk-label-container\"><div class=\"sk-label sk-toggleable\"><input class=\"sk-toggleable__control sk-hidden--visually\" id=\"sk-estimator-id-5\" type=\"checkbox\" ><label for=\"sk-estimator-id-5\" class=\"sk-toggleable__label sk-toggleable__label-arrow\">cat</label><div class=\"sk-toggleable__content\"><pre>[&#x27;hotel&#x27;, &#x27;meal&#x27;, &#x27;market_segment&#x27;, &#x27;distribution_channel&#x27;, &#x27;is_repeated_guest&#x27;, &#x27;reserved_room_type&#x27;, &#x27;deposit_type&#x27;, &#x27;customer_type&#x27;, &#x27;season&#x27;, &#x27;year&#x27;, &#x27;month&#x27;, &#x27;day&#x27;]</pre></div></div></div><div class=\"sk-serial\"><div class=\"sk-item\"><div class=\"sk-estimator sk-toggleable\"><input class=\"sk-toggleable__control sk-hidden--visually\" id=\"sk-estimator-id-6\" type=\"checkbox\" ><label for=\"sk-estimator-id-6\" class=\"sk-toggleable__label sk-toggleable__label-arrow\">FunctionTransformer</label><div class=\"sk-toggleable__content\"><pre>FunctionTransformer(func=&lt;function encode at 0x0000024001BDB060&gt;)</pre></div></div></div></div></div></div></div></div><div class=\"sk-item\"><div class=\"sk-estimator sk-toggleable\"><input class=\"sk-toggleable__control sk-hidden--visually\" id=\"sk-estimator-id-7\" type=\"checkbox\" ><label for=\"sk-estimator-id-7\" class=\"sk-toggleable__label sk-toggleable__label-arrow\">KNeighborsClassifier</label><div class=\"sk-toggleable__content\"><pre>KNeighborsClassifier()</pre></div></div></div></div></div></div></div>"
      ],
      "text/plain": [
       "Pipeline(steps=[('preprocessing',\n",
       "                 ColumnTransformer(transformers=[('num',\n",
       "                                                  FunctionTransformer(func=<function normalize at 0x0000024001B9F9C0>),\n",
       "                                                  ['lead_time',\n",
       "                                                   'arrival_date_week_number',\n",
       "                                                   'arrival_date_day_of_month',\n",
       "                                                   'stays_in_weekend_nights',\n",
       "                                                   'stays_in_week_nights',\n",
       "                                                   'adults', 'children',\n",
       "                                                   'babies',\n",
       "                                                   'previous_cancellations',\n",
       "                                                   'previous_bookings_not_canceled',\n",
       "                                                   'agent', 'adr',\n",
       "                                                   'required_car_parking_spaces',\n",
       "                                                   'total_of_special_requests']),\n",
       "                                                 ('cat',\n",
       "                                                  FunctionTransformer(func=<function encode at 0x0000024001BDB060>),\n",
       "                                                  ['hotel', 'meal',\n",
       "                                                   'market_segment',\n",
       "                                                   'distribution_channel',\n",
       "                                                   'is_repeated_guest',\n",
       "                                                   'reserved_room_type',\n",
       "                                                   'deposit_type',\n",
       "                                                   'customer_type', 'season',\n",
       "                                                   'year', 'month', 'day'])])),\n",
       "                ('model', KNeighborsClassifier())])"
      ]
     },
     "execution_count": 51,
     "metadata": {},
     "output_type": "execute_result"
    }
   ],
   "source": [
    "# Fit the pipeline on the data\n",
    "pipeline_knn.fit(X_train, y_train)"
   ]
  },
  {
   "cell_type": "markdown",
   "metadata": {},
   "source": [
    "## 2. - Support Vector Machine (SVM)"
   ]
  },
  {
   "cell_type": "code",
   "execution_count": 52,
   "metadata": {},
   "outputs": [],
   "source": [
    "# Create a pipeline for SVM model\n",
    "pipeline_svm = imbPipeline(steps=[\n",
    "    (\"preprocessing\", preprocessor),\n",
    "    (\"model\", svm_step)\n",
    "])"
   ]
  },
  {
   "cell_type": "code",
   "execution_count": 53,
   "metadata": {},
   "outputs": [
    {
     "data": {
      "text/html": [
       "<style>#sk-container-id-2 {color: black;background-color: white;}#sk-container-id-2 pre{padding: 0;}#sk-container-id-2 div.sk-toggleable {background-color: white;}#sk-container-id-2 label.sk-toggleable__label {cursor: pointer;display: block;width: 100%;margin-bottom: 0;padding: 0.3em;box-sizing: border-box;text-align: center;}#sk-container-id-2 label.sk-toggleable__label-arrow:before {content: \"▸\";float: left;margin-right: 0.25em;color: #696969;}#sk-container-id-2 label.sk-toggleable__label-arrow:hover:before {color: black;}#sk-container-id-2 div.sk-estimator:hover label.sk-toggleable__label-arrow:before {color: black;}#sk-container-id-2 div.sk-toggleable__content {max-height: 0;max-width: 0;overflow: hidden;text-align: left;background-color: #f0f8ff;}#sk-container-id-2 div.sk-toggleable__content pre {margin: 0.2em;color: black;border-radius: 0.25em;background-color: #f0f8ff;}#sk-container-id-2 input.sk-toggleable__control:checked~div.sk-toggleable__content {max-height: 200px;max-width: 100%;overflow: auto;}#sk-container-id-2 input.sk-toggleable__control:checked~label.sk-toggleable__label-arrow:before {content: \"▾\";}#sk-container-id-2 div.sk-estimator input.sk-toggleable__control:checked~label.sk-toggleable__label {background-color: #d4ebff;}#sk-container-id-2 div.sk-label input.sk-toggleable__control:checked~label.sk-toggleable__label {background-color: #d4ebff;}#sk-container-id-2 input.sk-hidden--visually {border: 0;clip: rect(1px 1px 1px 1px);clip: rect(1px, 1px, 1px, 1px);height: 1px;margin: -1px;overflow: hidden;padding: 0;position: absolute;width: 1px;}#sk-container-id-2 div.sk-estimator {font-family: monospace;background-color: #f0f8ff;border: 1px dotted black;border-radius: 0.25em;box-sizing: border-box;margin-bottom: 0.5em;}#sk-container-id-2 div.sk-estimator:hover {background-color: #d4ebff;}#sk-container-id-2 div.sk-parallel-item::after {content: \"\";width: 100%;border-bottom: 1px solid gray;flex-grow: 1;}#sk-container-id-2 div.sk-label:hover label.sk-toggleable__label {background-color: #d4ebff;}#sk-container-id-2 div.sk-serial::before {content: \"\";position: absolute;border-left: 1px solid gray;box-sizing: border-box;top: 0;bottom: 0;left: 50%;z-index: 0;}#sk-container-id-2 div.sk-serial {display: flex;flex-direction: column;align-items: center;background-color: white;padding-right: 0.2em;padding-left: 0.2em;position: relative;}#sk-container-id-2 div.sk-item {position: relative;z-index: 1;}#sk-container-id-2 div.sk-parallel {display: flex;align-items: stretch;justify-content: center;background-color: white;position: relative;}#sk-container-id-2 div.sk-item::before, #sk-container-id-2 div.sk-parallel-item::before {content: \"\";position: absolute;border-left: 1px solid gray;box-sizing: border-box;top: 0;bottom: 0;left: 50%;z-index: -1;}#sk-container-id-2 div.sk-parallel-item {display: flex;flex-direction: column;z-index: 1;position: relative;background-color: white;}#sk-container-id-2 div.sk-parallel-item:first-child::after {align-self: flex-end;width: 50%;}#sk-container-id-2 div.sk-parallel-item:last-child::after {align-self: flex-start;width: 50%;}#sk-container-id-2 div.sk-parallel-item:only-child::after {width: 0;}#sk-container-id-2 div.sk-dashed-wrapped {border: 1px dashed gray;margin: 0 0.4em 0.5em 0.4em;box-sizing: border-box;padding-bottom: 0.4em;background-color: white;}#sk-container-id-2 div.sk-label label {font-family: monospace;font-weight: bold;display: inline-block;line-height: 1.2em;}#sk-container-id-2 div.sk-label-container {text-align: center;}#sk-container-id-2 div.sk-container {/* jupyter's `normalize.less` sets `[hidden] { display: none; }` but bootstrap.min.css set `[hidden] { display: none !important; }` so we also need the `!important` here to be able to override the default hidden behavior on the sphinx rendered scikit-learn.org. See: https://github.com/scikit-learn/scikit-learn/issues/21755 */display: inline-block !important;position: relative;}#sk-container-id-2 div.sk-text-repr-fallback {display: none;}</style><div id=\"sk-container-id-2\" class=\"sk-top-container\"><div class=\"sk-text-repr-fallback\"><pre>Pipeline(steps=[(&#x27;preprocessing&#x27;,\n",
       "                 ColumnTransformer(transformers=[(&#x27;num&#x27;,\n",
       "                                                  FunctionTransformer(func=&lt;function normalize at 0x0000024001B9F9C0&gt;),\n",
       "                                                  [&#x27;lead_time&#x27;,\n",
       "                                                   &#x27;arrival_date_week_number&#x27;,\n",
       "                                                   &#x27;arrival_date_day_of_month&#x27;,\n",
       "                                                   &#x27;stays_in_weekend_nights&#x27;,\n",
       "                                                   &#x27;stays_in_week_nights&#x27;,\n",
       "                                                   &#x27;adults&#x27;, &#x27;children&#x27;,\n",
       "                                                   &#x27;babies&#x27;,\n",
       "                                                   &#x27;previous_cancellations&#x27;,\n",
       "                                                   &#x27;previous_bookings_not_canceled&#x27;,\n",
       "                                                   &#x27;agent&#x27;,...\n",
       "                                                  FunctionTransformer(func=&lt;function encode at 0x0000024001BDB060&gt;),\n",
       "                                                  [&#x27;hotel&#x27;, &#x27;meal&#x27;,\n",
       "                                                   &#x27;market_segment&#x27;,\n",
       "                                                   &#x27;distribution_channel&#x27;,\n",
       "                                                   &#x27;is_repeated_guest&#x27;,\n",
       "                                                   &#x27;reserved_room_type&#x27;,\n",
       "                                                   &#x27;deposit_type&#x27;,\n",
       "                                                   &#x27;customer_type&#x27;, &#x27;season&#x27;,\n",
       "                                                   &#x27;year&#x27;, &#x27;month&#x27;, &#x27;day&#x27;])])),\n",
       "                (&#x27;model&#x27;,\n",
       "                 BaggingClassifier(estimator=SVC(class_weight=&#x27;balanced&#x27;,\n",
       "                                                 kernel=&#x27;linear&#x27;,\n",
       "                                                 probability=True),\n",
       "                                   max_samples=0.1, n_estimators=5, n_jobs=-1,\n",
       "                                   random_state=2))])</pre><b>In a Jupyter environment, please rerun this cell to show the HTML representation or trust the notebook. <br />On GitHub, the HTML representation is unable to render, please try loading this page with nbviewer.org.</b></div><div class=\"sk-container\" hidden><div class=\"sk-item sk-dashed-wrapped\"><div class=\"sk-label-container\"><div class=\"sk-label sk-toggleable\"><input class=\"sk-toggleable__control sk-hidden--visually\" id=\"sk-estimator-id-8\" type=\"checkbox\" ><label for=\"sk-estimator-id-8\" class=\"sk-toggleable__label sk-toggleable__label-arrow\">Pipeline</label><div class=\"sk-toggleable__content\"><pre>Pipeline(steps=[(&#x27;preprocessing&#x27;,\n",
       "                 ColumnTransformer(transformers=[(&#x27;num&#x27;,\n",
       "                                                  FunctionTransformer(func=&lt;function normalize at 0x0000024001B9F9C0&gt;),\n",
       "                                                  [&#x27;lead_time&#x27;,\n",
       "                                                   &#x27;arrival_date_week_number&#x27;,\n",
       "                                                   &#x27;arrival_date_day_of_month&#x27;,\n",
       "                                                   &#x27;stays_in_weekend_nights&#x27;,\n",
       "                                                   &#x27;stays_in_week_nights&#x27;,\n",
       "                                                   &#x27;adults&#x27;, &#x27;children&#x27;,\n",
       "                                                   &#x27;babies&#x27;,\n",
       "                                                   &#x27;previous_cancellations&#x27;,\n",
       "                                                   &#x27;previous_bookings_not_canceled&#x27;,\n",
       "                                                   &#x27;agent&#x27;,...\n",
       "                                                  FunctionTransformer(func=&lt;function encode at 0x0000024001BDB060&gt;),\n",
       "                                                  [&#x27;hotel&#x27;, &#x27;meal&#x27;,\n",
       "                                                   &#x27;market_segment&#x27;,\n",
       "                                                   &#x27;distribution_channel&#x27;,\n",
       "                                                   &#x27;is_repeated_guest&#x27;,\n",
       "                                                   &#x27;reserved_room_type&#x27;,\n",
       "                                                   &#x27;deposit_type&#x27;,\n",
       "                                                   &#x27;customer_type&#x27;, &#x27;season&#x27;,\n",
       "                                                   &#x27;year&#x27;, &#x27;month&#x27;, &#x27;day&#x27;])])),\n",
       "                (&#x27;model&#x27;,\n",
       "                 BaggingClassifier(estimator=SVC(class_weight=&#x27;balanced&#x27;,\n",
       "                                                 kernel=&#x27;linear&#x27;,\n",
       "                                                 probability=True),\n",
       "                                   max_samples=0.1, n_estimators=5, n_jobs=-1,\n",
       "                                   random_state=2))])</pre></div></div></div><div class=\"sk-serial\"><div class=\"sk-item sk-dashed-wrapped\"><div class=\"sk-label-container\"><div class=\"sk-label sk-toggleable\"><input class=\"sk-toggleable__control sk-hidden--visually\" id=\"sk-estimator-id-9\" type=\"checkbox\" ><label for=\"sk-estimator-id-9\" class=\"sk-toggleable__label sk-toggleable__label-arrow\">preprocessing: ColumnTransformer</label><div class=\"sk-toggleable__content\"><pre>ColumnTransformer(transformers=[(&#x27;num&#x27;,\n",
       "                                 FunctionTransformer(func=&lt;function normalize at 0x0000024001B9F9C0&gt;),\n",
       "                                 [&#x27;lead_time&#x27;, &#x27;arrival_date_week_number&#x27;,\n",
       "                                  &#x27;arrival_date_day_of_month&#x27;,\n",
       "                                  &#x27;stays_in_weekend_nights&#x27;,\n",
       "                                  &#x27;stays_in_week_nights&#x27;, &#x27;adults&#x27;, &#x27;children&#x27;,\n",
       "                                  &#x27;babies&#x27;, &#x27;previous_cancellations&#x27;,\n",
       "                                  &#x27;previous_bookings_not_canceled&#x27;, &#x27;agent&#x27;,\n",
       "                                  &#x27;adr&#x27;, &#x27;required_car_parking_spaces&#x27;,\n",
       "                                  &#x27;total_of_special_requests&#x27;]),\n",
       "                                (&#x27;cat&#x27;,\n",
       "                                 FunctionTransformer(func=&lt;function encode at 0x0000024001BDB060&gt;),\n",
       "                                 [&#x27;hotel&#x27;, &#x27;meal&#x27;, &#x27;market_segment&#x27;,\n",
       "                                  &#x27;distribution_channel&#x27;, &#x27;is_repeated_guest&#x27;,\n",
       "                                  &#x27;reserved_room_type&#x27;, &#x27;deposit_type&#x27;,\n",
       "                                  &#x27;customer_type&#x27;, &#x27;season&#x27;, &#x27;year&#x27;, &#x27;month&#x27;,\n",
       "                                  &#x27;day&#x27;])])</pre></div></div></div><div class=\"sk-parallel\"><div class=\"sk-parallel-item\"><div class=\"sk-item\"><div class=\"sk-label-container\"><div class=\"sk-label sk-toggleable\"><input class=\"sk-toggleable__control sk-hidden--visually\" id=\"sk-estimator-id-10\" type=\"checkbox\" ><label for=\"sk-estimator-id-10\" class=\"sk-toggleable__label sk-toggleable__label-arrow\">num</label><div class=\"sk-toggleable__content\"><pre>[&#x27;lead_time&#x27;, &#x27;arrival_date_week_number&#x27;, &#x27;arrival_date_day_of_month&#x27;, &#x27;stays_in_weekend_nights&#x27;, &#x27;stays_in_week_nights&#x27;, &#x27;adults&#x27;, &#x27;children&#x27;, &#x27;babies&#x27;, &#x27;previous_cancellations&#x27;, &#x27;previous_bookings_not_canceled&#x27;, &#x27;agent&#x27;, &#x27;adr&#x27;, &#x27;required_car_parking_spaces&#x27;, &#x27;total_of_special_requests&#x27;]</pre></div></div></div><div class=\"sk-serial\"><div class=\"sk-item\"><div class=\"sk-estimator sk-toggleable\"><input class=\"sk-toggleable__control sk-hidden--visually\" id=\"sk-estimator-id-11\" type=\"checkbox\" ><label for=\"sk-estimator-id-11\" class=\"sk-toggleable__label sk-toggleable__label-arrow\">FunctionTransformer</label><div class=\"sk-toggleable__content\"><pre>FunctionTransformer(func=&lt;function normalize at 0x0000024001B9F9C0&gt;)</pre></div></div></div></div></div></div><div class=\"sk-parallel-item\"><div class=\"sk-item\"><div class=\"sk-label-container\"><div class=\"sk-label sk-toggleable\"><input class=\"sk-toggleable__control sk-hidden--visually\" id=\"sk-estimator-id-12\" type=\"checkbox\" ><label for=\"sk-estimator-id-12\" class=\"sk-toggleable__label sk-toggleable__label-arrow\">cat</label><div class=\"sk-toggleable__content\"><pre>[&#x27;hotel&#x27;, &#x27;meal&#x27;, &#x27;market_segment&#x27;, &#x27;distribution_channel&#x27;, &#x27;is_repeated_guest&#x27;, &#x27;reserved_room_type&#x27;, &#x27;deposit_type&#x27;, &#x27;customer_type&#x27;, &#x27;season&#x27;, &#x27;year&#x27;, &#x27;month&#x27;, &#x27;day&#x27;]</pre></div></div></div><div class=\"sk-serial\"><div class=\"sk-item\"><div class=\"sk-estimator sk-toggleable\"><input class=\"sk-toggleable__control sk-hidden--visually\" id=\"sk-estimator-id-13\" type=\"checkbox\" ><label for=\"sk-estimator-id-13\" class=\"sk-toggleable__label sk-toggleable__label-arrow\">FunctionTransformer</label><div class=\"sk-toggleable__content\"><pre>FunctionTransformer(func=&lt;function encode at 0x0000024001BDB060&gt;)</pre></div></div></div></div></div></div></div></div><div class=\"sk-item sk-dashed-wrapped\"><div class=\"sk-label-container\"><div class=\"sk-label sk-toggleable\"><input class=\"sk-toggleable__control sk-hidden--visually\" id=\"sk-estimator-id-14\" type=\"checkbox\" ><label for=\"sk-estimator-id-14\" class=\"sk-toggleable__label sk-toggleable__label-arrow\">model: BaggingClassifier</label><div class=\"sk-toggleable__content\"><pre>BaggingClassifier(estimator=SVC(class_weight=&#x27;balanced&#x27;, kernel=&#x27;linear&#x27;,\n",
       "                                probability=True),\n",
       "                  max_samples=0.1, n_estimators=5, n_jobs=-1, random_state=2)</pre></div></div></div><div class=\"sk-parallel\"><div class=\"sk-parallel-item\"><div class=\"sk-item\"><div class=\"sk-label-container\"><div class=\"sk-label sk-toggleable\"><input class=\"sk-toggleable__control sk-hidden--visually\" id=\"sk-estimator-id-15\" type=\"checkbox\" ><label for=\"sk-estimator-id-15\" class=\"sk-toggleable__label sk-toggleable__label-arrow\">estimator: SVC</label><div class=\"sk-toggleable__content\"><pre>SVC(class_weight=&#x27;balanced&#x27;, kernel=&#x27;linear&#x27;, probability=True)</pre></div></div></div><div class=\"sk-serial\"><div class=\"sk-item\"><div class=\"sk-estimator sk-toggleable\"><input class=\"sk-toggleable__control sk-hidden--visually\" id=\"sk-estimator-id-16\" type=\"checkbox\" ><label for=\"sk-estimator-id-16\" class=\"sk-toggleable__label sk-toggleable__label-arrow\">SVC</label><div class=\"sk-toggleable__content\"><pre>SVC(class_weight=&#x27;balanced&#x27;, kernel=&#x27;linear&#x27;, probability=True)</pre></div></div></div></div></div></div></div></div></div></div></div></div>"
      ],
      "text/plain": [
       "Pipeline(steps=[('preprocessing',\n",
       "                 ColumnTransformer(transformers=[('num',\n",
       "                                                  FunctionTransformer(func=<function normalize at 0x0000024001B9F9C0>),\n",
       "                                                  ['lead_time',\n",
       "                                                   'arrival_date_week_number',\n",
       "                                                   'arrival_date_day_of_month',\n",
       "                                                   'stays_in_weekend_nights',\n",
       "                                                   'stays_in_week_nights',\n",
       "                                                   'adults', 'children',\n",
       "                                                   'babies',\n",
       "                                                   'previous_cancellations',\n",
       "                                                   'previous_bookings_not_canceled',\n",
       "                                                   'agent',...\n",
       "                                                  FunctionTransformer(func=<function encode at 0x0000024001BDB060>),\n",
       "                                                  ['hotel', 'meal',\n",
       "                                                   'market_segment',\n",
       "                                                   'distribution_channel',\n",
       "                                                   'is_repeated_guest',\n",
       "                                                   'reserved_room_type',\n",
       "                                                   'deposit_type',\n",
       "                                                   'customer_type', 'season',\n",
       "                                                   'year', 'month', 'day'])])),\n",
       "                ('model',\n",
       "                 BaggingClassifier(estimator=SVC(class_weight='balanced',\n",
       "                                                 kernel='linear',\n",
       "                                                 probability=True),\n",
       "                                   max_samples=0.1, n_estimators=5, n_jobs=-1,\n",
       "                                   random_state=2))])"
      ]
     },
     "execution_count": 53,
     "metadata": {},
     "output_type": "execute_result"
    }
   ],
   "source": [
    "# Fit the pipeline on the data\n",
    "pipeline_svm.fit(X_train, y_train)"
   ]
  },
  {
   "cell_type": "markdown",
   "metadata": {},
   "source": [
    "## 3. - Decision Tree"
   ]
  },
  {
   "cell_type": "code",
   "execution_count": 54,
   "metadata": {},
   "outputs": [],
   "source": [
    "# Create a pipeline for decision tree model\n",
    "pipeline_tree = imbPipeline(steps=[\n",
    "    (\"preprocessing\", preprocessor),\n",
    "    (\"model\", tree_step)\n",
    "])"
   ]
  },
  {
   "cell_type": "code",
   "execution_count": 55,
   "metadata": {},
   "outputs": [
    {
     "data": {
      "text/html": [
       "<style>#sk-container-id-3 {color: black;background-color: white;}#sk-container-id-3 pre{padding: 0;}#sk-container-id-3 div.sk-toggleable {background-color: white;}#sk-container-id-3 label.sk-toggleable__label {cursor: pointer;display: block;width: 100%;margin-bottom: 0;padding: 0.3em;box-sizing: border-box;text-align: center;}#sk-container-id-3 label.sk-toggleable__label-arrow:before {content: \"▸\";float: left;margin-right: 0.25em;color: #696969;}#sk-container-id-3 label.sk-toggleable__label-arrow:hover:before {color: black;}#sk-container-id-3 div.sk-estimator:hover label.sk-toggleable__label-arrow:before {color: black;}#sk-container-id-3 div.sk-toggleable__content {max-height: 0;max-width: 0;overflow: hidden;text-align: left;background-color: #f0f8ff;}#sk-container-id-3 div.sk-toggleable__content pre {margin: 0.2em;color: black;border-radius: 0.25em;background-color: #f0f8ff;}#sk-container-id-3 input.sk-toggleable__control:checked~div.sk-toggleable__content {max-height: 200px;max-width: 100%;overflow: auto;}#sk-container-id-3 input.sk-toggleable__control:checked~label.sk-toggleable__label-arrow:before {content: \"▾\";}#sk-container-id-3 div.sk-estimator input.sk-toggleable__control:checked~label.sk-toggleable__label {background-color: #d4ebff;}#sk-container-id-3 div.sk-label input.sk-toggleable__control:checked~label.sk-toggleable__label {background-color: #d4ebff;}#sk-container-id-3 input.sk-hidden--visually {border: 0;clip: rect(1px 1px 1px 1px);clip: rect(1px, 1px, 1px, 1px);height: 1px;margin: -1px;overflow: hidden;padding: 0;position: absolute;width: 1px;}#sk-container-id-3 div.sk-estimator {font-family: monospace;background-color: #f0f8ff;border: 1px dotted black;border-radius: 0.25em;box-sizing: border-box;margin-bottom: 0.5em;}#sk-container-id-3 div.sk-estimator:hover {background-color: #d4ebff;}#sk-container-id-3 div.sk-parallel-item::after {content: \"\";width: 100%;border-bottom: 1px solid gray;flex-grow: 1;}#sk-container-id-3 div.sk-label:hover label.sk-toggleable__label {background-color: #d4ebff;}#sk-container-id-3 div.sk-serial::before {content: \"\";position: absolute;border-left: 1px solid gray;box-sizing: border-box;top: 0;bottom: 0;left: 50%;z-index: 0;}#sk-container-id-3 div.sk-serial {display: flex;flex-direction: column;align-items: center;background-color: white;padding-right: 0.2em;padding-left: 0.2em;position: relative;}#sk-container-id-3 div.sk-item {position: relative;z-index: 1;}#sk-container-id-3 div.sk-parallel {display: flex;align-items: stretch;justify-content: center;background-color: white;position: relative;}#sk-container-id-3 div.sk-item::before, #sk-container-id-3 div.sk-parallel-item::before {content: \"\";position: absolute;border-left: 1px solid gray;box-sizing: border-box;top: 0;bottom: 0;left: 50%;z-index: -1;}#sk-container-id-3 div.sk-parallel-item {display: flex;flex-direction: column;z-index: 1;position: relative;background-color: white;}#sk-container-id-3 div.sk-parallel-item:first-child::after {align-self: flex-end;width: 50%;}#sk-container-id-3 div.sk-parallel-item:last-child::after {align-self: flex-start;width: 50%;}#sk-container-id-3 div.sk-parallel-item:only-child::after {width: 0;}#sk-container-id-3 div.sk-dashed-wrapped {border: 1px dashed gray;margin: 0 0.4em 0.5em 0.4em;box-sizing: border-box;padding-bottom: 0.4em;background-color: white;}#sk-container-id-3 div.sk-label label {font-family: monospace;font-weight: bold;display: inline-block;line-height: 1.2em;}#sk-container-id-3 div.sk-label-container {text-align: center;}#sk-container-id-3 div.sk-container {/* jupyter's `normalize.less` sets `[hidden] { display: none; }` but bootstrap.min.css set `[hidden] { display: none !important; }` so we also need the `!important` here to be able to override the default hidden behavior on the sphinx rendered scikit-learn.org. See: https://github.com/scikit-learn/scikit-learn/issues/21755 */display: inline-block !important;position: relative;}#sk-container-id-3 div.sk-text-repr-fallback {display: none;}</style><div id=\"sk-container-id-3\" class=\"sk-top-container\"><div class=\"sk-text-repr-fallback\"><pre>Pipeline(steps=[(&#x27;preprocessing&#x27;,\n",
       "                 ColumnTransformer(transformers=[(&#x27;num&#x27;,\n",
       "                                                  FunctionTransformer(func=&lt;function normalize at 0x0000024001B9F9C0&gt;),\n",
       "                                                  [&#x27;lead_time&#x27;,\n",
       "                                                   &#x27;arrival_date_week_number&#x27;,\n",
       "                                                   &#x27;arrival_date_day_of_month&#x27;,\n",
       "                                                   &#x27;stays_in_weekend_nights&#x27;,\n",
       "                                                   &#x27;stays_in_week_nights&#x27;,\n",
       "                                                   &#x27;adults&#x27;, &#x27;children&#x27;,\n",
       "                                                   &#x27;babies&#x27;,\n",
       "                                                   &#x27;previous_cancellations&#x27;,\n",
       "                                                   &#x27;previous_bookings_not_canceled&#x27;,\n",
       "                                                   &#x27;agent&#x27;, &#x27;adr&#x27;,\n",
       "                                                   &#x27;required_car_parking_spaces&#x27;,\n",
       "                                                   &#x27;total_of_special_requests&#x27;]),\n",
       "                                                 (&#x27;cat&#x27;,\n",
       "                                                  FunctionTransformer(func=&lt;function encode at 0x0000024001BDB060&gt;),\n",
       "                                                  [&#x27;hotel&#x27;, &#x27;meal&#x27;,\n",
       "                                                   &#x27;market_segment&#x27;,\n",
       "                                                   &#x27;distribution_channel&#x27;,\n",
       "                                                   &#x27;is_repeated_guest&#x27;,\n",
       "                                                   &#x27;reserved_room_type&#x27;,\n",
       "                                                   &#x27;deposit_type&#x27;,\n",
       "                                                   &#x27;customer_type&#x27;, &#x27;season&#x27;,\n",
       "                                                   &#x27;year&#x27;, &#x27;month&#x27;, &#x27;day&#x27;])])),\n",
       "                (&#x27;model&#x27;, DecisionTreeClassifier())])</pre><b>In a Jupyter environment, please rerun this cell to show the HTML representation or trust the notebook. <br />On GitHub, the HTML representation is unable to render, please try loading this page with nbviewer.org.</b></div><div class=\"sk-container\" hidden><div class=\"sk-item sk-dashed-wrapped\"><div class=\"sk-label-container\"><div class=\"sk-label sk-toggleable\"><input class=\"sk-toggleable__control sk-hidden--visually\" id=\"sk-estimator-id-17\" type=\"checkbox\" ><label for=\"sk-estimator-id-17\" class=\"sk-toggleable__label sk-toggleable__label-arrow\">Pipeline</label><div class=\"sk-toggleable__content\"><pre>Pipeline(steps=[(&#x27;preprocessing&#x27;,\n",
       "                 ColumnTransformer(transformers=[(&#x27;num&#x27;,\n",
       "                                                  FunctionTransformer(func=&lt;function normalize at 0x0000024001B9F9C0&gt;),\n",
       "                                                  [&#x27;lead_time&#x27;,\n",
       "                                                   &#x27;arrival_date_week_number&#x27;,\n",
       "                                                   &#x27;arrival_date_day_of_month&#x27;,\n",
       "                                                   &#x27;stays_in_weekend_nights&#x27;,\n",
       "                                                   &#x27;stays_in_week_nights&#x27;,\n",
       "                                                   &#x27;adults&#x27;, &#x27;children&#x27;,\n",
       "                                                   &#x27;babies&#x27;,\n",
       "                                                   &#x27;previous_cancellations&#x27;,\n",
       "                                                   &#x27;previous_bookings_not_canceled&#x27;,\n",
       "                                                   &#x27;agent&#x27;, &#x27;adr&#x27;,\n",
       "                                                   &#x27;required_car_parking_spaces&#x27;,\n",
       "                                                   &#x27;total_of_special_requests&#x27;]),\n",
       "                                                 (&#x27;cat&#x27;,\n",
       "                                                  FunctionTransformer(func=&lt;function encode at 0x0000024001BDB060&gt;),\n",
       "                                                  [&#x27;hotel&#x27;, &#x27;meal&#x27;,\n",
       "                                                   &#x27;market_segment&#x27;,\n",
       "                                                   &#x27;distribution_channel&#x27;,\n",
       "                                                   &#x27;is_repeated_guest&#x27;,\n",
       "                                                   &#x27;reserved_room_type&#x27;,\n",
       "                                                   &#x27;deposit_type&#x27;,\n",
       "                                                   &#x27;customer_type&#x27;, &#x27;season&#x27;,\n",
       "                                                   &#x27;year&#x27;, &#x27;month&#x27;, &#x27;day&#x27;])])),\n",
       "                (&#x27;model&#x27;, DecisionTreeClassifier())])</pre></div></div></div><div class=\"sk-serial\"><div class=\"sk-item sk-dashed-wrapped\"><div class=\"sk-label-container\"><div class=\"sk-label sk-toggleable\"><input class=\"sk-toggleable__control sk-hidden--visually\" id=\"sk-estimator-id-18\" type=\"checkbox\" ><label for=\"sk-estimator-id-18\" class=\"sk-toggleable__label sk-toggleable__label-arrow\">preprocessing: ColumnTransformer</label><div class=\"sk-toggleable__content\"><pre>ColumnTransformer(transformers=[(&#x27;num&#x27;,\n",
       "                                 FunctionTransformer(func=&lt;function normalize at 0x0000024001B9F9C0&gt;),\n",
       "                                 [&#x27;lead_time&#x27;, &#x27;arrival_date_week_number&#x27;,\n",
       "                                  &#x27;arrival_date_day_of_month&#x27;,\n",
       "                                  &#x27;stays_in_weekend_nights&#x27;,\n",
       "                                  &#x27;stays_in_week_nights&#x27;, &#x27;adults&#x27;, &#x27;children&#x27;,\n",
       "                                  &#x27;babies&#x27;, &#x27;previous_cancellations&#x27;,\n",
       "                                  &#x27;previous_bookings_not_canceled&#x27;, &#x27;agent&#x27;,\n",
       "                                  &#x27;adr&#x27;, &#x27;required_car_parking_spaces&#x27;,\n",
       "                                  &#x27;total_of_special_requests&#x27;]),\n",
       "                                (&#x27;cat&#x27;,\n",
       "                                 FunctionTransformer(func=&lt;function encode at 0x0000024001BDB060&gt;),\n",
       "                                 [&#x27;hotel&#x27;, &#x27;meal&#x27;, &#x27;market_segment&#x27;,\n",
       "                                  &#x27;distribution_channel&#x27;, &#x27;is_repeated_guest&#x27;,\n",
       "                                  &#x27;reserved_room_type&#x27;, &#x27;deposit_type&#x27;,\n",
       "                                  &#x27;customer_type&#x27;, &#x27;season&#x27;, &#x27;year&#x27;, &#x27;month&#x27;,\n",
       "                                  &#x27;day&#x27;])])</pre></div></div></div><div class=\"sk-parallel\"><div class=\"sk-parallel-item\"><div class=\"sk-item\"><div class=\"sk-label-container\"><div class=\"sk-label sk-toggleable\"><input class=\"sk-toggleable__control sk-hidden--visually\" id=\"sk-estimator-id-19\" type=\"checkbox\" ><label for=\"sk-estimator-id-19\" class=\"sk-toggleable__label sk-toggleable__label-arrow\">num</label><div class=\"sk-toggleable__content\"><pre>[&#x27;lead_time&#x27;, &#x27;arrival_date_week_number&#x27;, &#x27;arrival_date_day_of_month&#x27;, &#x27;stays_in_weekend_nights&#x27;, &#x27;stays_in_week_nights&#x27;, &#x27;adults&#x27;, &#x27;children&#x27;, &#x27;babies&#x27;, &#x27;previous_cancellations&#x27;, &#x27;previous_bookings_not_canceled&#x27;, &#x27;agent&#x27;, &#x27;adr&#x27;, &#x27;required_car_parking_spaces&#x27;, &#x27;total_of_special_requests&#x27;]</pre></div></div></div><div class=\"sk-serial\"><div class=\"sk-item\"><div class=\"sk-estimator sk-toggleable\"><input class=\"sk-toggleable__control sk-hidden--visually\" id=\"sk-estimator-id-20\" type=\"checkbox\" ><label for=\"sk-estimator-id-20\" class=\"sk-toggleable__label sk-toggleable__label-arrow\">FunctionTransformer</label><div class=\"sk-toggleable__content\"><pre>FunctionTransformer(func=&lt;function normalize at 0x0000024001B9F9C0&gt;)</pre></div></div></div></div></div></div><div class=\"sk-parallel-item\"><div class=\"sk-item\"><div class=\"sk-label-container\"><div class=\"sk-label sk-toggleable\"><input class=\"sk-toggleable__control sk-hidden--visually\" id=\"sk-estimator-id-21\" type=\"checkbox\" ><label for=\"sk-estimator-id-21\" class=\"sk-toggleable__label sk-toggleable__label-arrow\">cat</label><div class=\"sk-toggleable__content\"><pre>[&#x27;hotel&#x27;, &#x27;meal&#x27;, &#x27;market_segment&#x27;, &#x27;distribution_channel&#x27;, &#x27;is_repeated_guest&#x27;, &#x27;reserved_room_type&#x27;, &#x27;deposit_type&#x27;, &#x27;customer_type&#x27;, &#x27;season&#x27;, &#x27;year&#x27;, &#x27;month&#x27;, &#x27;day&#x27;]</pre></div></div></div><div class=\"sk-serial\"><div class=\"sk-item\"><div class=\"sk-estimator sk-toggleable\"><input class=\"sk-toggleable__control sk-hidden--visually\" id=\"sk-estimator-id-22\" type=\"checkbox\" ><label for=\"sk-estimator-id-22\" class=\"sk-toggleable__label sk-toggleable__label-arrow\">FunctionTransformer</label><div class=\"sk-toggleable__content\"><pre>FunctionTransformer(func=&lt;function encode at 0x0000024001BDB060&gt;)</pre></div></div></div></div></div></div></div></div><div class=\"sk-item\"><div class=\"sk-estimator sk-toggleable\"><input class=\"sk-toggleable__control sk-hidden--visually\" id=\"sk-estimator-id-23\" type=\"checkbox\" ><label for=\"sk-estimator-id-23\" class=\"sk-toggleable__label sk-toggleable__label-arrow\">DecisionTreeClassifier</label><div class=\"sk-toggleable__content\"><pre>DecisionTreeClassifier()</pre></div></div></div></div></div></div></div>"
      ],
      "text/plain": [
       "Pipeline(steps=[('preprocessing',\n",
       "                 ColumnTransformer(transformers=[('num',\n",
       "                                                  FunctionTransformer(func=<function normalize at 0x0000024001B9F9C0>),\n",
       "                                                  ['lead_time',\n",
       "                                                   'arrival_date_week_number',\n",
       "                                                   'arrival_date_day_of_month',\n",
       "                                                   'stays_in_weekend_nights',\n",
       "                                                   'stays_in_week_nights',\n",
       "                                                   'adults', 'children',\n",
       "                                                   'babies',\n",
       "                                                   'previous_cancellations',\n",
       "                                                   'previous_bookings_not_canceled',\n",
       "                                                   'agent', 'adr',\n",
       "                                                   'required_car_parking_spaces',\n",
       "                                                   'total_of_special_requests']),\n",
       "                                                 ('cat',\n",
       "                                                  FunctionTransformer(func=<function encode at 0x0000024001BDB060>),\n",
       "                                                  ['hotel', 'meal',\n",
       "                                                   'market_segment',\n",
       "                                                   'distribution_channel',\n",
       "                                                   'is_repeated_guest',\n",
       "                                                   'reserved_room_type',\n",
       "                                                   'deposit_type',\n",
       "                                                   'customer_type', 'season',\n",
       "                                                   'year', 'month', 'day'])])),\n",
       "                ('model', DecisionTreeClassifier())])"
      ]
     },
     "execution_count": 55,
     "metadata": {},
     "output_type": "execute_result"
    }
   ],
   "source": [
    "# Fit the pipeline on the data\n",
    "pipeline_tree.fit(X_train, y_train)"
   ]
  },
  {
   "cell_type": "markdown",
   "metadata": {},
   "source": [
    "## 4. - Random Forest"
   ]
  },
  {
   "cell_type": "code",
   "execution_count": 56,
   "metadata": {},
   "outputs": [],
   "source": [
    "# Create a pipeline for random forest model\n",
    "pipeline_forest = imbPipeline(steps=[\n",
    "    (\"preprocessing\", preprocessor),\n",
    "    (\"model\", forest_step)\n",
    "])"
   ]
  },
  {
   "cell_type": "code",
   "execution_count": 57,
   "metadata": {},
   "outputs": [
    {
     "data": {
      "text/html": [
       "<style>#sk-container-id-4 {color: black;background-color: white;}#sk-container-id-4 pre{padding: 0;}#sk-container-id-4 div.sk-toggleable {background-color: white;}#sk-container-id-4 label.sk-toggleable__label {cursor: pointer;display: block;width: 100%;margin-bottom: 0;padding: 0.3em;box-sizing: border-box;text-align: center;}#sk-container-id-4 label.sk-toggleable__label-arrow:before {content: \"▸\";float: left;margin-right: 0.25em;color: #696969;}#sk-container-id-4 label.sk-toggleable__label-arrow:hover:before {color: black;}#sk-container-id-4 div.sk-estimator:hover label.sk-toggleable__label-arrow:before {color: black;}#sk-container-id-4 div.sk-toggleable__content {max-height: 0;max-width: 0;overflow: hidden;text-align: left;background-color: #f0f8ff;}#sk-container-id-4 div.sk-toggleable__content pre {margin: 0.2em;color: black;border-radius: 0.25em;background-color: #f0f8ff;}#sk-container-id-4 input.sk-toggleable__control:checked~div.sk-toggleable__content {max-height: 200px;max-width: 100%;overflow: auto;}#sk-container-id-4 input.sk-toggleable__control:checked~label.sk-toggleable__label-arrow:before {content: \"▾\";}#sk-container-id-4 div.sk-estimator input.sk-toggleable__control:checked~label.sk-toggleable__label {background-color: #d4ebff;}#sk-container-id-4 div.sk-label input.sk-toggleable__control:checked~label.sk-toggleable__label {background-color: #d4ebff;}#sk-container-id-4 input.sk-hidden--visually {border: 0;clip: rect(1px 1px 1px 1px);clip: rect(1px, 1px, 1px, 1px);height: 1px;margin: -1px;overflow: hidden;padding: 0;position: absolute;width: 1px;}#sk-container-id-4 div.sk-estimator {font-family: monospace;background-color: #f0f8ff;border: 1px dotted black;border-radius: 0.25em;box-sizing: border-box;margin-bottom: 0.5em;}#sk-container-id-4 div.sk-estimator:hover {background-color: #d4ebff;}#sk-container-id-4 div.sk-parallel-item::after {content: \"\";width: 100%;border-bottom: 1px solid gray;flex-grow: 1;}#sk-container-id-4 div.sk-label:hover label.sk-toggleable__label {background-color: #d4ebff;}#sk-container-id-4 div.sk-serial::before {content: \"\";position: absolute;border-left: 1px solid gray;box-sizing: border-box;top: 0;bottom: 0;left: 50%;z-index: 0;}#sk-container-id-4 div.sk-serial {display: flex;flex-direction: column;align-items: center;background-color: white;padding-right: 0.2em;padding-left: 0.2em;position: relative;}#sk-container-id-4 div.sk-item {position: relative;z-index: 1;}#sk-container-id-4 div.sk-parallel {display: flex;align-items: stretch;justify-content: center;background-color: white;position: relative;}#sk-container-id-4 div.sk-item::before, #sk-container-id-4 div.sk-parallel-item::before {content: \"\";position: absolute;border-left: 1px solid gray;box-sizing: border-box;top: 0;bottom: 0;left: 50%;z-index: -1;}#sk-container-id-4 div.sk-parallel-item {display: flex;flex-direction: column;z-index: 1;position: relative;background-color: white;}#sk-container-id-4 div.sk-parallel-item:first-child::after {align-self: flex-end;width: 50%;}#sk-container-id-4 div.sk-parallel-item:last-child::after {align-self: flex-start;width: 50%;}#sk-container-id-4 div.sk-parallel-item:only-child::after {width: 0;}#sk-container-id-4 div.sk-dashed-wrapped {border: 1px dashed gray;margin: 0 0.4em 0.5em 0.4em;box-sizing: border-box;padding-bottom: 0.4em;background-color: white;}#sk-container-id-4 div.sk-label label {font-family: monospace;font-weight: bold;display: inline-block;line-height: 1.2em;}#sk-container-id-4 div.sk-label-container {text-align: center;}#sk-container-id-4 div.sk-container {/* jupyter's `normalize.less` sets `[hidden] { display: none; }` but bootstrap.min.css set `[hidden] { display: none !important; }` so we also need the `!important` here to be able to override the default hidden behavior on the sphinx rendered scikit-learn.org. See: https://github.com/scikit-learn/scikit-learn/issues/21755 */display: inline-block !important;position: relative;}#sk-container-id-4 div.sk-text-repr-fallback {display: none;}</style><div id=\"sk-container-id-4\" class=\"sk-top-container\"><div class=\"sk-text-repr-fallback\"><pre>Pipeline(steps=[(&#x27;preprocessing&#x27;,\n",
       "                 ColumnTransformer(transformers=[(&#x27;num&#x27;,\n",
       "                                                  FunctionTransformer(func=&lt;function normalize at 0x0000024001B9F9C0&gt;),\n",
       "                                                  [&#x27;lead_time&#x27;,\n",
       "                                                   &#x27;arrival_date_week_number&#x27;,\n",
       "                                                   &#x27;arrival_date_day_of_month&#x27;,\n",
       "                                                   &#x27;stays_in_weekend_nights&#x27;,\n",
       "                                                   &#x27;stays_in_week_nights&#x27;,\n",
       "                                                   &#x27;adults&#x27;, &#x27;children&#x27;,\n",
       "                                                   &#x27;babies&#x27;,\n",
       "                                                   &#x27;previous_cancellations&#x27;,\n",
       "                                                   &#x27;previous_bookings_not_canceled&#x27;,\n",
       "                                                   &#x27;agent&#x27;,...\n",
       "                                                   &#x27;required_car_parking_spaces&#x27;,\n",
       "                                                   &#x27;total_of_special_requests&#x27;]),\n",
       "                                                 (&#x27;cat&#x27;,\n",
       "                                                  FunctionTransformer(func=&lt;function encode at 0x0000024001BDB060&gt;),\n",
       "                                                  [&#x27;hotel&#x27;, &#x27;meal&#x27;,\n",
       "                                                   &#x27;market_segment&#x27;,\n",
       "                                                   &#x27;distribution_channel&#x27;,\n",
       "                                                   &#x27;is_repeated_guest&#x27;,\n",
       "                                                   &#x27;reserved_room_type&#x27;,\n",
       "                                                   &#x27;deposit_type&#x27;,\n",
       "                                                   &#x27;customer_type&#x27;, &#x27;season&#x27;,\n",
       "                                                   &#x27;year&#x27;, &#x27;month&#x27;, &#x27;day&#x27;])])),\n",
       "                (&#x27;model&#x27;, RandomForestClassifier(n_jobs=-1, random_state=2))])</pre><b>In a Jupyter environment, please rerun this cell to show the HTML representation or trust the notebook. <br />On GitHub, the HTML representation is unable to render, please try loading this page with nbviewer.org.</b></div><div class=\"sk-container\" hidden><div class=\"sk-item sk-dashed-wrapped\"><div class=\"sk-label-container\"><div class=\"sk-label sk-toggleable\"><input class=\"sk-toggleable__control sk-hidden--visually\" id=\"sk-estimator-id-24\" type=\"checkbox\" ><label for=\"sk-estimator-id-24\" class=\"sk-toggleable__label sk-toggleable__label-arrow\">Pipeline</label><div class=\"sk-toggleable__content\"><pre>Pipeline(steps=[(&#x27;preprocessing&#x27;,\n",
       "                 ColumnTransformer(transformers=[(&#x27;num&#x27;,\n",
       "                                                  FunctionTransformer(func=&lt;function normalize at 0x0000024001B9F9C0&gt;),\n",
       "                                                  [&#x27;lead_time&#x27;,\n",
       "                                                   &#x27;arrival_date_week_number&#x27;,\n",
       "                                                   &#x27;arrival_date_day_of_month&#x27;,\n",
       "                                                   &#x27;stays_in_weekend_nights&#x27;,\n",
       "                                                   &#x27;stays_in_week_nights&#x27;,\n",
       "                                                   &#x27;adults&#x27;, &#x27;children&#x27;,\n",
       "                                                   &#x27;babies&#x27;,\n",
       "                                                   &#x27;previous_cancellations&#x27;,\n",
       "                                                   &#x27;previous_bookings_not_canceled&#x27;,\n",
       "                                                   &#x27;agent&#x27;,...\n",
       "                                                   &#x27;required_car_parking_spaces&#x27;,\n",
       "                                                   &#x27;total_of_special_requests&#x27;]),\n",
       "                                                 (&#x27;cat&#x27;,\n",
       "                                                  FunctionTransformer(func=&lt;function encode at 0x0000024001BDB060&gt;),\n",
       "                                                  [&#x27;hotel&#x27;, &#x27;meal&#x27;,\n",
       "                                                   &#x27;market_segment&#x27;,\n",
       "                                                   &#x27;distribution_channel&#x27;,\n",
       "                                                   &#x27;is_repeated_guest&#x27;,\n",
       "                                                   &#x27;reserved_room_type&#x27;,\n",
       "                                                   &#x27;deposit_type&#x27;,\n",
       "                                                   &#x27;customer_type&#x27;, &#x27;season&#x27;,\n",
       "                                                   &#x27;year&#x27;, &#x27;month&#x27;, &#x27;day&#x27;])])),\n",
       "                (&#x27;model&#x27;, RandomForestClassifier(n_jobs=-1, random_state=2))])</pre></div></div></div><div class=\"sk-serial\"><div class=\"sk-item sk-dashed-wrapped\"><div class=\"sk-label-container\"><div class=\"sk-label sk-toggleable\"><input class=\"sk-toggleable__control sk-hidden--visually\" id=\"sk-estimator-id-25\" type=\"checkbox\" ><label for=\"sk-estimator-id-25\" class=\"sk-toggleable__label sk-toggleable__label-arrow\">preprocessing: ColumnTransformer</label><div class=\"sk-toggleable__content\"><pre>ColumnTransformer(transformers=[(&#x27;num&#x27;,\n",
       "                                 FunctionTransformer(func=&lt;function normalize at 0x0000024001B9F9C0&gt;),\n",
       "                                 [&#x27;lead_time&#x27;, &#x27;arrival_date_week_number&#x27;,\n",
       "                                  &#x27;arrival_date_day_of_month&#x27;,\n",
       "                                  &#x27;stays_in_weekend_nights&#x27;,\n",
       "                                  &#x27;stays_in_week_nights&#x27;, &#x27;adults&#x27;, &#x27;children&#x27;,\n",
       "                                  &#x27;babies&#x27;, &#x27;previous_cancellations&#x27;,\n",
       "                                  &#x27;previous_bookings_not_canceled&#x27;, &#x27;agent&#x27;,\n",
       "                                  &#x27;adr&#x27;, &#x27;required_car_parking_spaces&#x27;,\n",
       "                                  &#x27;total_of_special_requests&#x27;]),\n",
       "                                (&#x27;cat&#x27;,\n",
       "                                 FunctionTransformer(func=&lt;function encode at 0x0000024001BDB060&gt;),\n",
       "                                 [&#x27;hotel&#x27;, &#x27;meal&#x27;, &#x27;market_segment&#x27;,\n",
       "                                  &#x27;distribution_channel&#x27;, &#x27;is_repeated_guest&#x27;,\n",
       "                                  &#x27;reserved_room_type&#x27;, &#x27;deposit_type&#x27;,\n",
       "                                  &#x27;customer_type&#x27;, &#x27;season&#x27;, &#x27;year&#x27;, &#x27;month&#x27;,\n",
       "                                  &#x27;day&#x27;])])</pre></div></div></div><div class=\"sk-parallel\"><div class=\"sk-parallel-item\"><div class=\"sk-item\"><div class=\"sk-label-container\"><div class=\"sk-label sk-toggleable\"><input class=\"sk-toggleable__control sk-hidden--visually\" id=\"sk-estimator-id-26\" type=\"checkbox\" ><label for=\"sk-estimator-id-26\" class=\"sk-toggleable__label sk-toggleable__label-arrow\">num</label><div class=\"sk-toggleable__content\"><pre>[&#x27;lead_time&#x27;, &#x27;arrival_date_week_number&#x27;, &#x27;arrival_date_day_of_month&#x27;, &#x27;stays_in_weekend_nights&#x27;, &#x27;stays_in_week_nights&#x27;, &#x27;adults&#x27;, &#x27;children&#x27;, &#x27;babies&#x27;, &#x27;previous_cancellations&#x27;, &#x27;previous_bookings_not_canceled&#x27;, &#x27;agent&#x27;, &#x27;adr&#x27;, &#x27;required_car_parking_spaces&#x27;, &#x27;total_of_special_requests&#x27;]</pre></div></div></div><div class=\"sk-serial\"><div class=\"sk-item\"><div class=\"sk-estimator sk-toggleable\"><input class=\"sk-toggleable__control sk-hidden--visually\" id=\"sk-estimator-id-27\" type=\"checkbox\" ><label for=\"sk-estimator-id-27\" class=\"sk-toggleable__label sk-toggleable__label-arrow\">FunctionTransformer</label><div class=\"sk-toggleable__content\"><pre>FunctionTransformer(func=&lt;function normalize at 0x0000024001B9F9C0&gt;)</pre></div></div></div></div></div></div><div class=\"sk-parallel-item\"><div class=\"sk-item\"><div class=\"sk-label-container\"><div class=\"sk-label sk-toggleable\"><input class=\"sk-toggleable__control sk-hidden--visually\" id=\"sk-estimator-id-28\" type=\"checkbox\" ><label for=\"sk-estimator-id-28\" class=\"sk-toggleable__label sk-toggleable__label-arrow\">cat</label><div class=\"sk-toggleable__content\"><pre>[&#x27;hotel&#x27;, &#x27;meal&#x27;, &#x27;market_segment&#x27;, &#x27;distribution_channel&#x27;, &#x27;is_repeated_guest&#x27;, &#x27;reserved_room_type&#x27;, &#x27;deposit_type&#x27;, &#x27;customer_type&#x27;, &#x27;season&#x27;, &#x27;year&#x27;, &#x27;month&#x27;, &#x27;day&#x27;]</pre></div></div></div><div class=\"sk-serial\"><div class=\"sk-item\"><div class=\"sk-estimator sk-toggleable\"><input class=\"sk-toggleable__control sk-hidden--visually\" id=\"sk-estimator-id-29\" type=\"checkbox\" ><label for=\"sk-estimator-id-29\" class=\"sk-toggleable__label sk-toggleable__label-arrow\">FunctionTransformer</label><div class=\"sk-toggleable__content\"><pre>FunctionTransformer(func=&lt;function encode at 0x0000024001BDB060&gt;)</pre></div></div></div></div></div></div></div></div><div class=\"sk-item\"><div class=\"sk-estimator sk-toggleable\"><input class=\"sk-toggleable__control sk-hidden--visually\" id=\"sk-estimator-id-30\" type=\"checkbox\" ><label for=\"sk-estimator-id-30\" class=\"sk-toggleable__label sk-toggleable__label-arrow\">RandomForestClassifier</label><div class=\"sk-toggleable__content\"><pre>RandomForestClassifier(n_jobs=-1, random_state=2)</pre></div></div></div></div></div></div></div>"
      ],
      "text/plain": [
       "Pipeline(steps=[('preprocessing',\n",
       "                 ColumnTransformer(transformers=[('num',\n",
       "                                                  FunctionTransformer(func=<function normalize at 0x0000024001B9F9C0>),\n",
       "                                                  ['lead_time',\n",
       "                                                   'arrival_date_week_number',\n",
       "                                                   'arrival_date_day_of_month',\n",
       "                                                   'stays_in_weekend_nights',\n",
       "                                                   'stays_in_week_nights',\n",
       "                                                   'adults', 'children',\n",
       "                                                   'babies',\n",
       "                                                   'previous_cancellations',\n",
       "                                                   'previous_bookings_not_canceled',\n",
       "                                                   'agent',...\n",
       "                                                   'required_car_parking_spaces',\n",
       "                                                   'total_of_special_requests']),\n",
       "                                                 ('cat',\n",
       "                                                  FunctionTransformer(func=<function encode at 0x0000024001BDB060>),\n",
       "                                                  ['hotel', 'meal',\n",
       "                                                   'market_segment',\n",
       "                                                   'distribution_channel',\n",
       "                                                   'is_repeated_guest',\n",
       "                                                   'reserved_room_type',\n",
       "                                                   'deposit_type',\n",
       "                                                   'customer_type', 'season',\n",
       "                                                   'year', 'month', 'day'])])),\n",
       "                ('model', RandomForestClassifier(n_jobs=-1, random_state=2))])"
      ]
     },
     "execution_count": 57,
     "metadata": {},
     "output_type": "execute_result"
    }
   ],
   "source": [
    "# Fit the pipeline on the data\n",
    "pipeline_forest.fit(X_train, y_train)"
   ]
  },
  {
   "cell_type": "markdown",
   "metadata": {},
   "source": [
    "## 5. - GradientBoosting Classifier"
   ]
  },
  {
   "cell_type": "code",
   "execution_count": 58,
   "metadata": {},
   "outputs": [],
   "source": [
    "# Create a pipeline for GradientBoosting model\n",
    "pipeline_GradientBoosting = imbPipeline(steps=[\n",
    "    (\"preprocessing\", preprocessor),\n",
    "    (\"model\", GradientBoosting_step)\n",
    "])"
   ]
  },
  {
   "cell_type": "code",
   "execution_count": 59,
   "metadata": {},
   "outputs": [
    {
     "data": {
      "text/html": [
       "<style>#sk-container-id-5 {color: black;background-color: white;}#sk-container-id-5 pre{padding: 0;}#sk-container-id-5 div.sk-toggleable {background-color: white;}#sk-container-id-5 label.sk-toggleable__label {cursor: pointer;display: block;width: 100%;margin-bottom: 0;padding: 0.3em;box-sizing: border-box;text-align: center;}#sk-container-id-5 label.sk-toggleable__label-arrow:before {content: \"▸\";float: left;margin-right: 0.25em;color: #696969;}#sk-container-id-5 label.sk-toggleable__label-arrow:hover:before {color: black;}#sk-container-id-5 div.sk-estimator:hover label.sk-toggleable__label-arrow:before {color: black;}#sk-container-id-5 div.sk-toggleable__content {max-height: 0;max-width: 0;overflow: hidden;text-align: left;background-color: #f0f8ff;}#sk-container-id-5 div.sk-toggleable__content pre {margin: 0.2em;color: black;border-radius: 0.25em;background-color: #f0f8ff;}#sk-container-id-5 input.sk-toggleable__control:checked~div.sk-toggleable__content {max-height: 200px;max-width: 100%;overflow: auto;}#sk-container-id-5 input.sk-toggleable__control:checked~label.sk-toggleable__label-arrow:before {content: \"▾\";}#sk-container-id-5 div.sk-estimator input.sk-toggleable__control:checked~label.sk-toggleable__label {background-color: #d4ebff;}#sk-container-id-5 div.sk-label input.sk-toggleable__control:checked~label.sk-toggleable__label {background-color: #d4ebff;}#sk-container-id-5 input.sk-hidden--visually {border: 0;clip: rect(1px 1px 1px 1px);clip: rect(1px, 1px, 1px, 1px);height: 1px;margin: -1px;overflow: hidden;padding: 0;position: absolute;width: 1px;}#sk-container-id-5 div.sk-estimator {font-family: monospace;background-color: #f0f8ff;border: 1px dotted black;border-radius: 0.25em;box-sizing: border-box;margin-bottom: 0.5em;}#sk-container-id-5 div.sk-estimator:hover {background-color: #d4ebff;}#sk-container-id-5 div.sk-parallel-item::after {content: \"\";width: 100%;border-bottom: 1px solid gray;flex-grow: 1;}#sk-container-id-5 div.sk-label:hover label.sk-toggleable__label {background-color: #d4ebff;}#sk-container-id-5 div.sk-serial::before {content: \"\";position: absolute;border-left: 1px solid gray;box-sizing: border-box;top: 0;bottom: 0;left: 50%;z-index: 0;}#sk-container-id-5 div.sk-serial {display: flex;flex-direction: column;align-items: center;background-color: white;padding-right: 0.2em;padding-left: 0.2em;position: relative;}#sk-container-id-5 div.sk-item {position: relative;z-index: 1;}#sk-container-id-5 div.sk-parallel {display: flex;align-items: stretch;justify-content: center;background-color: white;position: relative;}#sk-container-id-5 div.sk-item::before, #sk-container-id-5 div.sk-parallel-item::before {content: \"\";position: absolute;border-left: 1px solid gray;box-sizing: border-box;top: 0;bottom: 0;left: 50%;z-index: -1;}#sk-container-id-5 div.sk-parallel-item {display: flex;flex-direction: column;z-index: 1;position: relative;background-color: white;}#sk-container-id-5 div.sk-parallel-item:first-child::after {align-self: flex-end;width: 50%;}#sk-container-id-5 div.sk-parallel-item:last-child::after {align-self: flex-start;width: 50%;}#sk-container-id-5 div.sk-parallel-item:only-child::after {width: 0;}#sk-container-id-5 div.sk-dashed-wrapped {border: 1px dashed gray;margin: 0 0.4em 0.5em 0.4em;box-sizing: border-box;padding-bottom: 0.4em;background-color: white;}#sk-container-id-5 div.sk-label label {font-family: monospace;font-weight: bold;display: inline-block;line-height: 1.2em;}#sk-container-id-5 div.sk-label-container {text-align: center;}#sk-container-id-5 div.sk-container {/* jupyter's `normalize.less` sets `[hidden] { display: none; }` but bootstrap.min.css set `[hidden] { display: none !important; }` so we also need the `!important` here to be able to override the default hidden behavior on the sphinx rendered scikit-learn.org. See: https://github.com/scikit-learn/scikit-learn/issues/21755 */display: inline-block !important;position: relative;}#sk-container-id-5 div.sk-text-repr-fallback {display: none;}</style><div id=\"sk-container-id-5\" class=\"sk-top-container\"><div class=\"sk-text-repr-fallback\"><pre>Pipeline(steps=[(&#x27;preprocessing&#x27;,\n",
       "                 ColumnTransformer(transformers=[(&#x27;num&#x27;,\n",
       "                                                  FunctionTransformer(func=&lt;function normalize at 0x0000024001B9F9C0&gt;),\n",
       "                                                  [&#x27;lead_time&#x27;,\n",
       "                                                   &#x27;arrival_date_week_number&#x27;,\n",
       "                                                   &#x27;arrival_date_day_of_month&#x27;,\n",
       "                                                   &#x27;stays_in_weekend_nights&#x27;,\n",
       "                                                   &#x27;stays_in_week_nights&#x27;,\n",
       "                                                   &#x27;adults&#x27;, &#x27;children&#x27;,\n",
       "                                                   &#x27;babies&#x27;,\n",
       "                                                   &#x27;previous_cancellations&#x27;,\n",
       "                                                   &#x27;previous_bookings_not_canceled&#x27;,\n",
       "                                                   &#x27;agent&#x27;, &#x27;adr&#x27;,\n",
       "                                                   &#x27;required_car_parking_spaces&#x27;,\n",
       "                                                   &#x27;total_of_special_requests&#x27;]),\n",
       "                                                 (&#x27;cat&#x27;,\n",
       "                                                  FunctionTransformer(func=&lt;function encode at 0x0000024001BDB060&gt;),\n",
       "                                                  [&#x27;hotel&#x27;, &#x27;meal&#x27;,\n",
       "                                                   &#x27;market_segment&#x27;,\n",
       "                                                   &#x27;distribution_channel&#x27;,\n",
       "                                                   &#x27;is_repeated_guest&#x27;,\n",
       "                                                   &#x27;reserved_room_type&#x27;,\n",
       "                                                   &#x27;deposit_type&#x27;,\n",
       "                                                   &#x27;customer_type&#x27;, &#x27;season&#x27;,\n",
       "                                                   &#x27;year&#x27;, &#x27;month&#x27;, &#x27;day&#x27;])])),\n",
       "                (&#x27;model&#x27;, GradientBoostingClassifier())])</pre><b>In a Jupyter environment, please rerun this cell to show the HTML representation or trust the notebook. <br />On GitHub, the HTML representation is unable to render, please try loading this page with nbviewer.org.</b></div><div class=\"sk-container\" hidden><div class=\"sk-item sk-dashed-wrapped\"><div class=\"sk-label-container\"><div class=\"sk-label sk-toggleable\"><input class=\"sk-toggleable__control sk-hidden--visually\" id=\"sk-estimator-id-31\" type=\"checkbox\" ><label for=\"sk-estimator-id-31\" class=\"sk-toggleable__label sk-toggleable__label-arrow\">Pipeline</label><div class=\"sk-toggleable__content\"><pre>Pipeline(steps=[(&#x27;preprocessing&#x27;,\n",
       "                 ColumnTransformer(transformers=[(&#x27;num&#x27;,\n",
       "                                                  FunctionTransformer(func=&lt;function normalize at 0x0000024001B9F9C0&gt;),\n",
       "                                                  [&#x27;lead_time&#x27;,\n",
       "                                                   &#x27;arrival_date_week_number&#x27;,\n",
       "                                                   &#x27;arrival_date_day_of_month&#x27;,\n",
       "                                                   &#x27;stays_in_weekend_nights&#x27;,\n",
       "                                                   &#x27;stays_in_week_nights&#x27;,\n",
       "                                                   &#x27;adults&#x27;, &#x27;children&#x27;,\n",
       "                                                   &#x27;babies&#x27;,\n",
       "                                                   &#x27;previous_cancellations&#x27;,\n",
       "                                                   &#x27;previous_bookings_not_canceled&#x27;,\n",
       "                                                   &#x27;agent&#x27;, &#x27;adr&#x27;,\n",
       "                                                   &#x27;required_car_parking_spaces&#x27;,\n",
       "                                                   &#x27;total_of_special_requests&#x27;]),\n",
       "                                                 (&#x27;cat&#x27;,\n",
       "                                                  FunctionTransformer(func=&lt;function encode at 0x0000024001BDB060&gt;),\n",
       "                                                  [&#x27;hotel&#x27;, &#x27;meal&#x27;,\n",
       "                                                   &#x27;market_segment&#x27;,\n",
       "                                                   &#x27;distribution_channel&#x27;,\n",
       "                                                   &#x27;is_repeated_guest&#x27;,\n",
       "                                                   &#x27;reserved_room_type&#x27;,\n",
       "                                                   &#x27;deposit_type&#x27;,\n",
       "                                                   &#x27;customer_type&#x27;, &#x27;season&#x27;,\n",
       "                                                   &#x27;year&#x27;, &#x27;month&#x27;, &#x27;day&#x27;])])),\n",
       "                (&#x27;model&#x27;, GradientBoostingClassifier())])</pre></div></div></div><div class=\"sk-serial\"><div class=\"sk-item sk-dashed-wrapped\"><div class=\"sk-label-container\"><div class=\"sk-label sk-toggleable\"><input class=\"sk-toggleable__control sk-hidden--visually\" id=\"sk-estimator-id-32\" type=\"checkbox\" ><label for=\"sk-estimator-id-32\" class=\"sk-toggleable__label sk-toggleable__label-arrow\">preprocessing: ColumnTransformer</label><div class=\"sk-toggleable__content\"><pre>ColumnTransformer(transformers=[(&#x27;num&#x27;,\n",
       "                                 FunctionTransformer(func=&lt;function normalize at 0x0000024001B9F9C0&gt;),\n",
       "                                 [&#x27;lead_time&#x27;, &#x27;arrival_date_week_number&#x27;,\n",
       "                                  &#x27;arrival_date_day_of_month&#x27;,\n",
       "                                  &#x27;stays_in_weekend_nights&#x27;,\n",
       "                                  &#x27;stays_in_week_nights&#x27;, &#x27;adults&#x27;, &#x27;children&#x27;,\n",
       "                                  &#x27;babies&#x27;, &#x27;previous_cancellations&#x27;,\n",
       "                                  &#x27;previous_bookings_not_canceled&#x27;, &#x27;agent&#x27;,\n",
       "                                  &#x27;adr&#x27;, &#x27;required_car_parking_spaces&#x27;,\n",
       "                                  &#x27;total_of_special_requests&#x27;]),\n",
       "                                (&#x27;cat&#x27;,\n",
       "                                 FunctionTransformer(func=&lt;function encode at 0x0000024001BDB060&gt;),\n",
       "                                 [&#x27;hotel&#x27;, &#x27;meal&#x27;, &#x27;market_segment&#x27;,\n",
       "                                  &#x27;distribution_channel&#x27;, &#x27;is_repeated_guest&#x27;,\n",
       "                                  &#x27;reserved_room_type&#x27;, &#x27;deposit_type&#x27;,\n",
       "                                  &#x27;customer_type&#x27;, &#x27;season&#x27;, &#x27;year&#x27;, &#x27;month&#x27;,\n",
       "                                  &#x27;day&#x27;])])</pre></div></div></div><div class=\"sk-parallel\"><div class=\"sk-parallel-item\"><div class=\"sk-item\"><div class=\"sk-label-container\"><div class=\"sk-label sk-toggleable\"><input class=\"sk-toggleable__control sk-hidden--visually\" id=\"sk-estimator-id-33\" type=\"checkbox\" ><label for=\"sk-estimator-id-33\" class=\"sk-toggleable__label sk-toggleable__label-arrow\">num</label><div class=\"sk-toggleable__content\"><pre>[&#x27;lead_time&#x27;, &#x27;arrival_date_week_number&#x27;, &#x27;arrival_date_day_of_month&#x27;, &#x27;stays_in_weekend_nights&#x27;, &#x27;stays_in_week_nights&#x27;, &#x27;adults&#x27;, &#x27;children&#x27;, &#x27;babies&#x27;, &#x27;previous_cancellations&#x27;, &#x27;previous_bookings_not_canceled&#x27;, &#x27;agent&#x27;, &#x27;adr&#x27;, &#x27;required_car_parking_spaces&#x27;, &#x27;total_of_special_requests&#x27;]</pre></div></div></div><div class=\"sk-serial\"><div class=\"sk-item\"><div class=\"sk-estimator sk-toggleable\"><input class=\"sk-toggleable__control sk-hidden--visually\" id=\"sk-estimator-id-34\" type=\"checkbox\" ><label for=\"sk-estimator-id-34\" class=\"sk-toggleable__label sk-toggleable__label-arrow\">FunctionTransformer</label><div class=\"sk-toggleable__content\"><pre>FunctionTransformer(func=&lt;function normalize at 0x0000024001B9F9C0&gt;)</pre></div></div></div></div></div></div><div class=\"sk-parallel-item\"><div class=\"sk-item\"><div class=\"sk-label-container\"><div class=\"sk-label sk-toggleable\"><input class=\"sk-toggleable__control sk-hidden--visually\" id=\"sk-estimator-id-35\" type=\"checkbox\" ><label for=\"sk-estimator-id-35\" class=\"sk-toggleable__label sk-toggleable__label-arrow\">cat</label><div class=\"sk-toggleable__content\"><pre>[&#x27;hotel&#x27;, &#x27;meal&#x27;, &#x27;market_segment&#x27;, &#x27;distribution_channel&#x27;, &#x27;is_repeated_guest&#x27;, &#x27;reserved_room_type&#x27;, &#x27;deposit_type&#x27;, &#x27;customer_type&#x27;, &#x27;season&#x27;, &#x27;year&#x27;, &#x27;month&#x27;, &#x27;day&#x27;]</pre></div></div></div><div class=\"sk-serial\"><div class=\"sk-item\"><div class=\"sk-estimator sk-toggleable\"><input class=\"sk-toggleable__control sk-hidden--visually\" id=\"sk-estimator-id-36\" type=\"checkbox\" ><label for=\"sk-estimator-id-36\" class=\"sk-toggleable__label sk-toggleable__label-arrow\">FunctionTransformer</label><div class=\"sk-toggleable__content\"><pre>FunctionTransformer(func=&lt;function encode at 0x0000024001BDB060&gt;)</pre></div></div></div></div></div></div></div></div><div class=\"sk-item\"><div class=\"sk-estimator sk-toggleable\"><input class=\"sk-toggleable__control sk-hidden--visually\" id=\"sk-estimator-id-37\" type=\"checkbox\" ><label for=\"sk-estimator-id-37\" class=\"sk-toggleable__label sk-toggleable__label-arrow\">GradientBoostingClassifier</label><div class=\"sk-toggleable__content\"><pre>GradientBoostingClassifier()</pre></div></div></div></div></div></div></div>"
      ],
      "text/plain": [
       "Pipeline(steps=[('preprocessing',\n",
       "                 ColumnTransformer(transformers=[('num',\n",
       "                                                  FunctionTransformer(func=<function normalize at 0x0000024001B9F9C0>),\n",
       "                                                  ['lead_time',\n",
       "                                                   'arrival_date_week_number',\n",
       "                                                   'arrival_date_day_of_month',\n",
       "                                                   'stays_in_weekend_nights',\n",
       "                                                   'stays_in_week_nights',\n",
       "                                                   'adults', 'children',\n",
       "                                                   'babies',\n",
       "                                                   'previous_cancellations',\n",
       "                                                   'previous_bookings_not_canceled',\n",
       "                                                   'agent', 'adr',\n",
       "                                                   'required_car_parking_spaces',\n",
       "                                                   'total_of_special_requests']),\n",
       "                                                 ('cat',\n",
       "                                                  FunctionTransformer(func=<function encode at 0x0000024001BDB060>),\n",
       "                                                  ['hotel', 'meal',\n",
       "                                                   'market_segment',\n",
       "                                                   'distribution_channel',\n",
       "                                                   'is_repeated_guest',\n",
       "                                                   'reserved_room_type',\n",
       "                                                   'deposit_type',\n",
       "                                                   'customer_type', 'season',\n",
       "                                                   'year', 'month', 'day'])])),\n",
       "                ('model', GradientBoostingClassifier())])"
      ]
     },
     "execution_count": 59,
     "metadata": {},
     "output_type": "execute_result"
    }
   ],
   "source": [
    "# Fit the pipeline on the data\n",
    "pipeline_GradientBoosting.fit(X_train, y_train)"
   ]
  },
  {
   "cell_type": "markdown",
   "metadata": {},
   "source": [
    "# VIII. - MODEL EVALUATION"
   ]
  },
  {
   "cell_type": "markdown",
   "metadata": {},
   "source": [
    "## 1. - Choosing Evaluation Matrix"
   ]
  },
  {
   "cell_type": "markdown",
   "metadata": {},
   "source": [
    "Precision is a metric that measures how often a machine learning model correctly predicts the positive class. In this project case, the positive class is cancellation, which means the models need to predict whether a user will cancel their hotel booking or not. Maximizing precision is important because it will minimize false positives, which are when the model predict the reservation is going to be cancelled, when in fact the customer does not intend to cancel their booking. False positives can have negative impact on the company, such as wasting resources, losing customer satisfaction, or damaging reputation."
   ]
  },
  {
   "cell_type": "markdown",
   "metadata": {},
   "source": [
    "## 2. - Setup Evaluation Function"
   ]
  },
  {
   "cell_type": "code",
   "execution_count": 60,
   "metadata": {},
   "outputs": [],
   "source": [
    "def evaluate_model_performance(pipeline, X_train, y_train, X_test, y_test, model_name):\n",
    "    # Predictions on the training set\n",
    "    start_time = time.time()\n",
    "    train_predictions = pipeline.predict(X_train)\n",
    "    train_prediction_time = time.time() - start_time\n",
    "\n",
    "    # Predictions on the test set\n",
    "    start_time = time.time()\n",
    "    test_predictions = pipeline.predict(X_test)\n",
    "    test_prediction_time = time.time() - start_time\n",
    "\n",
    "    # Evaluate precision on training set\n",
    "    precision_train = precision_score(y_train, train_predictions, average='binary')\n",
    "\n",
    "    # Evaluate precision on test set\n",
    "    precision_test = precision_score(y_test, test_predictions, average='binary')\n",
    "\n",
    "    # Additional metrics\n",
    "    accuracy_train = accuracy_score(y_train, train_predictions)\n",
    "    accuracy_test = accuracy_score(y_test, test_predictions)\n",
    "    recall_train = recall_score(y_train, train_predictions)\n",
    "    recall_test = recall_score(y_test, test_predictions)\n",
    "    f1_train = f1_score(y_train, train_predictions)\n",
    "    f1_test = f1_score(y_test, test_predictions)\n",
    "\n",
    "    # Cross-validation scores for precision\n",
    "    cv_precision = cross_val_score(pipeline, X_train, y_train, scoring='precision', cv=5)\n",
    "\n",
    "    # Print cross-validation precision scores\n",
    "    print(f'Cross-validated Precision scores: {cv_precision}')\n",
    "    \n",
    "    # Print mean precision from cross-validation\n",
    "    print(f'Mean Precision from Cross-validation: {cv_precision.mean()}')\n",
    "\n",
    "    # Evaluate model quality\n",
    "    if precision_train < 0.75:\n",
    "        quality = 'Underfit'\n",
    "    elif (precision_train - precision_test) > 0.1:\n",
    "        quality = 'Overfit'\n",
    "    else:\n",
    "        quality = 'Good Fit'\n",
    "\n",
    "    # Print model quality\n",
    "    print(f'Model Quality: {quality}')\n",
    "\n",
    "    # Save Metric Evaluations\n",
    "    return {\n",
    "        'Name': model_name,\n",
    "        'Train Precision': precision_train,\n",
    "        'Test Precision': precision_test,\n",
    "        'Train Accuracy': accuracy_train,\n",
    "        'Test Accuracy': accuracy_test,        \n",
    "        'Train Recall': recall_train,\n",
    "        'Test Recall': recall_test,\n",
    "        'Train f1': f1_train,\n",
    "        'Test f1': f1_test,\n",
    "        'Train time': train_prediction_time,\n",
    "        'Test time': test_prediction_time,\n",
    "        'Model Quality': quality\n",
    "    }"
   ]
  },
  {
   "cell_type": "code",
   "execution_count": 61,
   "metadata": {},
   "outputs": [],
   "source": [
    "results = []"
   ]
  },
  {
   "cell_type": "markdown",
   "metadata": {},
   "source": [
    "## 1. - K-Nearest Neighbour (K-NN)"
   ]
  },
  {
   "cell_type": "code",
   "execution_count": 62,
   "metadata": {},
   "outputs": [
    {
     "name": "stdout",
     "output_type": "stream",
     "text": [
      "Cross-validated Precision scores: [0.93358554 0.93218197 0.93785429 0.93730408 0.93140719]\n",
      "Mean Precision from Cross-validation: 0.9344666144197771\n",
      "Model Quality: Good Fit\n"
     ]
    }
   ],
   "source": [
    "results.append(evaluate_model_performance(pipeline_knn, X_train, y_train, X_test, y_test, 'K-NN (Base)'))"
   ]
  },
  {
   "cell_type": "markdown",
   "metadata": {},
   "source": [
    "## 2. - Support Vector Machine (SVM)"
   ]
  },
  {
   "cell_type": "code",
   "execution_count": 63,
   "metadata": {},
   "outputs": [
    {
     "name": "stdout",
     "output_type": "stream",
     "text": [
      "Cross-validated Precision scores: [0.8667154  0.84148078 0.86713119 0.86221042 0.86569343]\n",
      "Mean Precision from Cross-validation: 0.8606462440529421\n",
      "Model Quality: Good Fit\n"
     ]
    }
   ],
   "source": [
    "results.append(evaluate_model_performance(pipeline_svm, X_train, y_train, X_test, y_test, 'SVM (Base)'))"
   ]
  },
  {
   "cell_type": "markdown",
   "metadata": {},
   "source": [
    "## 3. - Decision Tree"
   ]
  },
  {
   "cell_type": "code",
   "execution_count": 64,
   "metadata": {},
   "outputs": [
    {
     "name": "stdout",
     "output_type": "stream",
     "text": [
      "Cross-validated Precision scores: [0.91980498 0.91785714 0.92709393 0.92249496 0.91568693]\n",
      "Mean Precision from Cross-validation: 0.9205875877815283\n",
      "Model Quality: Good Fit\n"
     ]
    }
   ],
   "source": [
    "results.append(evaluate_model_performance(pipeline_tree, X_train, y_train, X_test, y_test, 'Decision Tree (Base)'))"
   ]
  },
  {
   "cell_type": "markdown",
   "metadata": {},
   "source": [
    "## 4. - Random Forest"
   ]
  },
  {
   "cell_type": "code",
   "execution_count": 65,
   "metadata": {},
   "outputs": [
    {
     "name": "stdout",
     "output_type": "stream",
     "text": [
      "Cross-validated Precision scores: [0.98577844 0.98518237 0.98623161 0.98792908 0.98323917]\n",
      "Mean Precision from Cross-validation: 0.9856721358773823\n",
      "Model Quality: Good Fit\n"
     ]
    }
   ],
   "source": [
    "results.append(evaluate_model_performance(pipeline_forest, X_train, y_train, X_test, y_test, 'Random Forest (Base)'))"
   ]
  },
  {
   "cell_type": "markdown",
   "metadata": {},
   "source": [
    "## 5. - Gradient Boosting"
   ]
  },
  {
   "cell_type": "code",
   "execution_count": 66,
   "metadata": {},
   "outputs": [
    {
     "name": "stdout",
     "output_type": "stream",
     "text": [
      "Cross-validated Precision scores: [0.97533167 0.96878341 0.97464481 0.97013977 0.9621527 ]\n",
      "Mean Precision from Cross-validation: 0.9702104729936977\n",
      "Model Quality: Good Fit\n"
     ]
    }
   ],
   "source": [
    "results.append(evaluate_model_performance(pipeline_GradientBoosting, X_train, y_train, X_test, y_test, 'Gradient Boost (Base)'))"
   ]
  },
  {
   "cell_type": "markdown",
   "metadata": {},
   "source": [
    "## 6. - Baseline Model Comparison"
   ]
  },
  {
   "cell_type": "code",
   "execution_count": 67,
   "metadata": {},
   "outputs": [
    {
     "data": {
      "text/html": [
       "<div>\n",
       "<style scoped>\n",
       "    .dataframe tbody tr th:only-of-type {\n",
       "        vertical-align: middle;\n",
       "    }\n",
       "\n",
       "    .dataframe tbody tr th {\n",
       "        vertical-align: top;\n",
       "    }\n",
       "\n",
       "    .dataframe thead th {\n",
       "        text-align: right;\n",
       "    }\n",
       "</style>\n",
       "<table border=\"1\" class=\"dataframe\">\n",
       "  <thead>\n",
       "    <tr style=\"text-align: right;\">\n",
       "      <th></th>\n",
       "      <th>Name</th>\n",
       "      <th>Train Precision</th>\n",
       "      <th>Test Precision</th>\n",
       "      <th>Train Accuracy</th>\n",
       "      <th>Test Accuracy</th>\n",
       "      <th>Train Recall</th>\n",
       "      <th>Test Recall</th>\n",
       "      <th>Train f1</th>\n",
       "      <th>Test f1</th>\n",
       "      <th>Train time</th>\n",
       "      <th>Test time</th>\n",
       "      <th>Model Quality</th>\n",
       "    </tr>\n",
       "  </thead>\n",
       "  <tbody>\n",
       "    <tr>\n",
       "      <th>0</th>\n",
       "      <td>K-NN (Base)</td>\n",
       "      <td>0.969727</td>\n",
       "      <td>0.940127</td>\n",
       "      <td>0.926467</td>\n",
       "      <td>0.896441</td>\n",
       "      <td>0.827508</td>\n",
       "      <td>0.769711</td>\n",
       "      <td>0.892991</td>\n",
       "      <td>0.846426</td>\n",
       "      <td>9.815728</td>\n",
       "      <td>4.784225</td>\n",
       "      <td>Good Fit</td>\n",
       "    </tr>\n",
       "    <tr>\n",
       "      <th>1</th>\n",
       "      <td>SVM (Base)</td>\n",
       "      <td>0.862865</td>\n",
       "      <td>0.867157</td>\n",
       "      <td>0.815686</td>\n",
       "      <td>0.819624</td>\n",
       "      <td>0.597913</td>\n",
       "      <td>0.606403</td>\n",
       "      <td>0.706361</td>\n",
       "      <td>0.713709</td>\n",
       "      <td>17.318512</td>\n",
       "      <td>8.699089</td>\n",
       "      <td>Good Fit</td>\n",
       "    </tr>\n",
       "    <tr>\n",
       "      <th>2</th>\n",
       "      <td>Decision Tree (Base)</td>\n",
       "      <td>1.000000</td>\n",
       "      <td>0.925448</td>\n",
       "      <td>1.000000</td>\n",
       "      <td>0.947789</td>\n",
       "      <td>1.000000</td>\n",
       "      <td>0.934458</td>\n",
       "      <td>1.000000</td>\n",
       "      <td>0.929931</td>\n",
       "      <td>0.093342</td>\n",
       "      <td>0.046550</td>\n",
       "      <td>Good Fit</td>\n",
       "    </tr>\n",
       "    <tr>\n",
       "      <th>3</th>\n",
       "      <td>Random Forest (Base)</td>\n",
       "      <td>1.000000</td>\n",
       "      <td>0.986445</td>\n",
       "      <td>1.000000</td>\n",
       "      <td>0.955796</td>\n",
       "      <td>1.000000</td>\n",
       "      <td>0.893048</td>\n",
       "      <td>1.000000</td>\n",
       "      <td>0.937426</td>\n",
       "      <td>0.376842</td>\n",
       "      <td>0.164575</td>\n",
       "      <td>Good Fit</td>\n",
       "    </tr>\n",
       "    <tr>\n",
       "      <th>4</th>\n",
       "      <td>Gradient Boost (Base)</td>\n",
       "      <td>0.977664</td>\n",
       "      <td>0.978110</td>\n",
       "      <td>0.914122</td>\n",
       "      <td>0.915709</td>\n",
       "      <td>0.786344</td>\n",
       "      <td>0.790347</td>\n",
       "      <td>0.871629</td>\n",
       "      <td>0.874261</td>\n",
       "      <td>0.331502</td>\n",
       "      <td>0.150355</td>\n",
       "      <td>Good Fit</td>\n",
       "    </tr>\n",
       "  </tbody>\n",
       "</table>\n",
       "</div>"
      ],
      "text/plain": [
       "                    Name  Train Precision  Test Precision  Train Accuracy  \\\n",
       "0            K-NN (Base)         0.969727        0.940127        0.926467   \n",
       "1             SVM (Base)         0.862865        0.867157        0.815686   \n",
       "2   Decision Tree (Base)         1.000000        0.925448        1.000000   \n",
       "3   Random Forest (Base)         1.000000        0.986445        1.000000   \n",
       "4  Gradient Boost (Base)         0.977664        0.978110        0.914122   \n",
       "\n",
       "   Test Accuracy  Train Recall  Test Recall  Train f1   Test f1  Train time  \\\n",
       "0       0.896441      0.827508     0.769711  0.892991  0.846426    9.815728   \n",
       "1       0.819624      0.597913     0.606403  0.706361  0.713709   17.318512   \n",
       "2       0.947789      1.000000     0.934458  1.000000  0.929931    0.093342   \n",
       "3       0.955796      1.000000     0.893048  1.000000  0.937426    0.376842   \n",
       "4       0.915709      0.786344     0.790347  0.871629  0.874261    0.331502   \n",
       "\n",
       "   Test time Model Quality  \n",
       "0   4.784225      Good Fit  \n",
       "1   8.699089      Good Fit  \n",
       "2   0.046550      Good Fit  \n",
       "3   0.164575      Good Fit  \n",
       "4   0.150355      Good Fit  "
      ]
     },
     "execution_count": 67,
     "metadata": {},
     "output_type": "execute_result"
    }
   ],
   "source": [
    "# Create a dataframe to store the evaluation reports\n",
    "eval_report = pd.DataFrame(results)\n",
    "eval_report"
   ]
  },
  {
   "cell_type": "markdown",
   "metadata": {},
   "source": [
    "From those results, it can be seen that all models used was trained and tested with great results. I choose gradient boost as the best model so far, as it gives a very stable result, but also has very high results."
   ]
  },
  {
   "cell_type": "markdown",
   "metadata": {},
   "source": [
    "# IX. - HYPERPARAMETER TUNING"
   ]
  },
  {
   "cell_type": "markdown",
   "metadata": {},
   "source": [
    "Although the results gained already very good, I will implement hyperparameter tuning to gain insights about the effect of each parameters on the model."
   ]
  },
  {
   "cell_type": "markdown",
   "metadata": {},
   "source": [
    "In this project, I'm using optuna as the hyperparameter tuning method. Optuna is a hyperparameter tuning framework. Optuna is better than other similar method like gridsearch or randomsearch because it uses smart algorithms to try fewer combinations and find the best hyperparameter faster. Other than that, using optuna I can observe the effect of tuning each parameters through each processes."
   ]
  },
  {
   "cell_type": "code",
   "execution_count": 68,
   "metadata": {},
   "outputs": [
    {
     "name": "stderr",
     "output_type": "stream",
     "text": [
      "[I 2024-01-30 08:00:22,376] A new study created in memory with name: no-name-5709dc77-08fd-4efa-aed1-31a7eac2ffaa\n",
      "[I 2024-01-30 08:00:52,073] Trial 0 finished with value: 0.9885463313813296 and parameters: {'n_estimators': 125, 'learning_rate': 0.05489385023679087, 'max_depth': 4}. Best is trial 0 with value: 0.9885463313813296.\n",
      "[I 2024-01-30 08:01:41,462] Trial 1 finished with value: 0.9988547705962351 and parameters: {'n_estimators': 139, 'learning_rate': 0.08565144920992392, 'max_depth': 6}. Best is trial 1 with value: 0.9988547705962351.\n",
      "[I 2024-01-30 08:03:12,199] Trial 2 finished with value: 0.9991074493649159 and parameters: {'n_estimators': 145, 'learning_rate': 0.19017940550879572, 'max_depth': 10}. Best is trial 2 with value: 0.9991074493649159.\n",
      "[I 2024-01-30 08:03:49,077] Trial 3 finished with value: 0.9983382953679983 and parameters: {'n_estimators': 60, 'learning_rate': 0.14404870627228722, 'max_depth': 10}. Best is trial 2 with value: 0.9991074493649159.\n",
      "[I 2024-01-30 08:05:04,638] Trial 4 finished with value: 0.9989003436426117 and parameters: {'n_estimators': 148, 'learning_rate': 0.16735842683519794, 'max_depth': 8}. Best is trial 2 with value: 0.9991074493649159.\n",
      "[I 2024-01-30 08:05:40,637] Trial 5 finished with value: 0.9961381014906928 and parameters: {'n_estimators': 149, 'learning_rate': 0.07536497549446951, 'max_depth': 4}. Best is trial 2 with value: 0.9991074493649159.\n",
      "[I 2024-01-30 08:06:36,348] Trial 6 finished with value: 0.9986914600550965 and parameters: {'n_estimators': 112, 'learning_rate': 0.16112778849854956, 'max_depth': 8}. Best is trial 2 with value: 0.9991074493649159.\n",
      "[I 2024-01-30 08:08:10,788] Trial 7 finished with value: 0.9986741102581996 and parameters: {'n_estimators': 166, 'learning_rate': 0.04762376682559197, 'max_depth': 9}. Best is trial 2 with value: 0.9991074493649159.\n",
      "[I 2024-01-30 08:08:52,074] Trial 8 finished with value: 0.9957643736763667 and parameters: {'n_estimators': 169, 'learning_rate': 0.05928342417592017, 'max_depth': 4}. Best is trial 2 with value: 0.9991074493649159.\n",
      "[I 2024-01-30 08:09:42,198] Trial 9 finished with value: 0.9985443959243085 and parameters: {'n_estimators': 83, 'learning_rate': 0.04429944974267371, 'max_depth': 10}. Best is trial 2 with value: 0.9991074493649159.\n"
     ]
    },
    {
     "name": "stdout",
     "output_type": "stream",
     "text": [
      "Best Gradient Boosting Hyperparameters: {'n_estimators': 145, 'learning_rate': 0.19017940550879572, 'max_depth': 10}\n",
      "Best Gradient Boosting Precision Score: 0.9991074493649159\n"
     ]
    }
   ],
   "source": [
    "# Define the Gradient Boosting objective function for Optuna optimization\n",
    "def gb_objective(trial):\n",
    "    '''\n",
    "    Optuna objective function for optimizing hyperparameters of a Gradient Boosting classifier.\n",
    "    '''\n",
    "    n_estimators = trial.suggest_int(\"n_estimators\", 50, 200)\n",
    "    learning_rate = trial.suggest_float(\"learning_rate\", 0.01, 0.2)\n",
    "    max_depth = trial.suggest_int(\"max_depth\", 3, 10)\n",
    "\n",
    "    model_optimize = GradientBoostingClassifier(\n",
    "        n_estimators=n_estimators,\n",
    "        learning_rate=learning_rate,\n",
    "        max_depth=max_depth\n",
    "    )\n",
    "\n",
    "    pipeline_gb = Pipeline(steps=[\n",
    "        (\"preprocessing\", preprocessor),\n",
    "        (\"model\", model_optimize)\n",
    "    ])\n",
    "\n",
    "    pipeline_gb.fit(X_train, y_train)\n",
    "\n",
    "    pred = pipeline_gb.predict(X_test)\n",
    "    precision = precision_score(y_test, pred)\n",
    "\n",
    "    return precision\n",
    "\n",
    "# Create an Optuna study for Gradient Boosting optimization\n",
    "gb_study = optuna.create_study(direction=\"maximize\")\n",
    "gb_study.optimize(gb_objective, n_trials=10)\n",
    "\n",
    "best_gb_params = gb_study.best_params\n",
    "best_gb_precision = gb_study.best_value\n",
    "\n",
    "print(f\"Best Gradient Boosting Hyperparameters: {best_gb_params}\")\n",
    "print(f\"Best Gradient Boosting Precision Score: {best_gb_precision}\")"
   ]
  },
  {
   "cell_type": "markdown",
   "metadata": {},
   "source": [
    "I will save the best model into the dataframe."
   ]
  },
  {
   "cell_type": "code",
   "execution_count": 77,
   "metadata": {},
   "outputs": [
    {
     "data": {
      "text/html": [
       "<style>#sk-container-id-6 {color: black;background-color: white;}#sk-container-id-6 pre{padding: 0;}#sk-container-id-6 div.sk-toggleable {background-color: white;}#sk-container-id-6 label.sk-toggleable__label {cursor: pointer;display: block;width: 100%;margin-bottom: 0;padding: 0.3em;box-sizing: border-box;text-align: center;}#sk-container-id-6 label.sk-toggleable__label-arrow:before {content: \"▸\";float: left;margin-right: 0.25em;color: #696969;}#sk-container-id-6 label.sk-toggleable__label-arrow:hover:before {color: black;}#sk-container-id-6 div.sk-estimator:hover label.sk-toggleable__label-arrow:before {color: black;}#sk-container-id-6 div.sk-toggleable__content {max-height: 0;max-width: 0;overflow: hidden;text-align: left;background-color: #f0f8ff;}#sk-container-id-6 div.sk-toggleable__content pre {margin: 0.2em;color: black;border-radius: 0.25em;background-color: #f0f8ff;}#sk-container-id-6 input.sk-toggleable__control:checked~div.sk-toggleable__content {max-height: 200px;max-width: 100%;overflow: auto;}#sk-container-id-6 input.sk-toggleable__control:checked~label.sk-toggleable__label-arrow:before {content: \"▾\";}#sk-container-id-6 div.sk-estimator input.sk-toggleable__control:checked~label.sk-toggleable__label {background-color: #d4ebff;}#sk-container-id-6 div.sk-label input.sk-toggleable__control:checked~label.sk-toggleable__label {background-color: #d4ebff;}#sk-container-id-6 input.sk-hidden--visually {border: 0;clip: rect(1px 1px 1px 1px);clip: rect(1px, 1px, 1px, 1px);height: 1px;margin: -1px;overflow: hidden;padding: 0;position: absolute;width: 1px;}#sk-container-id-6 div.sk-estimator {font-family: monospace;background-color: #f0f8ff;border: 1px dotted black;border-radius: 0.25em;box-sizing: border-box;margin-bottom: 0.5em;}#sk-container-id-6 div.sk-estimator:hover {background-color: #d4ebff;}#sk-container-id-6 div.sk-parallel-item::after {content: \"\";width: 100%;border-bottom: 1px solid gray;flex-grow: 1;}#sk-container-id-6 div.sk-label:hover label.sk-toggleable__label {background-color: #d4ebff;}#sk-container-id-6 div.sk-serial::before {content: \"\";position: absolute;border-left: 1px solid gray;box-sizing: border-box;top: 0;bottom: 0;left: 50%;z-index: 0;}#sk-container-id-6 div.sk-serial {display: flex;flex-direction: column;align-items: center;background-color: white;padding-right: 0.2em;padding-left: 0.2em;position: relative;}#sk-container-id-6 div.sk-item {position: relative;z-index: 1;}#sk-container-id-6 div.sk-parallel {display: flex;align-items: stretch;justify-content: center;background-color: white;position: relative;}#sk-container-id-6 div.sk-item::before, #sk-container-id-6 div.sk-parallel-item::before {content: \"\";position: absolute;border-left: 1px solid gray;box-sizing: border-box;top: 0;bottom: 0;left: 50%;z-index: -1;}#sk-container-id-6 div.sk-parallel-item {display: flex;flex-direction: column;z-index: 1;position: relative;background-color: white;}#sk-container-id-6 div.sk-parallel-item:first-child::after {align-self: flex-end;width: 50%;}#sk-container-id-6 div.sk-parallel-item:last-child::after {align-self: flex-start;width: 50%;}#sk-container-id-6 div.sk-parallel-item:only-child::after {width: 0;}#sk-container-id-6 div.sk-dashed-wrapped {border: 1px dashed gray;margin: 0 0.4em 0.5em 0.4em;box-sizing: border-box;padding-bottom: 0.4em;background-color: white;}#sk-container-id-6 div.sk-label label {font-family: monospace;font-weight: bold;display: inline-block;line-height: 1.2em;}#sk-container-id-6 div.sk-label-container {text-align: center;}#sk-container-id-6 div.sk-container {/* jupyter's `normalize.less` sets `[hidden] { display: none; }` but bootstrap.min.css set `[hidden] { display: none !important; }` so we also need the `!important` here to be able to override the default hidden behavior on the sphinx rendered scikit-learn.org. See: https://github.com/scikit-learn/scikit-learn/issues/21755 */display: inline-block !important;position: relative;}#sk-container-id-6 div.sk-text-repr-fallback {display: none;}</style><div id=\"sk-container-id-6\" class=\"sk-top-container\"><div class=\"sk-text-repr-fallback\"><pre>Pipeline(steps=[(&#x27;preprocessing&#x27;,\n",
       "                 ColumnTransformer(transformers=[(&#x27;num&#x27;,\n",
       "                                                  FunctionTransformer(func=&lt;function normalize at 0x0000024001B9F9C0&gt;),\n",
       "                                                  [&#x27;lead_time&#x27;,\n",
       "                                                   &#x27;arrival_date_week_number&#x27;,\n",
       "                                                   &#x27;arrival_date_day_of_month&#x27;,\n",
       "                                                   &#x27;stays_in_weekend_nights&#x27;,\n",
       "                                                   &#x27;stays_in_week_nights&#x27;,\n",
       "                                                   &#x27;adults&#x27;, &#x27;children&#x27;,\n",
       "                                                   &#x27;babies&#x27;,\n",
       "                                                   &#x27;previous_cancellations&#x27;,\n",
       "                                                   &#x27;previous_bookings_not_canceled&#x27;,\n",
       "                                                   &#x27;agent&#x27;,...\n",
       "                                                   &#x27;total_of_special_requests&#x27;]),\n",
       "                                                 (&#x27;cat&#x27;,\n",
       "                                                  FunctionTransformer(func=&lt;function encode at 0x0000024001BDB060&gt;),\n",
       "                                                  [&#x27;hotel&#x27;, &#x27;meal&#x27;,\n",
       "                                                   &#x27;market_segment&#x27;,\n",
       "                                                   &#x27;distribution_channel&#x27;,\n",
       "                                                   &#x27;is_repeated_guest&#x27;,\n",
       "                                                   &#x27;reserved_room_type&#x27;,\n",
       "                                                   &#x27;deposit_type&#x27;,\n",
       "                                                   &#x27;customer_type&#x27;, &#x27;season&#x27;,\n",
       "                                                   &#x27;year&#x27;, &#x27;month&#x27;, &#x27;day&#x27;])])),\n",
       "                (&#x27;model&#x27;,\n",
       "                 GradientBoostingClassifier(learning_rate=0.19017940550879572,\n",
       "                                            max_depth=10, n_estimators=145))])</pre><b>In a Jupyter environment, please rerun this cell to show the HTML representation or trust the notebook. <br />On GitHub, the HTML representation is unable to render, please try loading this page with nbviewer.org.</b></div><div class=\"sk-container\" hidden><div class=\"sk-item sk-dashed-wrapped\"><div class=\"sk-label-container\"><div class=\"sk-label sk-toggleable\"><input class=\"sk-toggleable__control sk-hidden--visually\" id=\"sk-estimator-id-38\" type=\"checkbox\" ><label for=\"sk-estimator-id-38\" class=\"sk-toggleable__label sk-toggleable__label-arrow\">Pipeline</label><div class=\"sk-toggleable__content\"><pre>Pipeline(steps=[(&#x27;preprocessing&#x27;,\n",
       "                 ColumnTransformer(transformers=[(&#x27;num&#x27;,\n",
       "                                                  FunctionTransformer(func=&lt;function normalize at 0x0000024001B9F9C0&gt;),\n",
       "                                                  [&#x27;lead_time&#x27;,\n",
       "                                                   &#x27;arrival_date_week_number&#x27;,\n",
       "                                                   &#x27;arrival_date_day_of_month&#x27;,\n",
       "                                                   &#x27;stays_in_weekend_nights&#x27;,\n",
       "                                                   &#x27;stays_in_week_nights&#x27;,\n",
       "                                                   &#x27;adults&#x27;, &#x27;children&#x27;,\n",
       "                                                   &#x27;babies&#x27;,\n",
       "                                                   &#x27;previous_cancellations&#x27;,\n",
       "                                                   &#x27;previous_bookings_not_canceled&#x27;,\n",
       "                                                   &#x27;agent&#x27;,...\n",
       "                                                   &#x27;total_of_special_requests&#x27;]),\n",
       "                                                 (&#x27;cat&#x27;,\n",
       "                                                  FunctionTransformer(func=&lt;function encode at 0x0000024001BDB060&gt;),\n",
       "                                                  [&#x27;hotel&#x27;, &#x27;meal&#x27;,\n",
       "                                                   &#x27;market_segment&#x27;,\n",
       "                                                   &#x27;distribution_channel&#x27;,\n",
       "                                                   &#x27;is_repeated_guest&#x27;,\n",
       "                                                   &#x27;reserved_room_type&#x27;,\n",
       "                                                   &#x27;deposit_type&#x27;,\n",
       "                                                   &#x27;customer_type&#x27;, &#x27;season&#x27;,\n",
       "                                                   &#x27;year&#x27;, &#x27;month&#x27;, &#x27;day&#x27;])])),\n",
       "                (&#x27;model&#x27;,\n",
       "                 GradientBoostingClassifier(learning_rate=0.19017940550879572,\n",
       "                                            max_depth=10, n_estimators=145))])</pre></div></div></div><div class=\"sk-serial\"><div class=\"sk-item sk-dashed-wrapped\"><div class=\"sk-label-container\"><div class=\"sk-label sk-toggleable\"><input class=\"sk-toggleable__control sk-hidden--visually\" id=\"sk-estimator-id-39\" type=\"checkbox\" ><label for=\"sk-estimator-id-39\" class=\"sk-toggleable__label sk-toggleable__label-arrow\">preprocessing: ColumnTransformer</label><div class=\"sk-toggleable__content\"><pre>ColumnTransformer(transformers=[(&#x27;num&#x27;,\n",
       "                                 FunctionTransformer(func=&lt;function normalize at 0x0000024001B9F9C0&gt;),\n",
       "                                 [&#x27;lead_time&#x27;, &#x27;arrival_date_week_number&#x27;,\n",
       "                                  &#x27;arrival_date_day_of_month&#x27;,\n",
       "                                  &#x27;stays_in_weekend_nights&#x27;,\n",
       "                                  &#x27;stays_in_week_nights&#x27;, &#x27;adults&#x27;, &#x27;children&#x27;,\n",
       "                                  &#x27;babies&#x27;, &#x27;previous_cancellations&#x27;,\n",
       "                                  &#x27;previous_bookings_not_canceled&#x27;, &#x27;agent&#x27;,\n",
       "                                  &#x27;adr&#x27;, &#x27;required_car_parking_spaces&#x27;,\n",
       "                                  &#x27;total_of_special_requests&#x27;]),\n",
       "                                (&#x27;cat&#x27;,\n",
       "                                 FunctionTransformer(func=&lt;function encode at 0x0000024001BDB060&gt;),\n",
       "                                 [&#x27;hotel&#x27;, &#x27;meal&#x27;, &#x27;market_segment&#x27;,\n",
       "                                  &#x27;distribution_channel&#x27;, &#x27;is_repeated_guest&#x27;,\n",
       "                                  &#x27;reserved_room_type&#x27;, &#x27;deposit_type&#x27;,\n",
       "                                  &#x27;customer_type&#x27;, &#x27;season&#x27;, &#x27;year&#x27;, &#x27;month&#x27;,\n",
       "                                  &#x27;day&#x27;])])</pre></div></div></div><div class=\"sk-parallel\"><div class=\"sk-parallel-item\"><div class=\"sk-item\"><div class=\"sk-label-container\"><div class=\"sk-label sk-toggleable\"><input class=\"sk-toggleable__control sk-hidden--visually\" id=\"sk-estimator-id-40\" type=\"checkbox\" ><label for=\"sk-estimator-id-40\" class=\"sk-toggleable__label sk-toggleable__label-arrow\">num</label><div class=\"sk-toggleable__content\"><pre>[&#x27;lead_time&#x27;, &#x27;arrival_date_week_number&#x27;, &#x27;arrival_date_day_of_month&#x27;, &#x27;stays_in_weekend_nights&#x27;, &#x27;stays_in_week_nights&#x27;, &#x27;adults&#x27;, &#x27;children&#x27;, &#x27;babies&#x27;, &#x27;previous_cancellations&#x27;, &#x27;previous_bookings_not_canceled&#x27;, &#x27;agent&#x27;, &#x27;adr&#x27;, &#x27;required_car_parking_spaces&#x27;, &#x27;total_of_special_requests&#x27;]</pre></div></div></div><div class=\"sk-serial\"><div class=\"sk-item\"><div class=\"sk-estimator sk-toggleable\"><input class=\"sk-toggleable__control sk-hidden--visually\" id=\"sk-estimator-id-41\" type=\"checkbox\" ><label for=\"sk-estimator-id-41\" class=\"sk-toggleable__label sk-toggleable__label-arrow\">FunctionTransformer</label><div class=\"sk-toggleable__content\"><pre>FunctionTransformer(func=&lt;function normalize at 0x0000024001B9F9C0&gt;)</pre></div></div></div></div></div></div><div class=\"sk-parallel-item\"><div class=\"sk-item\"><div class=\"sk-label-container\"><div class=\"sk-label sk-toggleable\"><input class=\"sk-toggleable__control sk-hidden--visually\" id=\"sk-estimator-id-42\" type=\"checkbox\" ><label for=\"sk-estimator-id-42\" class=\"sk-toggleable__label sk-toggleable__label-arrow\">cat</label><div class=\"sk-toggleable__content\"><pre>[&#x27;hotel&#x27;, &#x27;meal&#x27;, &#x27;market_segment&#x27;, &#x27;distribution_channel&#x27;, &#x27;is_repeated_guest&#x27;, &#x27;reserved_room_type&#x27;, &#x27;deposit_type&#x27;, &#x27;customer_type&#x27;, &#x27;season&#x27;, &#x27;year&#x27;, &#x27;month&#x27;, &#x27;day&#x27;]</pre></div></div></div><div class=\"sk-serial\"><div class=\"sk-item\"><div class=\"sk-estimator sk-toggleable\"><input class=\"sk-toggleable__control sk-hidden--visually\" id=\"sk-estimator-id-43\" type=\"checkbox\" ><label for=\"sk-estimator-id-43\" class=\"sk-toggleable__label sk-toggleable__label-arrow\">FunctionTransformer</label><div class=\"sk-toggleable__content\"><pre>FunctionTransformer(func=&lt;function encode at 0x0000024001BDB060&gt;)</pre></div></div></div></div></div></div></div></div><div class=\"sk-item\"><div class=\"sk-estimator sk-toggleable\"><input class=\"sk-toggleable__control sk-hidden--visually\" id=\"sk-estimator-id-44\" type=\"checkbox\" ><label for=\"sk-estimator-id-44\" class=\"sk-toggleable__label sk-toggleable__label-arrow\">GradientBoostingClassifier</label><div class=\"sk-toggleable__content\"><pre>GradientBoostingClassifier(learning_rate=0.19017940550879572, max_depth=10,\n",
       "                           n_estimators=145)</pre></div></div></div></div></div></div></div>"
      ],
      "text/plain": [
       "Pipeline(steps=[('preprocessing',\n",
       "                 ColumnTransformer(transformers=[('num',\n",
       "                                                  FunctionTransformer(func=<function normalize at 0x0000024001B9F9C0>),\n",
       "                                                  ['lead_time',\n",
       "                                                   'arrival_date_week_number',\n",
       "                                                   'arrival_date_day_of_month',\n",
       "                                                   'stays_in_weekend_nights',\n",
       "                                                   'stays_in_week_nights',\n",
       "                                                   'adults', 'children',\n",
       "                                                   'babies',\n",
       "                                                   'previous_cancellations',\n",
       "                                                   'previous_bookings_not_canceled',\n",
       "                                                   'agent',...\n",
       "                                                   'total_of_special_requests']),\n",
       "                                                 ('cat',\n",
       "                                                  FunctionTransformer(func=<function encode at 0x0000024001BDB060>),\n",
       "                                                  ['hotel', 'meal',\n",
       "                                                   'market_segment',\n",
       "                                                   'distribution_channel',\n",
       "                                                   'is_repeated_guest',\n",
       "                                                   'reserved_room_type',\n",
       "                                                   'deposit_type',\n",
       "                                                   'customer_type', 'season',\n",
       "                                                   'year', 'month', 'day'])])),\n",
       "                ('model',\n",
       "                 GradientBoostingClassifier(learning_rate=0.19017940550879572,\n",
       "                                            max_depth=10, n_estimators=145))])"
      ]
     },
     "execution_count": 77,
     "metadata": {},
     "output_type": "execute_result"
    }
   ],
   "source": [
    "best_gb = GradientBoostingClassifier(\n",
    "        n_estimators=145,\n",
    "        learning_rate=0.19017940550879572,\n",
    "        max_depth=10\n",
    ")\n",
    "\n",
    "pipeline_gb_best = Pipeline(steps=[\n",
    "    (\"preprocessing\", preprocessor),\n",
    "    (\"model\", best_gb)\n",
    "])\n",
    "\n",
    "pipeline_gb_best.fit(X_train, y_train)"
   ]
  },
  {
   "cell_type": "code",
   "execution_count": 69,
   "metadata": {},
   "outputs": [
    {
     "name": "stdout",
     "output_type": "stream",
     "text": [
      "Cross-validated Precision scores: [0.99915312 0.99915125 0.99932123 0.99847741 0.99847328]\n",
      "Mean Precision from Cross-validation: 0.998915258041025\n",
      "Model Quality: Good Fit\n"
     ]
    }
   ],
   "source": [
    "results.append(evaluate_model_performance(pipeline_gb_best, X_train, y_train, X_test, y_test, 'gb (Best)'))"
   ]
  },
  {
   "cell_type": "markdown",
   "metadata": {},
   "source": [
    "## 2. - Overall Model Comparison"
   ]
  },
  {
   "cell_type": "code",
   "execution_count": 70,
   "metadata": {},
   "outputs": [
    {
     "data": {
      "text/html": [
       "<div>\n",
       "<style scoped>\n",
       "    .dataframe tbody tr th:only-of-type {\n",
       "        vertical-align: middle;\n",
       "    }\n",
       "\n",
       "    .dataframe tbody tr th {\n",
       "        vertical-align: top;\n",
       "    }\n",
       "\n",
       "    .dataframe thead th {\n",
       "        text-align: right;\n",
       "    }\n",
       "</style>\n",
       "<table border=\"1\" class=\"dataframe\">\n",
       "  <thead>\n",
       "    <tr style=\"text-align: right;\">\n",
       "      <th></th>\n",
       "      <th>Name</th>\n",
       "      <th>Train Precision</th>\n",
       "      <th>Test Precision</th>\n",
       "      <th>Train Accuracy</th>\n",
       "      <th>Test Accuracy</th>\n",
       "      <th>Train Recall</th>\n",
       "      <th>Test Recall</th>\n",
       "      <th>Train f1</th>\n",
       "      <th>Test f1</th>\n",
       "      <th>Train time</th>\n",
       "      <th>Test time</th>\n",
       "      <th>Model Quality</th>\n",
       "    </tr>\n",
       "  </thead>\n",
       "  <tbody>\n",
       "    <tr>\n",
       "      <th>0</th>\n",
       "      <td>K-NN (Base)</td>\n",
       "      <td>0.969727</td>\n",
       "      <td>0.940127</td>\n",
       "      <td>0.926467</td>\n",
       "      <td>0.896441</td>\n",
       "      <td>0.827508</td>\n",
       "      <td>0.769711</td>\n",
       "      <td>0.892991</td>\n",
       "      <td>0.846426</td>\n",
       "      <td>9.815728</td>\n",
       "      <td>4.784225</td>\n",
       "      <td>Good Fit</td>\n",
       "    </tr>\n",
       "    <tr>\n",
       "      <th>1</th>\n",
       "      <td>SVM (Base)</td>\n",
       "      <td>0.862865</td>\n",
       "      <td>0.867157</td>\n",
       "      <td>0.815686</td>\n",
       "      <td>0.819624</td>\n",
       "      <td>0.597913</td>\n",
       "      <td>0.606403</td>\n",
       "      <td>0.706361</td>\n",
       "      <td>0.713709</td>\n",
       "      <td>17.318512</td>\n",
       "      <td>8.699089</td>\n",
       "      <td>Good Fit</td>\n",
       "    </tr>\n",
       "    <tr>\n",
       "      <th>2</th>\n",
       "      <td>Decision Tree (Base)</td>\n",
       "      <td>1.000000</td>\n",
       "      <td>0.925448</td>\n",
       "      <td>1.000000</td>\n",
       "      <td>0.947789</td>\n",
       "      <td>1.000000</td>\n",
       "      <td>0.934458</td>\n",
       "      <td>1.000000</td>\n",
       "      <td>0.929931</td>\n",
       "      <td>0.093342</td>\n",
       "      <td>0.046550</td>\n",
       "      <td>Good Fit</td>\n",
       "    </tr>\n",
       "    <tr>\n",
       "      <th>3</th>\n",
       "      <td>Random Forest (Base)</td>\n",
       "      <td>1.000000</td>\n",
       "      <td>0.986445</td>\n",
       "      <td>1.000000</td>\n",
       "      <td>0.955796</td>\n",
       "      <td>1.000000</td>\n",
       "      <td>0.893048</td>\n",
       "      <td>1.000000</td>\n",
       "      <td>0.937426</td>\n",
       "      <td>0.376842</td>\n",
       "      <td>0.164575</td>\n",
       "      <td>Good Fit</td>\n",
       "    </tr>\n",
       "    <tr>\n",
       "      <th>4</th>\n",
       "      <td>Gradient Boost (Base)</td>\n",
       "      <td>0.977664</td>\n",
       "      <td>0.978110</td>\n",
       "      <td>0.914122</td>\n",
       "      <td>0.915709</td>\n",
       "      <td>0.786344</td>\n",
       "      <td>0.790347</td>\n",
       "      <td>0.871629</td>\n",
       "      <td>0.874261</td>\n",
       "      <td>0.331502</td>\n",
       "      <td>0.150355</td>\n",
       "      <td>Good Fit</td>\n",
       "    </tr>\n",
       "    <tr>\n",
       "      <th>5</th>\n",
       "      <td>gb (Best)</td>\n",
       "      <td>0.999932</td>\n",
       "      <td>0.999243</td>\n",
       "      <td>0.999962</td>\n",
       "      <td>0.998017</td>\n",
       "      <td>0.999966</td>\n",
       "      <td>0.995407</td>\n",
       "      <td>0.999949</td>\n",
       "      <td>0.997321</td>\n",
       "      <td>0.738958</td>\n",
       "      <td>0.370769</td>\n",
       "      <td>Good Fit</td>\n",
       "    </tr>\n",
       "  </tbody>\n",
       "</table>\n",
       "</div>"
      ],
      "text/plain": [
       "                    Name  Train Precision  Test Precision  Train Accuracy  \\\n",
       "0            K-NN (Base)         0.969727        0.940127        0.926467   \n",
       "1             SVM (Base)         0.862865        0.867157        0.815686   \n",
       "2   Decision Tree (Base)         1.000000        0.925448        1.000000   \n",
       "3   Random Forest (Base)         1.000000        0.986445        1.000000   \n",
       "4  Gradient Boost (Base)         0.977664        0.978110        0.914122   \n",
       "5              gb (Best)         0.999932        0.999243        0.999962   \n",
       "\n",
       "   Test Accuracy  Train Recall  Test Recall  Train f1   Test f1  Train time  \\\n",
       "0       0.896441      0.827508     0.769711  0.892991  0.846426    9.815728   \n",
       "1       0.819624      0.597913     0.606403  0.706361  0.713709   17.318512   \n",
       "2       0.947789      1.000000     0.934458  1.000000  0.929931    0.093342   \n",
       "3       0.955796      1.000000     0.893048  1.000000  0.937426    0.376842   \n",
       "4       0.915709      0.786344     0.790347  0.871629  0.874261    0.331502   \n",
       "5       0.998017      0.999966     0.995407  0.999949  0.997321    0.738958   \n",
       "\n",
       "   Test time Model Quality  \n",
       "0   4.784225      Good Fit  \n",
       "1   8.699089      Good Fit  \n",
       "2   0.046550      Good Fit  \n",
       "3   0.164575      Good Fit  \n",
       "4   0.150355      Good Fit  \n",
       "5   0.370769      Good Fit  "
      ]
     },
     "execution_count": 70,
     "metadata": {},
     "output_type": "execute_result"
    }
   ],
   "source": [
    "# Create a dataframe to store the evaluation reports\n",
    "eval_report = pd.DataFrame(results)\n",
    "eval_report"
   ]
  },
  {
   "cell_type": "markdown",
   "metadata": {},
   "source": [
    "After doing hyperparameter tuning using optuna framkework, The train and test precision are improved (Almost prefectly). Other than that, the other metrics also improved, although the train and test time are increased."
   ]
  },
  {
   "cell_type": "markdown",
   "metadata": {},
   "source": [
    "# X. - MODEL ANALYSIS"
   ]
  },
  {
   "cell_type": "markdown",
   "metadata": {},
   "source": [
    "I will analyze the feature importance using Shap value. SHAP is a library that can help me explain the output of a model by assigning each feature an importance value."
   ]
  },
  {
   "cell_type": "code",
   "execution_count": 73,
   "metadata": {},
   "outputs": [],
   "source": [
    "feature_names = num_col + cat_col"
   ]
  },
  {
   "cell_type": "code",
   "execution_count": 78,
   "metadata": {},
   "outputs": [
    {
     "data": {
      "image/png": "[encoded data removed]",
      "text/plain": [
       "<Figure size 640x480 with 1 Axes>"
      ]
     },
     "metadata": {},
     "output_type": "display_data"
    }
   ],
   "source": [
    "importances = pipeline_gb_best.named_steps['model'].feature_importances_\n",
    "\n",
    "# Sort feature importances in descending order\n",
    "indices = np.argsort(importances)[::-1]\n",
    "\n",
    "names = [feature_names[i] for i in indices]\n",
    "\n",
    "# Create plot\n",
    "plt.figure()\n",
    "\n",
    "# Create plot title\n",
    "plt.title(\"Feature Importance\")\n",
    "\n",
    "# Add bars\n",
    "plt.bar(range(len(feature_names)), importances[indices])\n",
    "\n",
    "# Add feature names as x-axis labels\n",
    "plt.xticks(range(len(feature_names)), names, rotation=90)\n",
    "\n",
    "# Show plot\n",
    "plt.show()"
   ]
  },
  {
   "cell_type": "markdown",
   "metadata": {},
   "source": [
    "Apparently, `deposit_type` is the biggest factor for model to decide whether a client will cancel their reservation or not. We can gain insights from this by analysing further."
   ]
  },
  {
   "cell_type": "code",
   "execution_count": 81,
   "metadata": {},
   "outputs": [
    {
     "name": "stdout",
     "output_type": "stream",
     "text": [
      "  deposit_type  0_count  1_count\n",
      "0   No Deposit    74792    29669\n",
      "1   Non Refund       93    14494\n",
      "2   Refundable      126       36\n"
     ]
    }
   ],
   "source": [
    "grouped_df = data_clean.groupby(['deposit_type', 'is_canceled']).size().unstack(fill_value=0).reset_index()\n",
    "\n",
    "# Rename the columns for clarity\n",
    "grouped_df.columns = ['deposit_type', '0_count', '1_count']\n",
    "\n",
    "# Print the result\n",
    "print(grouped_df)"
   ]
  },
  {
   "cell_type": "markdown",
   "metadata": {},
   "source": [
    "A very high number of clients that book with `Non Refund` policy cancelled their bookings, almost 100% of them. The hotel should fix this policy to reduce their cancellation rate."
   ]
  },
  {
   "cell_type": "code",
   "execution_count": 88,
   "metadata": {},
   "outputs": [
    {
     "data": {
      "image/png": "[encoded data removed]",
      "text/plain": [
       "<Figure size 640x480 with 1 Axes>"
      ]
     },
     "metadata": {},
     "output_type": "display_data"
    }
   ],
   "source": [
    "bar_width = 0.35\n",
    "\n",
    "# Get the x locations for the groups\n",
    "r1 = range(len(grouped_df['deposit_type']))\n",
    "r2 = [x + bar_width for x in r1]\n",
    "\n",
    "# Create the bar chart\n",
    "plt.bar(r1, grouped_df['0_count'], color='b', width=bar_width, edgecolor='grey', label='not cancelled')\n",
    "plt.bar(r2, grouped_df['1_count'], color='r', width=bar_width, edgecolor='grey', label='cancelled')\n",
    "\n",
    "# Adding labels\n",
    "plt.xlabel('Deposit Type', fontweight='bold')\n",
    "plt.xticks([r + bar_width for r in range(len(grouped_df['0_count']))], grouped_df['deposit_type'])\n",
    "plt.ylabel('Count')\n",
    "plt.legend()\n",
    "\n",
    "# Show the plot\n",
    "plt.show()"
   ]
  },
  {
   "cell_type": "markdown",
   "metadata": {},
   "source": [
    "# XI. - MODEL SAVING"
   ]
  },
  {
   "cell_type": "code",
   "execution_count": 87,
   "metadata": {},
   "outputs": [],
   "source": [
    "with open('deployment\\\\pipeline_best.pkl', 'wb') as file_1:\n",
    "    pickle.dump(pipeline_gb_best, file_1)"
   ]
  },
  {
   "cell_type": "markdown",
   "metadata": {},
   "source": [
    "# XII. - Model Inference"
   ]
  },
  {
   "cell_type": "markdown",
   "metadata": {},
   "source": [
    "Model Inference will be done in `inference.ipynb`"
   ]
  },
  {
   "cell_type": "markdown",
   "metadata": {},
   "source": [
    "# XIII. - Conclusion"
   ]
  },
  {
   "cell_type": "markdown",
   "metadata": {},
   "source": [
    "Hotel booking cancellations are a major problem for the hotel industry, as they might cause significant revenue losses to the owner. Moreover, cancellations are often unpredictable and depend a lot factors, such as the deposit type, the customer profile, and the seasonality. Therefore, it is important for hotel managers to have a way of forecasting the demand and the cancellation probability for each booking, so that they can optimize their pricing, inventory, and operational strategies. XYZ a tourism company that have been experiencing a lot of cancellation in some of their hotel. They need a classification machine learning model that can help them forecast whether or not a customer is going to cancel their booking. In this project I'm trying to build a clasification model using Hotel Booking Demand Dataset.\n",
    "\n",
    "Before creating the model, I need to perform an exploratory analysis on the dataset. Here are insights and recommendations I composed based on the analisis that I've done:\n",
    "\n",
    "1. both hotels are very popular in europian countries, especially Portugal, so XYZ should target more guests from these countries. They also should try to explore market potential in countries nearby those countries, as the citizens may have similar preferences or needs. They should also increase their customer loyalty by customizing their services based on those countries cultures, for example serving sourthern europian dishes, or offering promos on those countries national holidays.\n",
    "\n",
    "2. Both hotel has similar seasonal pattern where the peak arrival of customers are in August, while the lowest arrival of custumers are in January. To adress this, the company should prepare for their services in summer season, especially in August. This recommendation also supported by the fact that summer is holiday season in most europian countries, especially Portugal. To prepare apropriately, the company should also acknowledge the fact that their hotels are not popular in winter, the lowest in January, and will gradually rises again at the end of winter (February).\n",
    "\n",
    "3. In both hotel, the cancellation is highest in Summer, this makes sense as the reservations are also peaked at Summer. To address this, the company may have to implement some policies to discourage cancellations, especially in the Summer seasons, when the demand is high. For example, the company can charge a cancellation fee.\n",
    "\n",
    "4. There is a significance difference between the average daily rate generated by city hotel compared to resort hotel. City hotel was having higher `idr` generated. XYZ should focus on their city hotel, since it generates more money for them.\n",
    "\n",
    "The models created in this project shows a perfect or almost perfect precision test. This means the model can almost always guessed correctly the canceled reservations.\n",
    "\n",
    "After analyzing each feature importance based on the model, I found out that deposit type is the biggest factor deciding whether a customer will cancel their booking or not. After analyzing further, I identified that bookings with Non Refundable deposit type has almost 100% cancellation rate. To fix this, XYZ can review their refund policy. For example, removing Non-Refundable choice, while adding a deposit type called refundable partially."
   ]
  }
 ],
 "metadata": {
  "kernelspec": {
   "display_name": "base",
   "language": "python",
   "name": "python3"
  },
  "language_info": {
   "codemirror_mode": {
    "name": "ipython",
    "version": 3
   },
   "file_extension": ".py",
   "mimetype": "text/x-python",
   "name": "python",
   "nbconvert_exporter": "python",
   "pygments_lexer": "ipython3",
   "version": "3.11.5"
  }
 },
 "nbformat": 4,
 "nbformat_minor": 2
}
